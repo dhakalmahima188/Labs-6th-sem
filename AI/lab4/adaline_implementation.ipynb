{
 "cells": [
  {
   "cell_type": "code",
   "execution_count": 1,
   "metadata": {},
   "outputs": [
    {
     "name": "stdout",
     "output_type": "stream",
     "text": [
      "Input: [-1, -1], Predicted output: -1\n",
      "Input: [-1, 1], Predicted output: -1\n",
      "Input: [1, -1], Predicted output: -1\n",
      "Input: [1, 1], Predicted output: 1\n"
     ]
    }
   ],
   "source": [
    "\n",
    "def AdalineAND(x_y, epochs, learning_rate,x_y_in):\n",
    "    \n",
    "    target=[-1,-1,-1,1]\n",
    "    weights=[[0.1,0.2],[0.3,0.4],[0.4,0.5],[0.6,0.7]]\n",
    "    biases=[0,0,0,1]\n",
    "\n",
    "    for i in range(epochs):\n",
    "        for j in range(len(x_y_in)):\n",
    "            initial_prediction = biases[j] + weights[j][0]*x_y_in[j][0] + weights[j][1]*x_y_in[j][1] # formula : b + w1*x1 + w2*x2\n",
    "            weights[j][0] += learning_rate * (target[j]-initial_prediction) * x_y_in[j][0] # formula : w1 = w1 + learning_rate * (target - initial_prediction) * x1\n",
    "            weights[j][1] += learning_rate * (target[j]-initial_prediction) * x_y_in[j][1] # formula : w2 = w2 + learning_rate * (target - initial_prediction) * x2\n",
    "            biases[j] += learning_rate * (target[j]-initial_prediction) # formula : b = b + learning_rate * (target - initial_prediction)\n",
    "   \n",
    "    # print(weights)\n",
    "    # print(biases)\n",
    "    \n",
    "    index=x_y_in.index(x_y) \n",
    "    weight=weights[index]\n",
    "    bias=biases[index]\n",
    "    prediction=x_y[0]*weight[0]+x_y[1]*weight[1]+bias\n",
    "    return round(prediction,3)\n",
    "\n",
    "x_y_in=[[-1,-1],[-1,1],[1,-1],[1,1]]\n",
    "for i in range(len(x_y_in)):\n",
    "    prediction = AdalineAND(x_y_in[i], 100000, 0.1,x_y_in)\n",
    "    print(f\"Input: {x_y_in[i]}, Predicted output: {int(prediction)}\")\n"
   ]
  },
  {
   "cell_type": "code",
   "execution_count": null,
   "metadata": {},
   "outputs": [],
   "source": []
  }
 ],
 "metadata": {
  "kernelspec": {
   "display_name": "Python 3",
   "language": "python",
   "name": "python3"
  },
  "language_info": {
   "codemirror_mode": {
    "name": "ipython",
    "version": 3
   },
   "file_extension": ".py",
   "mimetype": "text/x-python",
   "name": "python",
   "nbconvert_exporter": "python",
   "pygments_lexer": "ipython3",
   "version": "3.10.1"
  },
  "orig_nbformat": 4,
  "vscode": {
   "interpreter": {
    "hash": "04eb5fd3382f5ae6ecd8e5ea5943a43c2b77f84302c9ef3aee2bb26e0a62d38e"
   }
  }
 },
 "nbformat": 4,
 "nbformat_minor": 2
}
