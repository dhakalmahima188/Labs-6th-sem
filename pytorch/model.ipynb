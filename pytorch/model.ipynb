{
 "cells": [
  {
   "cell_type": "code",
   "execution_count": 3,
   "metadata": {},
   "outputs": [],
   "source": [
    "import torch\n",
    "import numpy as np\n",
    "from torch import nn \n"
   ]
  },
  {
   "cell_type": "code",
   "execution_count": 4,
   "metadata": {},
   "outputs": [],
   "source": [
    "#create linear regression model\n",
    "#gradient descent and back propagation\n",
    "\n",
    "class LinearRegressionModel(nn.Module):\n",
    "#  nn.Module is the base class for all neural network modules\n",
    "    def __init__(self):\n",
    "        super().__init__() #childclass of nn.Module\n",
    "        self.weights = nn.Parameter(torch.randn(1,dtype=torch.float32),requires_grad=True) \n",
    "#keep trakc of the weights and bias\n",
    "        self.bias = nn.Parameter(torch.randn(1,dtype=torch.float32),requires_grad=True) \n",
    "\n",
    "    # Forward defines the computation in the model\n",
    "    def forward(self, x: torch.Tensor) -> torch.Tensor: #overriding the forward method of nn.Module\n",
    "        return self.weights * x + self.bias "
   ]
  },
  {
   "cell_type": "code",
   "execution_count": null,
   "metadata": {},
   "outputs": [],
   "source": [
    "#steps to train the model\n",
    "#torchvision.transforms \n",
    "#torch.utils.data.dataset\n",
    "#torch.utils.data.dataloader\n",
    "\n",
    "#pick a loss function or build a training loop\n",
    "#torch.nn.\n",
    "#torch.nn.module\n",
    "#torchvision.models\n",
    "#torchmetrics\n",
    "#torch.utils.tensorboard\n",
    "#reload the model"
   ]
  },
  {
   "cell_type": "code",
   "execution_count": 7,
   "metadata": {},
   "outputs": [
    {
     "data": {
      "text/plain": [
       "OrderedDict([('weights', tensor([1.5410])), ('bias', tensor([-0.2934]))])"
      ]
     },
     "execution_count": 7,
     "metadata": {},
     "output_type": "execute_result"
    }
   ],
   "source": [
    "torch.manual_seed(0) #set the seed for reproducibility\n",
    "model_0 = LinearRegressionModel() #create a model\n",
    "list(model_0.parameters()) #print the parameters of the model\n",
    "model_0.state_dict() #print the state of the parameters of the model"
   ]
  },
  {
   "cell_type": "code",
   "execution_count": null,
   "metadata": {},
   "outputs": [],
   "source": []
  }
 ],
 "metadata": {
  "kernelspec": {
   "display_name": "Python 3",
   "language": "python",
   "name": "python3"
  },
  "language_info": {
   "codemirror_mode": {
    "name": "ipython",
    "version": 3
   },
   "file_extension": ".py",
   "mimetype": "text/x-python",
   "name": "python",
   "nbconvert_exporter": "python",
   "pygments_lexer": "ipython3",
   "version": "3.10.6"
  },
  "orig_nbformat": 4,
  "vscode": {
   "interpreter": {
    "hash": "916dbcbb3f70747c44a77c7bcd40155683ae19c65e1c03b4aa3499c5328201f1"
   }
  }
 },
 "nbformat": 4,
 "nbformat_minor": 2
}
