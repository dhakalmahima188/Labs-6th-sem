{
 "cells": [
  {
   "cell_type": "code",
   "execution_count": 2,
   "metadata": {},
   "outputs": [],
   "source": [
    "import torch\n",
    "import numpy as np\n"
   ]
  },
  {
   "cell_type": "code",
   "execution_count": 11,
   "metadata": {},
   "outputs": [
    {
     "data": {
      "text/plain": [
       "array([[1., 1., 1.],\n",
       "       [1., 1., 1.],\n",
       "       [1., 1., 1.]], dtype=float32)"
      ]
     },
     "execution_count": 11,
     "metadata": {},
     "output_type": "execute_result"
    }
   ],
   "source": [
    "array=np.arange(0,9)\n",
    "tesnor=torch.from_numpy(array) # converting numpy to tensor\n",
    "n_tensor=torch.ones(3,3)\n",
    "n_tensor.numpy() # converting tensor to numpy"
   ]
  },
  {
   "cell_type": "code",
   "execution_count": 3,
   "metadata": {},
   "outputs": [
    {
     "data": {
      "text/plain": [
       "tensor([[0.7975, 0.6405, 0.1988],\n",
       "        [0.6112, 0.7122, 0.0238],\n",
       "        [0.0385, 0.1905, 0.9203]])"
      ]
     },
     "execution_count": 3,
     "metadata": {},
     "output_type": "execute_result"
    }
   ],
   "source": [
    "#REproducility : start with random and upate\n",
    "#random seed flavours randomness\n",
    "torch.rand(3,3)\n"
   ]
  },
  {
   "cell_type": "code",
   "execution_count": 4,
   "metadata": {},
   "outputs": [
    {
     "name": "stdout",
     "output_type": "stream",
     "text": [
      "tensor([[False, False, False, False],\n",
      "        [False, False, False, False],\n",
      "        [False, False, False, False]])\n"
     ]
    }
   ],
   "source": [
    "import torch\n",
    "ran_A=torch.rand(3,4)\n",
    "ran_B=torch.rand(3,4)\n",
    "print(ran_A==ran_B)"
   ]
  },
  {
   "cell_type": "code",
   "execution_count": 12,
   "metadata": {},
   "outputs": [
    {
     "name": "stdout",
     "output_type": "stream",
     "text": [
      "tensor([[0.4736, 0.6136, 0.0121, 0.0396],\n",
      "        [0.5674, 0.2538, 0.5338, 0.6093],\n",
      "        [0.7162, 0.6043, 0.9980, 0.1445]])\n",
      "tensor([[0.4736, 0.6136, 0.0121, 0.0396],\n",
      "        [0.5674, 0.2538, 0.5338, 0.6093],\n",
      "        [0.7162, 0.6043, 0.9980, 0.1445]])\n",
      "tensor([[True, True, True, True],\n",
      "        [True, True, True, True],\n",
      "        [True, True, True, True]])\n"
     ]
    }
   ],
   "source": [
    "#reproducile tensors\n",
    "ran_seed=21\n",
    "torch.manual_seed(ran_seed)\n",
    "ran_c=torch.rand(3,4)\n",
    "torch.manual_seed(ran_seed)\n",
    "ran_d=torch.rand(3,4) \n",
    "print(ran_c)   \n",
    "print(ran_d)  \n",
    "print(ran_c==ran_d)              "
   ]
  },
  {
   "cell_type": "code",
   "execution_count": 16,
   "metadata": {},
   "outputs": [
    {
     "data": {
      "text/plain": [
       "False"
      ]
     },
     "execution_count": 16,
     "metadata": {},
     "output_type": "execute_result"
    }
   ],
   "source": [
    "#tensors in gpu : use google collabs, use cloud computing power for free\n",
    "\n",
    "torch.cuda.is_available() #check if gpu is available\n"
   ]
  },
  {
   "cell_type": "code",
   "execution_count": null,
   "metadata": {},
   "outputs": [],
   "source": []
  }
 ],
 "metadata": {
  "kernelspec": {
   "display_name": "Python 3",
   "language": "python",
   "name": "python3"
  },
  "language_info": {
   "codemirror_mode": {
    "name": "ipython",
    "version": 3
   },
   "file_extension": ".py",
   "mimetype": "text/x-python",
   "name": "python",
   "nbconvert_exporter": "python",
   "pygments_lexer": "ipython3",
<<<<<<< HEAD
   "version": "3.10.1 (tags/v3.10.1:2cd268a, Dec  6 2021, 19:10:37) [MSC v.1929 64 bit (AMD64)]"
=======
   "version": "3.10.6 (main, Nov 14 2022, 16:10:14) [GCC 11.3.0]"
>>>>>>> 1401a2c8fc87756ef7f54aff4f48f04f75734c6e
  },
  "orig_nbformat": 4,
  "vscode": {
   "interpreter": {
    "hash": "916dbcbb3f70747c44a77c7bcd40155683ae19c65e1c03b4aa3499c5328201f1"
   }
  }
 },
 "nbformat": 4,
 "nbformat_minor": 2
}
