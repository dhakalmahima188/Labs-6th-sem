{
 "cells": [
  {
   "cell_type": "code",
   "execution_count": 2,
   "metadata": {},
   "outputs": [
    {
     "data": {
      "text/plain": [
       "'1.13.0+cpu'"
      ]
     },
     "execution_count": 2,
     "metadata": {},
     "output_type": "execute_result"
    }
   ],
   "source": [
    "import torch\n",
    "torch.__version__"
   ]
  },
  {
   "cell_type": "code",
   "execution_count": 14,
   "metadata": {},
   "outputs": [
    {
     "data": {
      "text/plain": [
       "torch.Size([4, 3, 2])"
      ]
     },
     "execution_count": 14,
     "metadata": {},
     "output_type": "execute_result"
    }
   ],
   "source": [
    "#permute :Returns a view of the original tensor input with its dimensions permuted.\n",
    "x=torch.randn(2,3,4)\n",
    "x.size()\n",
    "y=torch.permute(x,(2,1,0)) #alter dimensions of xyz\n",
    "y.size()\n",
    "# help(torch.randn)"
   ]
  },
  {
   "cell_type": "code",
   "execution_count": 16,
   "metadata": {},
   "outputs": [
    {
     "name": "stdout",
     "output_type": "stream",
     "text": [
      "torch.Size([4, 222, 322]) torch.Size([4, 222, 322])\n"
     ]
    }
   ],
   "source": [
    "x_org=torch.randn(size=(222,322,4)) #h, w, color\n",
    "x_permuted=torch.permute(x_org,(2,0,1)) #color, h, w\n",
    "y_permuted=x_org.permute(2,0,1) #0->2, 1->0, 2->1\n",
    "print(x_permuted.size(),y_permuted.size())"
   ]
  },
  {
   "cell_type": "code",
   "execution_count": 40,
   "metadata": {},
   "outputs": [
    {
     "name": "stdout",
     "output_type": "stream",
     "text": [
      "tensor([[[0, 1],\n",
      "         [2, 3]],\n",
      "\n",
      "        [[4, 5],\n",
      "         [6, 7]]]) torch.Size([2, 2, 2])\n"
     ]
    },
    {
     "data": {
      "text/plain": [
       "5"
      ]
     },
     "execution_count": 40,
     "metadata": {},
     "output_type": "execute_result"
    }
   ],
   "source": [
    "#indexing\n",
    "\n",
    "a=torch.arange(0,8)\n",
    "b=torch.reshape(a,(2,2,2))\n",
    "print(b,b.shape)\n",
    "b[1][0][1].item()\n",
    "#2nd row first column second element"
   ]
  },
  {
   "cell_type": "code",
   "execution_count": 52,
   "metadata": {},
   "outputs": [
    {
     "name": "stdout",
     "output_type": "stream",
     "text": [
      "tensor([[[0, 1],\n",
      "         [2, 3]],\n",
      "\n",
      "        [[4, 5],\n",
      "         [6, 7]]]) tensor([[0, 2],\n",
      "        [4, 6]])\n"
     ]
    }
   ],
   "source": [
    "print(b,b[: ,:,0]) #all rows, all columns, 0th element      #slicing"
   ]
  },
  {
   "cell_type": "code",
   "execution_count": null,
   "metadata": {},
   "outputs": [],
   "source": [
    "#pytorch and numpy\n"
   ]
  }
 ],
 "metadata": {
  "kernelspec": {
   "display_name": "Python 3",
   "language": "python",
   "name": "python3"
  },
  "language_info": {
   "codemirror_mode": {
    "name": "ipython",
    "version": 3
   },
   "file_extension": ".py",
   "mimetype": "text/x-python",
   "name": "python",
   "nbconvert_exporter": "python",
   "pygments_lexer": "ipython3",
   "version": "3.10.1 (tags/v3.10.1:2cd268a, Dec  6 2021, 19:10:37) [MSC v.1929 64 bit (AMD64)]"
  },
  "orig_nbformat": 4,
  "vscode": {
   "interpreter": {
    "hash": "04eb5fd3382f5ae6ecd8e5ea5943a43c2b77f84302c9ef3aee2bb26e0a62d38e"
   }
  }
 },
 "nbformat": 4,
 "nbformat_minor": 2
}
