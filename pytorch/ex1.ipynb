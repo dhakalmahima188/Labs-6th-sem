{
 "cells": [
  {
   "cell_type": "code",
   "execution_count": 2,
   "metadata": {},
   "outputs": [
    {
     "data": {
      "text/plain": [
       "tensor([[0.0954, 0.0709, 0.0156, 0.7765, 0.6167, 0.9908, 0.5753],\n",
       "        [0.7572, 0.8235, 0.6222, 0.1402, 0.3337, 0.4389, 0.2774],\n",
       "        [0.8034, 0.3606, 0.4005, 0.2792, 0.5815, 0.1501, 0.2712],\n",
       "        [0.5250, 0.5287, 0.1243, 0.1602, 0.3049, 0.5242, 0.2864],\n",
       "        [0.7917, 0.5586, 0.5096, 0.8829, 0.2111, 0.2315, 0.9038],\n",
       "        [0.0606, 0.8725, 0.7348, 0.1775, 0.0018, 0.3231, 0.1939],\n",
       "        [0.8637, 0.0907, 0.2510, 0.7289, 0.6368, 0.9131, 0.2812]])"
      ]
     },
     "execution_count": 2,
     "metadata": {},
     "output_type": "execute_result"
    }
   ],
   "source": [
    "#Create a random tensor with shape (7, 7).\n",
    "import torch\n",
    "tens=torch.rand(7,7)\n",
    "tens"
   ]
  },
  {
   "cell_type": "code",
   "execution_count": 4,
   "metadata": {},
   "outputs": [
    {
     "data": {
      "text/plain": [
       "tensor([[1.6798],\n",
       "        [2.1226],\n",
       "        [1.6991],\n",
       "        [1.5443],\n",
       "        [2.0481],\n",
       "        [1.3974],\n",
       "        [2.2897]])"
      ]
     },
     "execution_count": 4,
     "metadata": {},
     "output_type": "execute_result"
    }
   ],
   "source": [
    "#Perform a matrix multiplication on the tensor from 2 with another random tensor with shape (1, 7)\n",
    "mat1=torch.rand(1,7)\n",
    "ans=torch.mm(tens,mat1.t()) #transpose of mat1\n",
    "ans"
   ]
  },
  {
   "cell_type": "code",
   "execution_count": 7,
   "metadata": {},
   "outputs": [
    {
     "data": {
      "text/plain": [
       "(tensor([[0.4963, 0.7682, 0.0885, 0.1320, 0.3074, 0.6341, 0.4901],\n",
       "         [0.8964, 0.4556, 0.6323, 0.3489, 0.4017, 0.0223, 0.1689],\n",
       "         [0.2939, 0.5185, 0.6977, 0.8000, 0.1610, 0.2823, 0.6816],\n",
       "         [0.9152, 0.3971, 0.8742, 0.4194, 0.5529, 0.9527, 0.0362],\n",
       "         [0.1852, 0.3734, 0.3051, 0.9320, 0.1759, 0.2698, 0.1507],\n",
       "         [0.0317, 0.2081, 0.9298, 0.7231, 0.7423, 0.5263, 0.2437],\n",
       "         [0.5846, 0.0332, 0.1387, 0.2422, 0.8155, 0.7932, 0.2783]]),\n",
       " tensor([[0.4963, 0.7682, 0.0885, 0.1320, 0.3074, 0.6341, 0.4901]]),\n",
       " tensor([[1.3055, 0.7656, 1.4680, 1.7605, 1.2351, 1.7132, 1.6972],\n",
       "         [1.5988, 1.6870, 1.5625, 2.2354, 0.9872, 1.4216, 1.2876],\n",
       "         [1.1548, 1.5178, 1.2467, 1.8199, 0.8495, 1.2515, 1.2735],\n",
       "         [1.2654, 1.0286, 1.0356, 1.5447, 0.7201, 0.9301, 1.1246],\n",
       "         [1.6384, 1.8372, 2.2996, 2.1322, 1.5694, 1.7525, 1.3732],\n",
       "         [1.0892, 1.0191, 1.3485, 1.4345, 0.8434, 1.2137, 0.5210],\n",
       "         [1.5293, 1.5523, 1.6111, 2.5839, 1.3505, 1.8286, 2.0411]]))"
      ]
     },
     "execution_count": 7,
     "metadata": {},
     "output_type": "execute_result"
    }
   ],
   "source": [
    "#Set the random seed to 0 and do exercises 2 & 3 over again.\n",
    "rand_seed=0\n",
    "torch.manual_seed(rand_seed)\n",
    "mat1=torch.rand(7,7)\n",
    "torch.manual_seed(rand_seed)\n",
    "mat2=torch.rand(1,7)\n",
    "mat3=torch.mm(tens,mat1.t())\n",
    "mat1,mat2,mat3"
   ]
  },
  {
   "cell_type": "code",
   "execution_count": 9,
   "metadata": {},
   "outputs": [
    {
     "data": {
      "text/plain": [
       "(tensor(2.5839), tensor(0.5210))"
      ]
     },
     "execution_count": 9,
     "metadata": {},
     "output_type": "execute_result"
    }
   ],
   "source": [
    "#Find the maximum and minimum values of the output.\n",
    "torch.max(mat3),torch.min(mat3)"
   ]
  },
  {
   "cell_type": "code",
   "execution_count": 10,
   "metadata": {},
   "outputs": [
    {
     "data": {
      "text/plain": [
       "(tensor(45), tensor(41))"
      ]
     },
     "execution_count": 10,
     "metadata": {},
     "output_type": "execute_result"
    }
   ],
   "source": [
    "#Find the maximum and minimum index values of the output \n",
    "torch.argmax(mat3),torch.argmin(mat3)   \n",
    "                      "
   ]
  },
  {
   "cell_type": "code",
   "execution_count": 18,
   "metadata": {},
   "outputs": [
    {
     "data": {
      "text/plain": [
       "(torch.Size([10]), torch.Size([10]))"
      ]
     },
     "execution_count": 18,
     "metadata": {},
     "output_type": "execute_result"
    }
   ],
   "source": [
    "\"\"\" \n",
    "Make a random tensor with shape (1, 1, 1, 10) and then create a new tensor with all the 1 dimensions removed to be left with a tensor of shape (10). Set the seed to 7 when you create it and print out the first tensor  and it's shape as well as the second tensor and it's shape.\"\"\"\n",
    "torch.manual_seed(7)\n",
    "x=torch.rand(1,1,1,10)\n",
    "y=x.squeeze()\n",
    "y.shape\n",
    "torch.manual_seed(7)\n",
    "z=torch.rand(10)\n",
    "z.shape,y.shape\n",
    "\n"
   ]
  },
  {
   "cell_type": "code",
   "execution_count": null,
   "metadata": {},
   "outputs": [],
   "source": []
  }
 ],
 "metadata": {
  "kernelspec": {
   "display_name": "Python 3",
   "language": "python",
   "name": "python3"
  },
  "language_info": {
   "codemirror_mode": {
    "name": "ipython",
    "version": 3
   },
   "file_extension": ".py",
   "mimetype": "text/x-python",
   "name": "python",
   "nbconvert_exporter": "python",
   "pygments_lexer": "ipython3",
   "version": "3.10.1 (tags/v3.10.1:2cd268a, Dec  6 2021, 19:10:37) [MSC v.1929 64 bit (AMD64)]"
  },
  "orig_nbformat": 4,
  "vscode": {
   "interpreter": {
    "hash": "04eb5fd3382f5ae6ecd8e5ea5943a43c2b77f84302c9ef3aee2bb26e0a62d38e"
   }
  }
 },
 "nbformat": 4,
 "nbformat_minor": 2
}
