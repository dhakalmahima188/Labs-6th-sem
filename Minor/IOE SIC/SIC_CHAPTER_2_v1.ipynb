{
 "cells": [
  {
   "cell_type": "markdown",
   "metadata": {
    "id": "NvZEYi4hQZHj"
   },
   "source": [
    "# Python Programing Basic  - Sequence Data type in Python"
   ]
  },
  {
   "cell_type": "markdown",
   "metadata": {
    "id": "0xw7nPGuQhTQ"
   },
   "source": [
    "## UNIT 10 List and Tuple Data Types"
   ]
  },
  {
   "cell_type": "markdown",
   "metadata": {
    "id": "inXsLwvNRFHK"
   },
   "source": [
    "### what is List ?\n",
    "\n",
    "**List is a data structure that can contain an individual value in a single variable or data value.**\n",
    "\n",
    "  - It is much more convenient and efficient than writing and managing multiple variable names.\n",
    "  - Duplication and operation can be done all at once.\n",
    "\n",
    "**item or element**\n",
    "   - Items or elements form a list.   \n",
    "   - The data values are distinguished with a comma for saving.\n",
    "   - Reference is importation of the list and it uses index.\n",
    "   - The list declaration and element reference can be done as follows.\n",
    " \n"
   ]
  },
  {
   "cell_type": "code",
   "execution_count": null,
   "metadata": {
    "id": "B39dFoqhQTD1"
   },
   "outputs": [],
   "source": [
    "score_list = [86,67,89,54,91]\n",
    "print(score_list)"
   ]
  },
  {
   "cell_type": "code",
   "execution_count": null,
   "metadata": {
    "id": "RONVK47wBoMt"
   },
   "outputs": [],
   "source": [
    "score_list = [86,67,89,54,91]\n",
    "print(score_list[0],score_list[3])"
   ]
  },
  {
   "cell_type": "markdown",
   "metadata": {
    "id": "QukO7dWjBzK0"
   },
   "source": [
    "### List and Index \n",
    "\n",
    "**No restrictions are applied to the data types to be included in the list.**\n",
    "\n",
    "   - Save and import the four strings including 'banana', 'apple', 'orange', 'kiwi’ in the fruits list.\n",
    "   - It is possible to save integers like 100, 200, 400 and string value ‘apple’ at the same time in the mixed_list.\n"
   ]
  },
  {
   "cell_type": "code",
   "execution_count": null,
   "metadata": {
    "id": "YPZlLEsoBtor"
   },
   "outputs": [],
   "source": [
    "fruits = [\"banana\",\"apple\",\"orange\",\"kiwi\"]\n",
    "print(fruits)"
   ]
  },
  {
   "cell_type": "code",
   "execution_count": null,
   "metadata": {
    "id": "cuCzGsYRCPA9"
   },
   "outputs": [],
   "source": [
    "mixed_lists = [100,200,\"apple\",400]\n",
    "print(mixed_lists)"
   ]
  },
  {
   "cell_type": "markdown",
   "metadata": {
    "id": "L3lX8lqgCdVw"
   },
   "source": [
    "### The range() function to create sequence \n",
    "\n",
    "   - A list can be created by using the range or strings.\n",
    "   - Obtain the sequence of numbers from 1 to 9 with the function range(1, 10) and create a list containing the array of those elements by using the list function.\n"
   ]
  },
  {
   "cell_type": "code",
   "execution_count": null,
   "metadata": {
    "id": "xOXm1DeLCYJy"
   },
   "outputs": [],
   "source": [
    "list4 = list(range(1,4))\n",
    "print(list4)"
   ]
  },
  {
   "cell_type": "markdown",
   "metadata": {
    "id": "sNldWvtjC1lL"
   },
   "source": [
    "### List Indexing and calculating length \n",
    "\n",
    "  - In the list, the index of the first item is 0, and the index of the last item is n-1.\n",
    "  - Use the len function to calculate the number of items in the list, which in other words the length of the list.\n"
   ]
  },
  {
   "cell_type": "code",
   "execution_count": null,
   "metadata": {
    "id": "_c34zPeoCtU-"
   },
   "outputs": [],
   "source": [
    "n_list = [11,22,33,44,55,66]\n",
    "\n",
    "# The length of n_list is 6, and the accessible indexing range is 0 ~ 5.\n",
    "print(n_list) \n",
    "print(len(n_list))"
   ]
  },
  {
   "cell_type": "code",
   "execution_count": null,
   "metadata": {
    "id": "XWnjOacaDK4f"
   },
   "outputs": [],
   "source": [
    "print(n_list[0],n_list[1])"
   ]
  },
  {
   "cell_type": "markdown",
   "metadata": {
    "id": "1QJPysnODcQn"
   },
   "source": [
    "### Cautions in list indexing\n",
    "\n",
    " - Do not deviate index range"
   ]
  },
  {
   "cell_type": "code",
   "execution_count": null,
   "metadata": {
    "id": "LFnoIHDEDX7k"
   },
   "outputs": [],
   "source": [
    "n_list = [11,22,33,44,55,66]\n",
    "print(n_list[5])"
   ]
  },
  {
   "cell_type": "code",
   "execution_count": null,
   "metadata": {
    "id": "wmJ4b1JKDs93"
   },
   "outputs": [],
   "source": [
    "print(n_list[6])"
   ]
  },
  {
   "cell_type": "markdown",
   "metadata": {
    "id": "FdfqY4hqD1dM"
   },
   "source": [
    " - Do not insert an index value that is greater than the max. index value.\n",
    " - The max. index is len(n_list)-1.\n",
    " - When deviating the accessible index range, the following error occurs:  IndexError: list index out of range\n"
   ]
  },
  {
   "cell_type": "markdown",
   "metadata": {
    "id": "wQ5RachdD9OA"
   },
   "source": [
    "### Negative Index\n",
    "   - Making an approach to the element is possible by using negative indices. \n"
   ]
  },
  {
   "cell_type": "code",
   "execution_count": null,
   "metadata": {
    "id": "MSajb9WGDu39"
   },
   "outputs": [],
   "source": [
    "n_list = [11,22,33,44,55,66]\n",
    "\n",
    "print(n_list[-1]) # The last element value of the list can be approached with the negative index -1.\n",
    "\n",
    "print(n_list[-2])\n",
    "print(n_list[-3])"
   ]
  },
  {
   "cell_type": "markdown",
   "metadata": {
    "id": "zAym8BNKEXzm"
   },
   "source": [
    "### Addition, Deletion, and Expansion of List Elements\n",
    "\n",
    "   - Use the + calculation to add two different lists.\n",
    "   - In the following cases, all items of person 1 and person 2 will be included in a single list.\n",
    "\n"
   ]
  },
  {
   "cell_type": "code",
   "execution_count": null,
   "metadata": {
    "id": "SMyU72TUELGS"
   },
   "outputs": [],
   "source": [
    "person1 = [\"john Doe\",10, 11,180,90.25]\n",
    "person2 = [\"john smith\",11,22,190,91.78]"
   ]
  },
  {
   "cell_type": "code",
   "execution_count": null,
   "metadata": {
    "id": "zHoETdBfEyin"
   },
   "outputs": [],
   "source": [
    "person_list = person1+person2\n",
    "print(person_list)"
   ]
  },
  {
   "cell_type": "markdown",
   "metadata": {
    "id": "LJ8WFbBLFCWV"
   },
   "source": [
    "### The append() method for list element addition\n",
    "\n",
    "   - Addition or deletion of desired items is possible in the existing list\n",
    "   - append method: A method to insert a new item to the end of an existing list.\n",
    "   - Method is the built-in function of a list and is called by using the .(dot) operator. \n",
    "   - Method will be discussed in detail later.\n"
   ]
  },
  {
   "cell_type": "code",
   "execution_count": null,
   "metadata": {
    "id": "lKY4jq4oE0gh"
   },
   "outputs": [],
   "source": [
    "a_list = ['a','b','c','d','e']\n",
    "a_list.append('f')\n",
    "print(a_list)"
   ]
  },
  {
   "cell_type": "code",
   "execution_count": null,
   "metadata": {
    "id": "nKbTWU1dFSXm"
   },
   "outputs": [],
   "source": [
    "n_list = [1,2,3,4]\n",
    "n_list.append(5)\n",
    "print(n_list)"
   ]
  },
  {
   "cell_type": "markdown",
   "metadata": {
    "id": "jGV4ZC6RFjmD"
   },
   "source": [
    "### The extend() method for list element addition\n",
    "\n",
    "  - extend method: Adds a list or item behind the list. \n",
    "  - As provided below, arguments [1, 2, 3] are given. If so, the elements of the [1, 2, 3] list are added to the behind of the [‘a’, ‘b’, ‘c’] list which will result in [‘a’, ‘b’, ‘c’, 1, 2, 3].\n",
    "  - Inserting an individual element such as ‘d’ is also possible.\n"
   ]
  },
  {
   "cell_type": "code",
   "execution_count": null,
   "metadata": {
    "id": "k5hLryRjFcWH"
   },
   "outputs": [],
   "source": [
    "list1 = ['a','b','c','d']\n",
    "list2 = [1,2,3]\n",
    "\n",
    "list1.extend(list2)\n",
    "\n",
    "print(list1)"
   ]
  },
  {
   "cell_type": "code",
   "execution_count": null,
   "metadata": {
    "id": "tpwVnynbF1CX"
   },
   "outputs": [],
   "source": [
    "list1.extend('d')\n",
    "print(list1)"
   ]
  },
  {
   "cell_type": "markdown",
   "metadata": {
    "id": "DnYgePHsGEB6"
   },
   "source": [
    "   - When using the append method to the list1 below, the result [11, 22, 33, 44, 55, 66] won’t be generated.\n",
    "   - When calling the list1.append([5AC5, 66]) method, the list items [55, 66] will be added behind [11, 22, 33, 44], so the list1 will be [11, 22, 33, 44, [55, 66]].\n"
   ]
  },
  {
   "cell_type": "code",
   "execution_count": null,
   "metadata": {
    "id": "3rQEMho-F6ng"
   },
   "outputs": [],
   "source": [
    "list1 = [11,22,33,44]\n",
    "list1.append([55,66])\n",
    "print(list1)"
   ]
  },
  {
   "cell_type": "markdown",
   "metadata": {
    "id": "mxkl_IgdGSPL"
   },
   "source": [
    " - When adding the items of a new list inside a list, the extend method can be used. \n",
    "- Practice with making the following program.\n"
   ]
  },
  {
   "cell_type": "code",
   "execution_count": null,
   "metadata": {
    "id": "jxj0_KtAGNYL"
   },
   "outputs": [],
   "source": [
    "list1 = [11,22,33,44]\n",
    "list1.extend([55,66])\n",
    "print(list1)"
   ]
  },
  {
   "cell_type": "markdown",
   "metadata": {
    "id": "frTAtlhqGchs"
   },
   "source": [
    "### Deletion with del keyword\n",
    "\n",
    " - Delete the item in the designated index\n",
    " - Caution: Deletion is not possible with the del 44 method.\n"
   ]
  },
  {
   "cell_type": "code",
   "execution_count": null,
   "metadata": {
    "id": "Q_yvISPpGX5r"
   },
   "outputs": [],
   "source": [
    "n_list = [11,22,33,44,55,66]\n",
    "print(n_list)"
   ]
  },
  {
   "cell_type": "code",
   "execution_count": null,
   "metadata": {
    "id": "BIlUXNO9GppF"
   },
   "outputs": [],
   "source": [
    "del n_list[2]\n",
    "print(n_list)"
   ]
  },
  {
   "cell_type": "markdown",
   "metadata": {
    "id": "JPjkPoWzGz8E"
   },
   "source": [
    "### Deletion with pop() method \n",
    "\n",
    "The pop method returns and delete the last item of the list. \n"
   ]
  },
  {
   "cell_type": "code",
   "execution_count": null,
   "metadata": {
    "id": "6ZywO0nNGs3m"
   },
   "outputs": [],
   "source": [
    "n_list = [10,20,30,40,50]\n",
    "\n",
    "print(n_list)"
   ]
  },
  {
   "cell_type": "code",
   "execution_count": null,
   "metadata": {
    "id": "wvbjv_QcG74X"
   },
   "outputs": [],
   "source": [
    "n = n_list.pop()\n",
    "\n",
    "print(f'Element poped:{n}')\n",
    "print(f'The new list is: {n_list}')"
   ]
  },
  {
   "cell_type": "markdown",
   "metadata": {
    "id": "akLQj1nuHL51"
   },
   "source": [
    "### Deletion with remove() method \n",
    "\n",
    " - Delete a certain value from the list by using the list’s method.\n",
    " - Use the same method as remove(44). \n"
   ]
  },
  {
   "cell_type": "code",
   "execution_count": null,
   "metadata": {
    "id": "INJXindmHGtQ"
   },
   "outputs": [],
   "source": [
    "n_list = [11,22,33,44,55,66]\n",
    "print(n_list)\n",
    "\n",
    "n_list.remove(44)\n",
    "\n",
    "print(n_list)"
   ]
  },
  {
   "cell_type": "markdown",
   "metadata": {
    "id": "4SAl57YbHevc"
   },
   "source": [
    " - An error occurs when deleting an invalid item with the remove method.\n",
    " - Do not insert an invalid value.\n"
   ]
  },
  {
   "cell_type": "code",
   "execution_count": null,
   "metadata": {
    "id": "AaLued3xHYuu"
   },
   "outputs": [],
   "source": [
    "n_list.remove(99)"
   ]
  },
  {
   "cell_type": "markdown",
   "metadata": {
    "id": "eb_piiqwHsih"
   },
   "source": [
    "### List Slicing : Example"
   ]
  },
  {
   "cell_type": "code",
   "execution_count": null,
   "metadata": {
    "id": "0qIBgOnsHi4j"
   },
   "outputs": [],
   "source": [
    "a_list = list(range(10,90,10))\n",
    "print(a_list)"
   ]
  },
  {
   "cell_type": "code",
   "execution_count": null,
   "metadata": {
    "id": "HPKP7sqPHx2Q"
   },
   "outputs": [],
   "source": [
    "a_list[1:5]"
   ]
  },
  {
   "cell_type": "code",
   "execution_count": null,
   "metadata": {
    "id": "_FnedVk6IMV2"
   },
   "outputs": [],
   "source": [
    "a_list[0:4]"
   ]
  },
  {
   "cell_type": "code",
   "execution_count": null,
   "metadata": {
    "id": "RMjGu6XEIWaf"
   },
   "outputs": [],
   "source": [
    "a_list[4:8]"
   ]
  },
  {
   "cell_type": "code",
   "execution_count": null,
   "metadata": {
    "id": "4XHOk1NRIYug"
   },
   "outputs": [],
   "source": [
    "a_list[:]"
   ]
  },
  {
   "cell_type": "code",
   "execution_count": null,
   "metadata": {
    "id": "ppHYeTmhIbFT"
   },
   "outputs": [],
   "source": [
    "a_list[:4]"
   ]
  },
  {
   "cell_type": "code",
   "execution_count": null,
   "metadata": {
    "id": "llaxJzK2If9l"
   },
   "outputs": [],
   "source": [
    "a_list[4:]"
   ]
  },
  {
   "cell_type": "markdown",
   "metadata": {
    "id": "abhMS_V5KWoX"
   },
   "source": [
    "### List slicing of negative indices\n",
    "\n",
    "The index of the end element becomes -1, and the elements in front of it are assigned -2, -3, … \n",
    "\n"
   ]
  },
  {
   "cell_type": "code",
   "execution_count": null,
   "metadata": {
    "id": "RKG8PzTxIhc0"
   },
   "outputs": [],
   "source": [
    "a_list = list(range(10,90,10))\n",
    "neg_index = list(range(-8,0,1))\n",
    "print(a_list)\n",
    "print(neg_index)"
   ]
  },
  {
   "cell_type": "code",
   "execution_count": null,
   "metadata": {
    "id": "ZTaxDIDxK34c"
   },
   "outputs": [],
   "source": [
    "a_list[neg_index[0]]"
   ]
  },
  {
   "cell_type": "code",
   "execution_count": null,
   "metadata": {
    "id": "OA9I00GwLMmE"
   },
   "outputs": [],
   "source": [
    "a_list[neg_index[3]]"
   ]
  },
  {
   "cell_type": "code",
   "execution_count": null,
   "metadata": {
    "id": "XyaaKP3JLdNZ"
   },
   "outputs": [],
   "source": [
    "a_list[-7:]"
   ]
  },
  {
   "cell_type": "code",
   "execution_count": null,
   "metadata": {
    "id": "GQdJ5bNBLf4r"
   },
   "outputs": [],
   "source": [
    "a_list[-7:-1]"
   ]
  },
  {
   "cell_type": "code",
   "execution_count": null,
   "metadata": {
    "id": "YEhGrPy6LidG"
   },
   "outputs": [],
   "source": [
    "a_list[-3:-7] # doesnot support"
   ]
  },
  {
   "cell_type": "code",
   "execution_count": null,
   "metadata": {
    "id": "BGGL18tZLlSz"
   },
   "outputs": [],
   "source": [
    "a_list[-8:-4]\n"
   ]
  },
  {
   "cell_type": "code",
   "execution_count": null,
   "metadata": {
    "id": "JPhcQd19Lyn0"
   },
   "outputs": [],
   "source": [
    "a_list[-4:]"
   ]
  },
  {
   "cell_type": "markdown",
   "metadata": {
    "id": "Wh-OQYoGL5Cf"
   },
   "source": [
    "### Examining External list values \n",
    "\n",
    "In Operator \n",
    "\n",
    " - “in” operator returns True or False. After examining to see if an element is at a specific sequence, if it is found, it returns True, and False if not. (T“not in” operator returns the opposite.)\n",
    " - However, the for() can list each of the item by using the “in” operator.\n",
    " \n",
    " - It is used to examine if a specific element is included in the data structures such as strings, lists, and tuple.\n"
   ]
  },
  {
   "cell_type": "code",
   "execution_count": null,
   "metadata": {
    "id": "COnG1-pzL1Gm"
   },
   "outputs": [],
   "source": [
    "a_list = [10,20,30,40]\n",
    "10 in a_list "
   ]
  },
  {
   "cell_type": "code",
   "execution_count": null,
   "metadata": {
    "id": "03pXY59HMPxo"
   },
   "outputs": [],
   "source": [
    "-10 in a_list"
   ]
  },
  {
   "cell_type": "code",
   "execution_count": null,
   "metadata": {
    "id": "QZPVZe-MMRg_"
   },
   "outputs": [],
   "source": [
    "'a' in a_list"
   ]
  },
  {
   "cell_type": "code",
   "execution_count": null,
   "metadata": {
    "id": "3WoDjXA_MTbh"
   },
   "outputs": [],
   "source": [
    "'a' not in a_list"
   ]
  },
  {
   "cell_type": "code",
   "execution_count": null,
   "metadata": {
    "id": "x4q3x9z2MZ9c"
   },
   "outputs": [],
   "source": [
    "# use of in operator: for loop implementation \n",
    "\n",
    "for i in a_list:\n",
    "    print(i,end=\" \")"
   ]
  },
  {
   "cell_type": "markdown",
   "metadata": {
    "id": "84we3jn9Mt6M"
   },
   "source": [
    " - Prevent an error in advance by using “in” operation.\n",
    " - Check if there’s a value that will be deleted. Delete with the remove method only if there’s a value for deletion.\n"
   ]
  },
  {
   "cell_type": "code",
   "execution_count": null,
   "metadata": {
    "id": "UPrMnNwzMltJ"
   },
   "outputs": [],
   "source": [
    "n_list = list(range(10,20))"
   ]
  },
  {
   "cell_type": "code",
   "execution_count": null,
   "metadata": {
    "id": "0G4zTsagM6S4"
   },
   "outputs": [],
   "source": [
    "print(n_list)"
   ]
  },
  {
   "cell_type": "code",
   "execution_count": null,
   "metadata": {
    "id": "_c_iJTwDM8dm"
   },
   "outputs": [],
   "source": [
    "if 10 in n_list:\n",
    "    n_list.remove(10)\n",
    "\n",
    "print(n_list)\n",
    "\n",
    "if 17 in n_list:\n",
    "    n_list.remove(17)\n",
    "\n",
    "\n",
    "print(n_list)"
   ]
  },
  {
   "cell_type": "markdown",
   "metadata": {
    "id": "jLF9CyKTNPG6"
   },
   "source": [
    "## Tuple: mutable and immutable data type\n",
    "\n",
    "- Python data types are classified in immutable and mutable data types as provided in the figure below. Tuple is extremely similar with the list.However, the data of tuple cannot be changed once designated, and it is a representative immutable data type.\n",
    "- Once designated, tuple data cannot be changed, so its simple structure and quick access speed compared to the list are advantages of tuple. Choose an appropriate data type depending on the purpose. \n",
    "\n"
   ]
  },
  {
   "cell_type": "markdown",
   "metadata": {
    "id": "wbHETT5mNlDj"
   },
   "source": [
    "### Data type in which the values cannot be changed once created: Tuple\n",
    "\n",
    " - Create a simple tuple as follows.\n",
    " - It seems similar with the list, but there are differences between them. \n"
   ]
  },
  {
   "cell_type": "code",
   "execution_count": null,
   "metadata": {
    "id": "JYJrRRUVNJ6U"
   },
   "outputs": [],
   "source": [
    "colors = (\"red\",\"green\",\"blue\")\n",
    "print(colors)"
   ]
  },
  {
   "cell_type": "code",
   "execution_count": null,
   "metadata": {
    "id": "ezyS-YeUNvm_"
   },
   "outputs": [],
   "source": [
    "numbers  = (1,2,3,4,5)\n",
    "print(numbers)"
   ]
  },
  {
   "cell_type": "code",
   "execution_count": null,
   "metadata": {
    "id": "DWVBtxyfN0Kd"
   },
   "outputs": [],
   "source": [
    "print(type(colors))\n",
    "print(type(numbers))"
   ]
  },
  {
   "cell_type": "markdown",
   "metadata": {
    "id": "mbZu_R_ZSw4p"
   },
   "source": [
    "Data type in which the values cannot be changed once created: Tuple\n",
    "\n",
    "\n",
    "- The most important characteristic of the tuple is that the values won’t be changed.\n",
    "- If trying to change the internal values of tuple as shown in the code above, TypeError occurs. \n",
    "- An error also occurs when trying to delete the element value by using del t1[0].\n"
   ]
  },
  {
   "cell_type": "code",
   "execution_count": null,
   "metadata": {
    "id": "0k0lKGBmN3j3"
   },
   "outputs": [],
   "source": [
    "t1 = (1,2,3,4)\n",
    "print(t1)"
   ]
  },
  {
   "cell_type": "code",
   "execution_count": null,
   "metadata": {
    "id": "PG2lCjwNS7bY"
   },
   "outputs": [],
   "source": [
    "t1[0] = 100"
   ]
  },
  {
   "cell_type": "markdown",
   "metadata": {
    "id": "2s49VunxTOZV"
   },
   "source": [
    "## Paper Coding"
   ]
  },
  {
   "cell_type": "markdown",
   "metadata": {
    "id": "22fzk45STQys"
   },
   "source": [
    "#### PC 1. \n",
    "Create prime_list that has prime numbers between 2~10 as its elements. Then, use list indexing to the first element of the list and print as shown below.\n",
    "\n",
    "![image.png](data:image/png;base64,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)"
   ]
  },
  {
   "cell_type": "markdown",
   "metadata": {
    "id": "e6Ig4LwrTrtB"
   },
   "source": [
    "#### PC2. \n",
    "Create prime_list that has prime numbers between 1~10 as its elements. Then, use the append method to add 11. Print the results before and after addition as shown below.\n",
    "\n",
    "![image.png](data:image/png;base64,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)\n"
   ]
  },
  {
   "cell_type": "markdown",
   "metadata": {
    "id": "2k-A34exT2c_"
   },
   "source": [
    "#### PC3. \n",
    "For the list1 and list2, use the nested for loop to multiply each element of list1 and list2 and then print the result with the element multiplication result. \n",
    "\n",
    "![image.png](data:image/png;base64,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)\n",
    "\n",
    "\n",
    "![image.png](data:image/png;base64,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)\n",
    "\n",
    "\n",
    "output example:\n",
    "\n",
    "![image.png](data:image/png;base64,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)\n"
   ]
  },
  {
   "cell_type": "markdown",
   "metadata": {
    "id": "aFsobw4CVJ3e"
   },
   "source": [
    "### Significance of the list\n",
    "\n",
    "\n",
    "create a list and save data all at once. In Python, you can create a list with []. For instance, write as following to save the height of 5 different students in a list.\n"
   ]
  },
  {
   "cell_type": "code",
   "execution_count": null,
   "metadata": {
    "id": "tFwy9UWxVGuf"
   },
   "outputs": [],
   "source": [
    "# use list to store multiple values in a single variable\n",
    "\n",
    "heights = [10,11,11.34,11.45,11.89]\n",
    "print(heights)"
   ]
  },
  {
   "cell_type": "markdown",
   "metadata": {
    "id": "v-jutKOzVcyA"
   },
   "source": [
    "### create a list with multiple items \n",
    "\n",
    "\n",
    "In Python, the list can be created as other variables. Write the items in [] and save as variables, then the list variable will be created. The following is an example of a simple list made with 3 members of BTS.\n"
   ]
  },
  {
   "cell_type": "code",
   "execution_count": null,
   "metadata": {
    "id": "iBa4xYHKVWFL"
   },
   "outputs": [],
   "source": [
    "bts = ['v','jungkook','jimin']\n",
    "print(bts)"
   ]
  },
  {
   "cell_type": "markdown",
   "metadata": {
    "id": "hTZvnf2WVqsN"
   },
   "source": [
    "create an empty list as follows:"
   ]
  },
  {
   "cell_type": "code",
   "execution_count": null,
   "metadata": {
    "id": "ZtT4DBplVo2Y"
   },
   "outputs": [],
   "source": [
    "bts = []\n",
    "print(bts)"
   ]
  },
  {
   "cell_type": "markdown",
   "metadata": {
    "id": "eWk2ORoMV1kg"
   },
   "source": [
    "### create a list with multiple items \n",
    "\n",
    "How can an empty list without any items be used? Items can be added to the empty list by using codes. Most of the time, we cannot predict how many items will be included in the list, and if so, using an empty list is helpful. Use the append method to newly add items to the list.\n"
   ]
  },
  {
   "cell_type": "code",
   "execution_count": null,
   "metadata": {
    "id": "ujV_-H0dVvxx"
   },
   "outputs": [],
   "source": [
    "bts = []\n",
    "\n",
    "bts.append('V')\n",
    "bts.append('jungkook')\n",
    "bts.append('jimim')\n",
    "\n",
    "print(bts)"
   ]
  },
  {
   "cell_type": "markdown",
   "metadata": {
    "id": "_QgzNQg5WECJ"
   },
   "source": [
    "The most convenient way to add an element in a list is to use the + operator."
   ]
  },
  {
   "cell_type": "code",
   "execution_count": null,
   "metadata": {
    "id": "hlLsMAbrWAiB"
   },
   "outputs": [],
   "source": [
    "bts = []\n",
    "bts = bts+['V']\n",
    "print(bts)"
   ]
  },
  {
   "cell_type": "markdown",
   "metadata": {
    "id": "6pBKTaNiWVMM"
   },
   "source": [
    "### built-in functions used in list \n",
    "\n",
    "If the following values are found in the list, built-in functions including len, max, min, sum, any can be used for convenience.\n",
    "\n",
    "- len returns the length of the list\n",
    "- max returns the maximum item value of the list, and min returns the minimum item value of the list\n",
    "- If the list has numerical items, sum adds up all of the elements. \n"
   ]
  },
  {
   "cell_type": "code",
   "execution_count": null,
   "metadata": {
    "id": "nYy8NIU_WNFq"
   },
   "outputs": [],
   "source": [
    "n_list = [200,100,500,700,900,-1]"
   ]
  },
  {
   "cell_type": "code",
   "execution_count": null,
   "metadata": {
    "id": "Xg8u5zx1WhhE"
   },
   "outputs": [],
   "source": [
    "len(n_list)"
   ]
  },
  {
   "cell_type": "code",
   "execution_count": null,
   "metadata": {
    "id": "QbuqGJr3WjbW"
   },
   "outputs": [],
   "source": [
    "max(n_list)"
   ]
  },
  {
   "cell_type": "code",
   "execution_count": null,
   "metadata": {
    "id": "gp6XNDKjWliv"
   },
   "outputs": [],
   "source": [
    "min(n_list)"
   ]
  },
  {
   "cell_type": "code",
   "execution_count": null,
   "metadata": {
    "id": "6iFuRFhGWmxF"
   },
   "outputs": [],
   "source": [
    "sum(n_list)"
   ]
  },
  {
   "cell_type": "markdown",
   "metadata": {
    "id": "6cfg-YV0WxGK"
   },
   "source": [
    "### Applicable function for the list \n",
    "\n",
    "- It is possible to add the value created from the range function to the list through list(range()) as shown below. \n",
    "- Among the applicable functions for the list, the any function returns True if there is at least one element that is not 0. any(n_list) returns True.\n",
    "- In the a_list consists of 0 and ‘’ (whitespace), the any function returns False.\n"
   ]
  },
  {
   "cell_type": "code",
   "execution_count": null,
   "metadata": {
    "id": "X91ov4FsWoAY"
   },
   "outputs": [],
   "source": [
    "list(range(1,11))"
   ]
  },
  {
   "cell_type": "code",
   "execution_count": null,
   "metadata": {
    "id": "6Q2KLjfPW7I9"
   },
   "outputs": [],
   "source": [
    "n_list = [100,400,300,500,200]\n",
    "a_list = [0,'']\n",
    "print(n_list)\n",
    "print(a_list)"
   ]
  },
  {
   "cell_type": "code",
   "execution_count": null,
   "metadata": {
    "id": "t8g7FhqqXEZa"
   },
   "outputs": [],
   "source": [
    "any(a_list)"
   ]
  },
  {
   "cell_type": "code",
   "execution_count": null,
   "metadata": {
    "id": "9ExtlL2lXGRQ"
   },
   "outputs": [],
   "source": [
    "any(n_list)"
   ]
  },
  {
   "cell_type": "markdown",
   "metadata": {
    "id": "p7t3TOCLXSsH"
   },
   "source": [
    "### operating the list element value \n",
    "\n",
    "To add an item by using a function, use append or insert functions. While the append function will add an item at the end of the list, insert(index, item) adds an item to a designated index.\n"
   ]
  },
  {
   "cell_type": "code",
   "execution_count": null,
   "metadata": {
    "id": "x-hbxH8yXHqM"
   },
   "outputs": [],
   "source": [
    "slist = [\"a\",10,20,100,\"b\"]"
   ]
  },
  {
   "cell_type": "code",
   "execution_count": null,
   "metadata": {
    "id": "kbfGFkWCXbiL"
   },
   "outputs": [],
   "source": [
    "print(slist)"
   ]
  },
  {
   "cell_type": "code",
   "execution_count": null,
   "metadata": {
    "id": "m_VzVeF7XcxG"
   },
   "outputs": [],
   "source": [
    "slist.insert(1,\"c\")\n",
    "slist.insert(4,\"d\")\n",
    "print(slist)"
   ]
  },
  {
   "cell_type": "markdown",
   "metadata": {
    "id": "AJjAkyLmXs94"
   },
   "source": [
    "### Slicing method \n",
    "\n",
    "To make a new list by selecting some elements from a list, use slicing. For slicing a list, use a colon as following to designate a range.\n"
   ]
  },
  {
   "cell_type": "code",
   "execution_count": null,
   "metadata": {
    "id": "jjfQLA0bXlhT"
   },
   "outputs": [],
   "source": [
    "letters = ['A','B','C','D','E','F']\n",
    "print(letters)"
   ]
  },
  {
   "cell_type": "code",
   "execution_count": null,
   "metadata": {
    "id": "tqB5BGuGX1nA"
   },
   "outputs": [],
   "source": [
    "letters[2:5]"
   ]
  },
  {
   "cell_type": "markdown",
   "metadata": {
    "id": "ftM6zEP_X7b7"
   },
   "source": [
    "- Slicing a list does not damage the original list. It creates and returns a new list. In other words, the slice is a partial copy of the original list.\n",
    "- If the first index is omitted, slicing is done from the start. The following code will do slicing from the 1st item to the 3rd item.\n"
   ]
  },
  {
   "cell_type": "code",
   "execution_count": null,
   "metadata": {
    "id": "VAjv3deJX4Mp"
   },
   "outputs": [],
   "source": [
    "letters[:3]"
   ]
  },
  {
   "cell_type": "markdown",
   "metadata": {
    "id": "e10__NtWYEhF"
   },
   "source": [
    "If the second index is omitted, slicing is done to the end of the list, which is a very convenient function.\n"
   ]
  },
  {
   "cell_type": "code",
   "execution_count": null,
   "metadata": {
    "id": "8CyVnwDmYArD"
   },
   "outputs": [],
   "source": [
    "letters[3:]"
   ]
  },
  {
   "cell_type": "markdown",
   "metadata": {
    "id": "_ypqs73DYMfJ"
   },
   "source": [
    "Slicing a list does not damage the original list. It creates and returns a new list. In other words, the slice is a partial copy of the original list.\n"
   ]
  },
  {
   "cell_type": "code",
   "execution_count": null,
   "metadata": {
    "id": "snyDp5MdYGMM"
   },
   "outputs": [],
   "source": [
    "# colon referes to start:end\n",
    "\n",
    "letters[:]"
   ]
  },
  {
   "cell_type": "code",
   "execution_count": null,
   "metadata": {
    "id": "eaYbJgmdYSug"
   },
   "outputs": [],
   "source": [
    "# read list from start to end but skip with step \n",
    "letters[::2]"
   ]
  },
  {
   "cell_type": "code",
   "execution_count": null,
   "metadata": {
    "id": "ZH--27-1Yb6z"
   },
   "outputs": [],
   "source": [
    "# read back to front\n",
    "letters[::-1]"
   ]
  },
  {
   "cell_type": "markdown",
   "metadata": {
    "id": "4LrjjKGuYqOw"
   },
   "source": [
    "### Sorting methods: sort() \n",
    "\n",
    "Use the sort method of the list for ascending order sorting of the list elements. If adding reverse = True keyword argument, it becomes descending order sorting.\n",
    "- Keyword argument refers to an argument that commands a method or function, and it will be discussed later. \n"
   ]
  },
  {
   "cell_type": "code",
   "execution_count": null,
   "metadata": {
    "id": "OcveJ-hHYg_w"
   },
   "outputs": [],
   "source": [
    "list1 = [10,100,20,-2,90,45]\n",
    "\n",
    "list1.sort()\n",
    "\n",
    "print(list1)"
   ]
  },
  {
   "cell_type": "code",
   "execution_count": null,
   "metadata": {
    "id": "m4619AVjY4MN"
   },
   "outputs": [],
   "source": [
    "list1.sort(reverse=True)\n",
    "print(list1)"
   ]
  },
  {
   "cell_type": "markdown",
   "metadata": {
    "id": "LSpm__jcZBVA"
   },
   "source": [
    "### Methods provided by List\n"
   ]
  },
  {
   "cell_type": "code",
   "execution_count": null,
   "metadata": {
    "id": "twE52_g_Y9Qq"
   },
   "outputs": [],
   "source": [
    "print(dir(list))"
   ]
  },
  {
   "cell_type": "code",
   "execution_count": null,
   "metadata": {
    "id": "UddhkVsOZTMN"
   },
   "outputs": [],
   "source": [
    "\n",
    "# for method in dir(list):\n",
    "#   print(help(method))"
   ]
  },
  {
   "cell_type": "markdown",
   "metadata": {
    "id": "Tq5e2LdyZrtZ"
   },
   "source": [
    "## PAIR PROGRAMMING"
   ]
  },
  {
   "cell_type": "code",
   "execution_count": null,
   "metadata": {},
   "outputs": [],
   "source": [
    "a = [\"a\", \"aa\", \"b\", \"aaa\", \"\"]"
   ]
  },
  {
   "cell_type": "code",
   "execution_count": null,
   "metadata": {},
   "outputs": [],
   "source": [
    "sorted(a)"
   ]
  },
  {
   "cell_type": "code",
   "execution_count": null,
   "metadata": {},
   "outputs": [],
   "source": [
    "sorted(a, key=len)"
   ]
  },
  {
   "cell_type": "code",
   "execution_count": null,
   "metadata": {},
   "outputs": [],
   "source": [
    "help(a.sort)"
   ]
  },
  {
   "cell_type": "code",
   "execution_count": null,
   "metadata": {},
   "outputs": [],
   "source": []
  },
  {
   "cell_type": "markdown",
   "metadata": {
    "id": "aO-DExlAZuSg"
   },
   "source": [
    "#### PP1. \n",
    "There is a list with the string s_list = ['abc', 'bcd', 'bcdefg', 'abba', 'cddc', 'opq’]. Implement the following function to this list.\n",
    "\n",
    "Do not use the min function or sort method to print the shortest string from the strings of s_list. (If there are multiple shortest strings, print the string that shows the first as following.)\n",
    "\n",
    "\n",
    "    output example:\n",
    "    The shortest string : abc\n"
   ]
  },
  {
   "cell_type": "markdown",
   "metadata": {
    "id": "0uu3IcHAaKk-"
   },
   "source": [
    "#### PP2. \n",
    "There is a list with the string s_list = ['abc', 'bcd', 'bcdefg', 'abba', 'cddc', 'opq’]. Implement the following function to this list.\n",
    "\n",
    "Do not use the min function or sort method to print the shortest string from the strings of s_list. (If there are multiple shortest strings, print the string that shows the first as following.)\n",
    "\n",
    "    output example:\n",
    "    The longest string : bcdefg\n"
   ]
  },
  {
   "cell_type": "markdown",
   "metadata": {
    "id": "5P32dGWZaWyI"
   },
   "source": [
    "#### PP3. \n",
    "There is a list with the string s_list = ['abc', 'bcd', 'bcdefg', 'abba', 'cddc', 'opq’]. Implement the following function to this list.\n",
    "\n",
    "- From the pair programming problem earlier, the length of 'abc', 'bcd', 'opq’ are the same as 3. Likewise, if the string lengths are the same, write a program that prints all of the three shortest strings as follows. Use the sort(key=len) function to sort the strings by length and then write a code.\n",
    "\n",
    "\n",
    "    output example:\n",
    "    The shortest strings : 'abc', 'bcd', 'opq'\n"
   ]
  },
  {
   "cell_type": "markdown",
   "metadata": {
    "id": "8TZRKRW2k8DW"
   },
   "source": [
    "## Dictionary Data Type: dict\n",
    "\n",
    "\n",
    "definition:\n",
    "\n",
    "In this unit, we’ll discuss dictionary, which is an extremely useful data structure of python.\n",
    "- Dictionary is a data type that has key-value pair. \n",
    "- It is a widely used data structure since it refers to the value by using the key.\n",
    "- Dictionary is very similar with a list, but its unique characteristic is that it has a key-value pair. \n",
    "- Also, since the dictionary looks up the value by using a key, the keys cannot be duplicated.\n"
   ]
  },
  {
   "cell_type": "markdown",
   "metadata": {
    "id": "Po_vSkJHlXg9"
   },
   "source": [
    "- Dictionary item is defined by being connected with a colon as [key] : [value].\n",
    "- Dictionary consists of more than one item.\n",
    "- The [value] can be looked up by using the [key], but the [value] cannot be used to look up the [key].\n",
    "\n",
    "\n"
   ]
  },
  {
   "cell_type": "markdown",
   "metadata": {
    "id": "b8c1H74hlxTj"
   },
   "source": [
    "### comparison of list and dictionary\n",
    "\n",
    "- In the list, indices can be used to approach each value [value 1], [value 2], … [value n]. Each value is the item.\n",
    "- Indices of the list is from 0 to n-1.\n",
    "- On the other hand, the key-value pair is one item in the dictionary.\n"
   ]
  },
  {
   "cell_type": "markdown",
   "metadata": {
    "id": "EB_fWRW0l-lz"
   },
   "source": [
    "### This is the syntax that defines a dictionary. The key-value pair is combined with a colon.\n",
    "\n",
    "    Dictionary name = {[height 1] : [value 1], …}\n",
    "\n",
    "    person = {'Name' : 'David Doe', 'Age' : 26, 'Weight' : 82 } # Dictionary with name, age, weight\n"
   ]
  },
  {
   "cell_type": "markdown",
   "metadata": {
    "id": "zEBRIAQ8mYtb"
   },
   "source": [
    "### key:value printing using dictionary key\n",
    "\n",
    "Create a dictionary with the following information. As shown in the code below, it is possible to look up ’David Doe’ through the person dictionary key ‘Name,’ and the same method applies to ‘Age’ and ‘Weight.’\n"
   ]
  },
  {
   "cell_type": "code",
   "execution_count": null,
   "metadata": {
    "id": "bl67HTSLZZ1J"
   },
   "outputs": [],
   "source": [
    "person = {'name':'Ram','age':10,'weight':66.45}"
   ]
  },
  {
   "cell_type": "code",
   "execution_count": null,
   "metadata": {
    "id": "bTfyl8ximwD0"
   },
   "outputs": [],
   "source": [
    "print(person)"
   ]
  },
  {
   "cell_type": "code",
   "execution_count": null,
   "metadata": {
    "id": "JvUsocO7mz8k"
   },
   "outputs": [],
   "source": [
    "print(type(person))"
   ]
  },
  {
   "cell_type": "code",
   "execution_count": null,
   "metadata": {
    "id": "N_d-l1UAm1kc"
   },
   "outputs": [],
   "source": [
    "person['name']"
   ]
  },
  {
   "cell_type": "code",
   "execution_count": null,
   "metadata": {
    "id": "3gzvfLj_m3e2"
   },
   "outputs": [],
   "source": [
    "person['age']"
   ]
  },
  {
   "cell_type": "code",
   "execution_count": null,
   "metadata": {
    "id": "v0-YYvsom45h"
   },
   "outputs": [],
   "source": [
    "person['weight']"
   ]
  },
  {
   "cell_type": "code",
   "execution_count": null,
   "metadata": {},
   "outputs": [],
   "source": [
    "person[\"height\"]"
   ]
  },
  {
   "cell_type": "markdown",
   "metadata": {
    "id": "l5a9KqyQnDNF"
   },
   "source": [
    "### Example code for dict key,value\n",
    "\n",
    "Creates a new dictionary named “students” that have [ID number] : [Name] pairs of three students. \n"
   ]
  },
  {
   "cell_type": "code",
   "execution_count": null,
   "metadata": {
    "id": "gUzmtt8im6nH"
   },
   "outputs": [],
   "source": [
    "students = {10001:[1, 2, 3, 4] ,[10002, ]:{1:1, 2:2 },10003:'Sita',10004:'Gita'}"
   ]
  },
  {
   "cell_type": "code",
   "execution_count": null,
   "metadata": {},
   "outputs": [],
   "source": [
    "students"
   ]
  },
  {
   "cell_type": "code",
   "execution_count": null,
   "metadata": {
    "id": "qA7NQoMsnTGE"
   },
   "outputs": [],
   "source": [
    "students[10001]"
   ]
  },
  {
   "cell_type": "code",
   "execution_count": null,
   "metadata": {
    "id": "riSQCjhanUsg"
   },
   "outputs": [],
   "source": [
    "students[10002]"
   ]
  },
  {
   "cell_type": "markdown",
   "metadata": {
    "id": "ipIdZ1Buncpy"
   },
   "source": [
    "### Inserting new item into dictionary \n",
    "\n",
    "Use the following method to insert a new item into dictionary.\n",
    "\n",
    "\n",
    "    Dictionary name [key] = value\n",
    "\n",
    "For deletion, enter the key of the dictionary item to be deleted next to the del keyword.\n",
    "KeyError occurs when trying to delete an item with invalid key.\n"
   ]
  },
  {
   "cell_type": "code",
   "execution_count": null,
   "metadata": {
    "id": "jh8quGFpnV4D"
   },
   "outputs": [],
   "source": [
    "person = {'name':'Ram','age':10,'weight':66.45}\n",
    "\n",
    "person['job'] = 'python developer'\n",
    "person['address'] = 'kathmandu,Nepal'"
   ]
  },
  {
   "cell_type": "code",
   "execution_count": null,
   "metadata": {
    "id": "JKHGE2ZEnxUx"
   },
   "outputs": [],
   "source": [
    "print(person)"
   ]
  },
  {
   "cell_type": "markdown",
   "metadata": {
    "id": "aPtsuw6nn3Mj"
   },
   "source": [
    "Modifying the dictionary item: Modify the item value from 26 to 27 with the key 'Age'\n"
   ]
  },
  {
   "cell_type": "code",
   "execution_count": null,
   "metadata": {
    "id": "CWdUPONlnybb"
   },
   "outputs": [],
   "source": [
    "person['weight'] = 56.66\n",
    "print(person)"
   ]
  },
  {
   "cell_type": "markdown",
   "metadata": {
    "id": "kqGUloVooALZ"
   },
   "source": [
    "### Deleting an item in dictionary\n",
    "\n",
    "Deleting the dictionary item: Delete 'Age': 26 with the del command\n"
   ]
  },
  {
   "cell_type": "code",
   "execution_count": null,
   "metadata": {
    "id": "aUdbwHi9n7ff"
   },
   "outputs": [],
   "source": [
    "print(person)"
   ]
  },
  {
   "cell_type": "code",
   "execution_count": null,
   "metadata": {
    "id": "Y39imSYKoFGm"
   },
   "outputs": [],
   "source": [
    "del person['address']\n",
    "print(person)"
   ]
  },
  {
   "cell_type": "markdown",
   "metadata": {
    "id": "joqGBLw9oOuT"
   },
   "source": [
    "\n",
    "**!! Cautions when deleting a dictionary item – KeyError occurs when deleting with an invalid key**"
   ]
  },
  {
   "cell_type": "code",
   "execution_count": null,
   "metadata": {
    "id": "H8E1NXAHoIY8"
   },
   "outputs": [],
   "source": [
    "person['address']"
   ]
  },
  {
   "cell_type": "markdown",
   "metadata": {
    "id": "Jc1WjM7Poq9q"
   },
   "source": [
    "### Functions and Operators for dictionary:\n",
    "\n",
    "The applicable functions and operators for the dictionary are similar to those of the list.\n",
    "- len function\n",
    "- in operator \n",
    "- not in operator \n",
    "- == and != operator \n"
   ]
  },
  {
   "cell_type": "code",
   "execution_count": null,
   "metadata": {
    "id": "MunuTPYbojOz"
   },
   "outputs": [],
   "source": [
    "person = {'name': 'Ram', 'age': 10, 'weight': 56.66, 'job': 'python developer', 'address': 'kathmandu,Nepal'}"
   ]
  },
  {
   "cell_type": "code",
   "execution_count": null,
   "metadata": {
    "id": "JPthLvLHpIbT"
   },
   "outputs": [],
   "source": [
    "len(person)"
   ]
  },
  {
   "cell_type": "code",
   "execution_count": null,
   "metadata": {
    "id": "i74xqHh0pJmY"
   },
   "outputs": [],
   "source": [
    "'name' in person"
   ]
  },
  {
   "cell_type": "code",
   "execution_count": null,
   "metadata": {
    "id": "um32wJ3jpPnd"
   },
   "outputs": [],
   "source": [
    "'weight' in person "
   ]
  },
  {
   "cell_type": "code",
   "execution_count": null,
   "metadata": {
    "id": "XvaeG0X0pRdg"
   },
   "outputs": [],
   "source": [
    "'location' not in person"
   ]
  },
  {
   "cell_type": "code",
   "execution_count": null,
   "metadata": {
    "id": "KJQamZ2bpUlS"
   },
   "outputs": [],
   "source": [
    "'sita' not in person"
   ]
  },
  {
   "cell_type": "markdown",
   "metadata": {
    "id": "ykuDM5N8pfyL"
   },
   "source": [
    "- == operator returns True if two dictionaries have the same item, and False if not. \n",
    "- != operator returns the opposite value. \n"
   ]
  },
  {
   "cell_type": "code",
   "execution_count": null,
   "metadata": {
    "id": "qXdADLGzpYbu"
   },
   "outputs": [],
   "source": [
    "d1 = {'a':10,'b':20,'c':30}\n",
    "d2 = {'c':30,'a':10,'b':20}"
   ]
  },
  {
   "cell_type": "code",
   "execution_count": null,
   "metadata": {
    "id": "P6UDZ3JSps36"
   },
   "outputs": [],
   "source": [
    "d1==d2"
   ]
  },
  {
   "cell_type": "code",
   "execution_count": null,
   "metadata": {
    "id": "cWJF5yFMpuIZ"
   },
   "outputs": [],
   "source": [
    "d1 != d2"
   ]
  },
  {
   "cell_type": "markdown",
   "metadata": {
    "id": "F7UA0uRlpzd6"
   },
   "source": [
    "**comparison operators are not applicable in dictionary**"
   ]
  },
  {
   "cell_type": "code",
   "execution_count": null,
   "metadata": {
    "id": "P1FboKPZpvmX"
   },
   "outputs": [],
   "source": [
    "d1 > d2"
   ]
  },
  {
   "cell_type": "markdown",
   "metadata": {
    "id": "y0rrIa6FqE4G"
   },
   "source": [
    "#### Example code to convert json data type into dictionary\n",
    "\n",
    "\n",
    "- The json module provides various functions to read json type files or strings as dictionary and convert them into strings.\n",
    "- To read the json type string, the loads function is used. The following is the process of reading and checking dictionary type personal data information in json data type. The json type data consists of strings can be converted into dictionary type through the loads function in the json module.\n"
   ]
  },
  {
   "cell_type": "code",
   "execution_count": null,
   "metadata": {
    "id": "aWTweSLTp5w8"
   },
   "outputs": [],
   "source": [
    "import json"
   ]
  },
  {
   "cell_type": "code",
   "execution_count": null,
   "metadata": {
    "id": "kHUK1bD4qTHC"
   },
   "outputs": [],
   "source": [
    "person  = {'name': 'Ram', 'age': 10, 'weight': 56.66, 'job': 'python developer', 'address': 'kathmandu,Nepal','isMarried':True}\n"
   ]
  },
  {
   "cell_type": "markdown",
   "metadata": {
    "id": "4IlooE2ZqbGk"
   },
   "source": [
    "convert dictionary to json"
   ]
  },
  {
   "cell_type": "code",
   "execution_count": null,
   "metadata": {
    "id": "VdazuWs6qaPS"
   },
   "outputs": [],
   "source": [
    "j = json.dumps(person) \n",
    "print(j)\n",
    "print(type(j))"
   ]
  },
  {
   "cell_type": "markdown",
   "metadata": {
    "id": "wcbBPHHFqtNi"
   },
   "source": [
    "convert json data into dictionary"
   ]
  },
  {
   "cell_type": "code",
   "execution_count": null,
   "metadata": {
    "id": "bvupQQvEqiHW"
   },
   "outputs": [],
   "source": [
    "d = json.loads(j)\n",
    "print(d)\n",
    "print(type(d))"
   ]
  },
  {
   "cell_type": "code",
   "execution_count": null,
   "metadata": {
    "id": "MK1abH-Gqz95"
   },
   "outputs": [],
   "source": [
    "d['name']"
   ]
  },
  {
   "cell_type": "markdown",
   "metadata": {
    "id": "kveYQcAerJeN"
   },
   "source": [
    "### Example code to convert dictionary data type into json\n",
    "\n",
    "\n",
    "- Use the with() and open function to create the book.json text data in the writing mode (’w’).\n",
    "- Use the json.dump command to record the json_data in the file “f” in json type.\n",
    "Indent by using indent = '\\t’\n",
    "\n"
   ]
  },
  {
   "cell_type": "code",
   "execution_count": null,
   "metadata": {
    "id": "CajBmrqDq1kB"
   },
   "outputs": [],
   "source": [
    "data = j\n",
    "print(type(data))"
   ]
  },
  {
   "cell_type": "code",
   "execution_count": null,
   "metadata": {
    "id": "iVmvXrLWrNp3"
   },
   "outputs": [],
   "source": [
    "json_data = json.loads(data)\n",
    "\n",
    "# code to create json_data as person.json file \n",
    "\n",
    "with open('person.json','w') as f:\n",
    "  json.dump(json_data,f,indent='\\t')"
   ]
  },
  {
   "cell_type": "markdown",
   "metadata": {
    "id": "QAG06j6nsRkR"
   },
   "source": [
    "## Paper Coding"
   ]
  },
  {
   "cell_type": "code",
   "execution_count": null,
   "metadata": {
    "id": "ZF_OZVUyc0es"
   },
   "outputs": [],
   "source": []
  },
  {
   "cell_type": "markdown",
   "metadata": {
    "id": "95EAnzkGsU18"
   },
   "source": [
    "#### PC4 . \n",
    "Create the capital_dic dictionary with the following string key-value items. Then, use the capital_dic to write results regarding Korea in the following dictionary items.\n",
    "\n",
    "\n",
    "![image.png](data:image/png;base64,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)\n",
    "\n",
    "output example:\n",
    "\n",
    "Seoul"
   ]
  },
  {
   "attachments": {
    "image.png": {
     "image/png": "[encoded data removed]"
    }
   },
   "cell_type": "markdown",
   "metadata": {
    "id": "mJxCYOikstbR"
   },
   "source": [
    "#### PC 5. \n",
    "Create the fruits_dic dictionary that has elements of the following key-value items. Then, use this dictionary to print the price of each fruit as shown below.\n",
    "\n",
    "\n",
    "![image.png](attachment:image.png)"
   ]
  },
  {
   "cell_type": "markdown",
   "metadata": {
    "id": "6mQRbKOwtJCd"
   },
   "source": [
    "### Dictionary declaration\n",
    "\n",
    "There are many ways to create a dictionary, but first use { } to create an empty dictionary and then add phone numbers one by one.\n"
   ]
  },
  {
   "cell_type": "code",
   "execution_count": null,
   "metadata": {
    "id": "m3jBE2BOrxDc"
   },
   "outputs": [],
   "source": [
    "phone_book = {}"
   ]
  },
  {
   "cell_type": "code",
   "execution_count": null,
   "metadata": {
    "id": "8u06UELqr6LA"
   },
   "outputs": [],
   "source": [
    "phone_book[\"David\"] = \"01-554422\"\n",
    "print(phone_book)"
   ]
  },
  {
   "cell_type": "markdown",
   "metadata": {
    "id": "xPetWrIZtdNr"
   },
   "source": [
    "Dictionary can be created and initialized at the same time."
   ]
  },
  {
   "cell_type": "code",
   "execution_count": null,
   "metadata": {
    "id": "XrJeDo_5tW-y"
   },
   "outputs": [],
   "source": [
    "phone_book = {'David':\"01-554422\",'ioe':\"01-553322\"}\n",
    "print(phone_book)"
   ]
  },
  {
   "cell_type": "markdown",
   "metadata": {
    "id": "YGMkVUrwtrcq"
   },
   "source": [
    "Add few other phone numbers in the dictionary, and the following is the printed result.\n"
   ]
  },
  {
   "cell_type": "code",
   "execution_count": null,
   "metadata": {
    "id": "FyvndOFEtnGe"
   },
   "outputs": [],
   "source": [
    "phone_book['computer_dept'] = \"01-998866\"\n",
    "phone_book['civil_dept'] = '01-887766'\n",
    "print(phone_book)"
   ]
  },
  {
   "cell_type": "markdown",
   "metadata": {
    "id": "RgbhDhPouDny"
   },
   "source": [
    "### how to delete an item from dictionary "
   ]
  },
  {
   "cell_type": "code",
   "execution_count": null,
   "metadata": {
    "id": "1ZITKYm8t12a"
   },
   "outputs": [],
   "source": [
    "d = {'a':10,'b':20,'c':30,'d':40}\n",
    "print('Before deletion: ')\n",
    "print(d)"
   ]
  },
  {
   "cell_type": "code",
   "execution_count": null,
   "metadata": {
    "id": "KqBbUQ6_uLnG"
   },
   "outputs": [],
   "source": [
    "d.pop('c')\n",
    "print('after delete: ')\n",
    "print(d)"
   ]
  },
  {
   "cell_type": "code",
   "execution_count": null,
   "metadata": {
    "id": "xexczgFouUwx"
   },
   "outputs": [],
   "source": [
    "# Print the items() function that returns the tuple pair (key-value) of dictionary\n",
    "print(d.items())"
   ]
  },
  {
   "cell_type": "markdown",
   "metadata": {
    "id": "Q469l7UtumLv"
   },
   "source": [
    "## PAIR PROGRAMMING"
   ]
  },
  {
   "attachments": {
    "image.png": {
     "image/png": "[encoded data removed]"
    }
   },
   "cell_type": "markdown",
   "metadata": {
    "id": "hq_ZCGd3usvt"
   },
   "source": [
    "#### PP 4. \n",
    "Create the fruits_dic dictionary consists of key-value pairs including ('apple', 6000), ('melon', 3000), ('banana', 5000), ('orange', 4000). Then, print all of the key in the fruits_dic as list type and examine if the ‘apple’ and ‘mango’ keys are found in the fruits_dic, and print as follows.\n",
    "\n",
    "![image.png](attachment:image.png)"
   ]
  },
  {
   "cell_type": "code",
   "execution_count": null,
   "metadata": {},
   "outputs": [],
   "source": [
    "a = {}\n"
   ]
  },
  {
   "cell_type": "code",
   "execution_count": null,
   "metadata": {},
   "outputs": [],
   "source": [
    "try:\n",
    "    \n",
    "    a[\"a\"]\n",
    "except:\n",
    "    print(1)"
   ]
  },
  {
   "cell_type": "code",
   "execution_count": null,
   "metadata": {},
   "outputs": [],
   "source": [
    "a.get(\"a\", 1)"
   ]
  },
  {
   "cell_type": "code",
   "execution_count": null,
   "metadata": {},
   "outputs": [],
   "source": [
    "from collections import defaultdict"
   ]
  },
  {
   "cell_type": "code",
   "execution_count": null,
   "metadata": {},
   "outputs": [],
   "source": [
    "x = defaultdict(int)"
   ]
  },
  {
   "cell_type": "code",
   "execution_count": null,
   "metadata": {},
   "outputs": [],
   "source": [
    "x[\"asdf\"]"
   ]
  },
  {
   "cell_type": "markdown",
   "metadata": {
    "id": "R3eYgEy1c0ex"
   },
   "source": [
    "### Tuples\n",
    "A tuple is a container which holds a series of comma-separated values (items or elements) between parentheses. Tuples are immutable (i.e. you cannot change its content once created) and can hold mix data types."
   ]
  },
  {
   "cell_type": "code",
   "execution_count": null,
   "metadata": {
    "id": "9y6tVBnDc0ex"
   },
   "outputs": [],
   "source": [
    "# To create an empty tuple or create a tuple with single element use the following commands.\n",
    "empty_tup1=() # This command create an empty tuple\n",
    "empty_tup1\n",
    "print(type(empty_tup1))\n",
    "\n",
    "single_tup1 = (100,)\n",
    "single_tup1"
   ]
  },
  {
   "cell_type": "code",
   "execution_count": null,
   "metadata": {},
   "outputs": [],
   "source": [
    "x = 100,\n",
    "x"
   ]
  },
  {
   "cell_type": "code",
   "execution_count": null,
   "metadata": {
    "id": "YVPksvS1c0ey"
   },
   "outputs": [],
   "source": [
    "# Elements of a tuple are indexed like other sequences. The tuple indices start at 0.\n",
    "tup2 = (\"Red\",\"Black\",2000, 12.12)\n",
    "tup2"
   ]
  },
  {
   "cell_type": "code",
   "execution_count": null,
   "metadata": {
    "id": "dCaEiY9Mc0ey"
   },
   "outputs": [],
   "source": [
    "tup2 #what will return"
   ]
  },
  {
   "cell_type": "code",
   "execution_count": null,
   "metadata": {
    "id": "2cSvAfF7c0ey"
   },
   "outputs": [],
   "source": [
    "tup2[0] # what will return"
   ]
  },
  {
   "cell_type": "code",
   "execution_count": null,
   "metadata": {
    "id": "VyPSLlD_c0ey"
   },
   "outputs": [],
   "source": [
    "tup2[4]"
   ]
  },
  {
   "cell_type": "code",
   "execution_count": null,
   "metadata": {
    "id": "xRSCEDIxc0ey"
   },
   "outputs": [],
   "source": [
    "# Tuples are immutable which means it's items values are unchangeable.\n",
    "print(tup2[0])"
   ]
  },
  {
   "cell_type": "code",
   "execution_count": null,
   "metadata": {
    "id": "JVX_RNN0c0ey"
   },
   "outputs": [],
   "source": [
    "tup2[0]=\"White\" # Try to change the value of the first item. What do you expect when executing this statement."
   ]
  },
  {
   "cell_type": "code",
   "execution_count": null,
   "metadata": {},
   "outputs": [],
   "source": [
    "a = ([1,2], 1, 2, \"123\")"
   ]
  },
  {
   "cell_type": "code",
   "execution_count": null,
   "metadata": {},
   "outputs": [],
   "source": [
    "a"
   ]
  },
  {
   "cell_type": "code",
   "execution_count": null,
   "metadata": {},
   "outputs": [],
   "source": [
    "a[0].append(2)"
   ]
  },
  {
   "cell_type": "code",
   "execution_count": null,
   "metadata": {
    "id": "5SrXTdYoc0ez"
   },
   "outputs": [],
   "source": [
    "print(tup2[0])  # what will return"
   ]
  },
  {
   "cell_type": "code",
   "execution_count": null,
   "metadata": {
    "id": "oEycFyK5c0ez"
   },
   "outputs": [],
   "source": [
    "tup2 = (\"Red\",\"Black\",2000, 12.12)\n",
    "print(tup2[0:2]) # cut first two items"
   ]
  },
  {
   "cell_type": "code",
   "execution_count": null,
   "metadata": {},
   "outputs": [],
   "source": [
    "tup2[2::-1]"
   ]
  },
  {
   "cell_type": "code",
   "execution_count": null,
   "metadata": {
    "id": "-yYr6o14c0ez"
   },
   "outputs": [],
   "source": [
    "# discussion: cut second item (how?)\n",
    "# cut first three itesm [:3]\n",
    "# what will output print(tup2[1:-2])"
   ]
  },
  {
   "cell_type": "code",
   "execution_count": null,
   "metadata": {
    "id": "4_vLbdz7c0ez"
   },
   "outputs": [],
   "source": [
    "tuple1 = (\"a\", \"b\" , \"c\")\n",
    "tuple2 = (1, 2, 3)\n",
    "\n",
    "tuple3 = tuple1 + tuple2\n",
    "print(tuple3)"
   ]
  },
  {
   "cell_type": "code",
   "execution_count": null,
   "metadata": {
    "id": "jC8zX-30c0ez"
   },
   "outputs": [],
   "source": [
    "fruits = (\"apple\", \"banana\", \"cherry\")\n",
    "mytuple = fruits * 2\n",
    "\n",
    "print(mytuple)"
   ]
  },
  {
   "cell_type": "code",
   "execution_count": null,
   "metadata": {
    "id": "GsH_BLmQc0e0"
   },
   "outputs": [],
   "source": [
    "thistuple = (1, 3, 7, 8, 7, 5, 4, 6, 8, 5)\n",
    "\n",
    "x = thistuple.count(5)\n",
    "\n",
    "print(x)"
   ]
  },
  {
   "cell_type": "code",
   "execution_count": null,
   "metadata": {
    "id": "bL58Vox2c0e0"
   },
   "outputs": [],
   "source": [
    "thistuple = (1, 3, 7, 8, 7, 5, 4, 6, 8, 5)\n",
    "\n",
    "x = thistuple.index(8)\n",
    "\n",
    "print(x)"
   ]
  },
  {
   "cell_type": "code",
   "execution_count": null,
   "metadata": {
    "id": "XKDkMYAtc0e0"
   },
   "outputs": [],
   "source": [
    "# Swaping example\n",
    "a = 100\n",
    "b = 200\n",
    "print ( 'before swap: a = ',a, 'b= ', b)\n",
    "temp = a\n",
    "a = b\n",
    "b = temp\n",
    "print ( 'after swap: a = ',a, 'b= ', b)"
   ]
  },
  {
   "cell_type": "code",
   "execution_count": null,
   "metadata": {},
   "outputs": [],
   "source": []
  },
  {
   "cell_type": "code",
   "execution_count": null,
   "metadata": {
    "id": "4XJXd88xc0e0"
   },
   "outputs": [],
   "source": [
    "# what you think of this example?\n",
    "a = 100\n",
    "b = 200\n",
    "print ( 'before swap: a = ',a, 'b= ', b)\n",
    "a, b = b, a\n",
    "print ( 'after swap: a = ',a, 'b= ', b)"
   ]
  },
  {
   "cell_type": "code",
   "execution_count": null,
   "metadata": {
    "id": "6fxUaKRZc0e1"
   },
   "outputs": [],
   "source": [
    "tup = ( 1, 2, 4, 6, 3, 7, 3, 9)\n",
    "temp = list(tup)\n",
    "temp.sort()\n",
    "print(temp)"
   ]
  },
  {
   "attachments": {
    "image.png": {
     "image/png": "[encoded data removed]"
    }
   },
   "cell_type": "markdown",
   "metadata": {
    "id": "ma6a8Hxgc0e1"
   },
   "source": [
    "### Paper Coding\n",
    "#### PC 6. \n",
    "Predict the execution result of the following code and provide handwritten result. \n",
    "\n",
    "![image.png](attachment:image.png)"
   ]
  },
  {
   "cell_type": "code",
   "execution_count": null,
   "metadata": {
    "id": "L2OFQivgc0e2"
   },
   "outputs": [],
   "source": [
    "t1 = 'a', 'b', 'c'\n",
    "t2 = ('a', 'b', 'c')\n",
    "t3 = ('a', 'b')\n",
    "print(t1==t2)\n",
    "print(t1>t3)\n",
    "print(t1<t3)\n",
    "print(t1+t2)\n",
    "print([t1 + t2])\n",
    "print(t1)"
   ]
  },
  {
   "attachments": {
    "image-3.png": {
     "image/png": "[encoded data removed]"
    }
   },
   "cell_type": "markdown",
   "metadata": {
    "id": "kD6120eqc0e3"
   },
   "source": [
    "#### PC7. \n",
    "The following tuple records daily sales of a store for 10 days. Write a code to print how many days had reduced sales compared to previous day. (Hint: compare the values by iterating the elements with the iteration statement.)\n",
    "![image-3.png](attachment:image-3.png)\n"
   ]
  },
  {
   "cell_type": "code",
   "execution_count": null,
   "metadata": {
    "id": "pCAbfaF4c0e3"
   },
   "outputs": [],
   "source": []
  },
  {
   "cell_type": "code",
   "execution_count": null,
   "metadata": {
    "id": "jQA0ml5Xc0e3"
   },
   "outputs": [],
   "source": []
  },
  {
   "cell_type": "code",
   "execution_count": null,
   "metadata": {
    "id": "i03I7r-Zc0e3"
   },
   "outputs": [],
   "source": []
  },
  {
   "cell_type": "code",
   "execution_count": null,
   "metadata": {
    "id": "ojFTaslEc0e3"
   },
   "outputs": [],
   "source": []
  },
  {
   "attachments": {
    "image.png": {
     "image/png": "[encoded data removed]"
    }
   },
   "cell_type": "markdown",
   "metadata": {
    "id": "bnSIMRzEc0e3"
   },
   "source": [
    "### Pair Programming\n",
    "#### PC 5. \n",
    "Return the element with the maximum number of occurrences. When there are more than two frequent elements, print the highest number.\n",
    "\n",
    "![image.png](attachment:image.png)\n",
    " "
   ]
  },
  {
   "attachments": {
    "image.png": {
     "image/png": "[encoded data removed]"
    }
   },
   "cell_type": "markdown",
   "metadata": {
    "id": "TQ3pM6MPc0e3"
   },
   "source": [
    "#### PP 6. \n",
    "In the output example below, there are the tuples containing elements, as well as empty tuples, empty strings and empty lists that have no elements.\n",
    "Write a code to remove these empty tuples, empty strings and empty lists from the given list below. (However, do not remove (,) tuple because it is considered as having one empty tuple.) \n",
    "\n",
    "![image.png](attachment:image.png)"
   ]
  },
  {
   "cell_type": "markdown",
   "metadata": {
    "id": "-TiU_x5Bc0e3"
   },
   "source": [
    "### Two Dimensional Array\n"
   ]
  },
  {
   "cell_type": "code",
   "execution_count": null,
   "metadata": {
    "id": "HWbI4M8wc0e3"
   },
   "outputs": [],
   "source": [
    "list_array = [[1, 2, 3],\n",
    "              [4, 5, 6],\n",
    "              [7, 8, 9]]"
   ]
  },
  {
   "cell_type": "code",
   "execution_count": null,
   "metadata": {
    "id": "cDbDpvWHc0e4"
   },
   "outputs": [],
   "source": [
    "print(list_array[0])"
   ]
  },
  {
   "cell_type": "code",
   "execution_count": null,
   "metadata": {
    "id": "IZljAZr-c0e4"
   },
   "outputs": [],
   "source": [
    "print(list_array[0][2])"
   ]
  },
  {
   "cell_type": "code",
   "execution_count": null,
   "metadata": {},
   "outputs": [],
   "source": [
    "list_array"
   ]
  },
  {
   "cell_type": "code",
   "execution_count": null,
   "metadata": {
    "id": "93l-6z0Lc0e4"
   },
   "outputs": [],
   "source": [
    "for item in list_array:\n",
    "    print('item =', item)"
   ]
  },
  {
   "cell_type": "code",
   "execution_count": null,
   "metadata": {
    "id": "z1gFNgVzc0e4"
   },
   "outputs": [],
   "source": [
    "# Jagged list\n",
    "# using dobule for loop\n",
    "list1 = [1, 2, 3, 4, 5]\n",
    "list2 = []\n",
    "for i in list1:\n",
    "    line = []\n",
    "    for j in range(i):\n",
    "        line.append(j)\n",
    "        print(j, end = ' ')\n",
    "    list2.append(line)\n",
    "    print()\n"
   ]
  },
  {
   "cell_type": "code",
   "execution_count": null,
   "metadata": {
    "id": "Vv878s8Nc0e4"
   },
   "outputs": [],
   "source": [
    "# what is the other simple method for creating jagged list ?"
   ]
  },
  {
   "attachments": {
    "image.png": {
     "image/png": "[encoded data removed]"
    }
   },
   "cell_type": "markdown",
   "metadata": {
    "id": "5A54OOTYc0e4"
   },
   "source": [
    "### Paper Coding\n",
    "#### PC 8.\n",
    "Put the two-dimensional arrays $[[10, 20], [30, 40], [50, 60]$ into the variable list_array and output 30. \n",
    "Do the correct indexing.\n",
    "\n",
    "![image.png](attachment:image.png)"
   ]
  },
  {
   "cell_type": "markdown",
   "metadata": {
    "id": "liIE7guBc0e4"
   },
   "source": [
    "#### PC 9. \n",
    "Create a 2D list of 4 x 4 size with values ranging from 1 to 16 and print all the elements using the for loop.\n",
    "\n",
    "```\n",
    "1 2 3 4\n",
    "5 6 7 8\n",
    "9 10 11 12\n",
    "13 14 15 16\n",
    "```"
   ]
  },
  {
   "cell_type": "markdown",
   "metadata": {
    "id": "-Nr2U-D8c0e4"
   },
   "source": [
    "### Handling I/O (Input Output)"
   ]
  },
  {
   "cell_type": "code",
   "execution_count": 2,
   "metadata": {},
   "outputs": [
    {
     "name": "stdout",
     "output_type": "stream",
     "text": [
      "Hello world!!!\n",
      "\n"
     ]
    }
   ],
   "source": [
    "filepath = \"./io/reading.txt\"\n",
    "readfile = open(filepath)\n",
    "for line in readfile.readlines():\n",
    "    print(line)\n",
    "readfile.close()"
   ]
  },
  {
   "cell_type": "code",
   "execution_count": 3,
   "metadata": {
    "scrolled": true
   },
   "outputs": [
    {
     "data": {
      "text/plain": [
       "['_CHUNK_SIZE',\n",
       " '__class__',\n",
       " '__del__',\n",
       " '__delattr__',\n",
       " '__dict__',\n",
       " '__dir__',\n",
       " '__doc__',\n",
       " '__enter__',\n",
       " '__eq__',\n",
       " '__exit__',\n",
       " '__format__',\n",
       " '__ge__',\n",
       " '__getattribute__',\n",
       " '__gt__',\n",
       " '__hash__',\n",
       " '__init__',\n",
       " '__init_subclass__',\n",
       " '__iter__',\n",
       " '__le__',\n",
       " '__lt__',\n",
       " '__ne__',\n",
       " '__new__',\n",
       " '__next__',\n",
       " '__reduce__',\n",
       " '__reduce_ex__',\n",
       " '__repr__',\n",
       " '__setattr__',\n",
       " '__sizeof__',\n",
       " '__str__',\n",
       " '__subclasshook__',\n",
       " '_checkClosed',\n",
       " '_checkReadable',\n",
       " '_checkSeekable',\n",
       " '_checkWritable',\n",
       " '_finalizing',\n",
       " 'buffer',\n",
       " 'close',\n",
       " 'closed',\n",
       " 'detach',\n",
       " 'encoding',\n",
       " 'errors',\n",
       " 'fileno',\n",
       " 'flush',\n",
       " 'isatty',\n",
       " 'line_buffering',\n",
       " 'mode',\n",
       " 'name',\n",
       " 'newlines',\n",
       " 'read',\n",
       " 'readable',\n",
       " 'readline',\n",
       " 'readlines',\n",
       " 'reconfigure',\n",
       " 'seek',\n",
       " 'seekable',\n",
       " 'tell',\n",
       " 'truncate',\n",
       " 'writable',\n",
       " 'write',\n",
       " 'write_through',\n",
       " 'writelines']"
      ]
     },
     "execution_count": 3,
     "metadata": {},
     "output_type": "execute_result"
    }
   ],
   "source": [
    "f = open(filepath)\n",
    "dir(f)"
   ]
  },
  {
   "cell_type": "code",
   "execution_count": null,
   "metadata": {
    "id": "sZHjhL-Dc0e4"
   },
   "outputs": [],
   "source": [
    "# Read from .txt file\n",
    "# abolute path\n",
    "# filepath = \"file/path/reading.txt\"\n",
    "# relative path. \n",
    "filepath = \"./io/reading.txt\" \n",
    "with open(filepath, 'r') as readfile:\n",
    "    for line in readfile.readlines():\n",
    "        print(line)\n"
   ]
  },
  {
   "cell_type": "code",
   "execution_count": 4,
   "metadata": {
    "id": "KvUvBmU0c0e4"
   },
   "outputs": [],
   "source": [
    "# Write to .txt file\n",
    "writefilepath = \"./io/write.txt\"\n",
    "# \"x\" - Create - will create a file, returns an error if the file exist\n",
    "# \"a\" - Append - will create a file if the specified file does not exist\n",
    "# \"w\" - Write - will create a file if the specified file does not exist\n",
    "txt = [\"This is first line.\", \"This is second line\", \"Hello world!!\", \"This is python class.\"]\n",
    "with open(writefilepath, 'a') as outfile:\n",
    "    for t in txt: \n",
    "        outfile.write(t)\n",
    "        outfile.write(\"\\n\")\n"
   ]
  },
  {
   "cell_type": "code",
   "execution_count": 5,
   "metadata": {
    "id": "0KeM3Qc3c0e5"
   },
   "outputs": [
    {
     "name": "stdout",
     "output_type": "stream",
     "text": [
      "['name', 'roll no', ' marks']\n",
      "['john doe', ' 1', ' 10']\n",
      "['lorem ipsum', ' 2', ' 10']\n"
     ]
    }
   ],
   "source": [
    "# Read from .csv file\n",
    "import csv\n",
    "csvfilepath = \"./io/dataset.csv\"\n",
    "with open(csvfilepath, 'r') as csv_file:\n",
    "    filecontent = csv.reader(csv_file) \n",
    "    for row in filecontent:\n",
    "        print(row)"
   ]
  },
  {
   "cell_type": "code",
   "execution_count": 8,
   "metadata": {
    "id": "HaF77v54c0e5"
   },
   "outputs": [],
   "source": [
    "# Write to .csv file\n",
    "import csv\n",
    "csvfilepath = \"./io/write.csv\"\n",
    "with open(csvfilepath, mode='w', newline=\"\") as csv_file:  # make mode='a' and run the program and see in file what will happen\n",
    "    fieldnames = ['emp_name', 'dept', 'birth_month']\n",
    "    writer = csv.DictWriter(csv_file, fieldnames=fieldnames)\n",
    "    writer.writeheader()\n",
    "    writer.writerow({'emp_name': 'John Smith', 'dept': 'Accounting', 'birth_month': 'November'})\n",
    "    writer.writerow({'emp_name': 'Erica Meyers', 'dept': 'IT', 'birth_month': 'March'})"
   ]
  },
  {
   "cell_type": "code",
   "execution_count": 9,
   "metadata": {},
   "outputs": [
    {
     "name": "stdout",
     "output_type": "stream",
     "text": [
      "['emp_name', 'dept', 'birth_month']\n",
      "['John Smith', 'Accounting', 'November']\n",
      "['Erica Meyers', 'IT', 'March']\n"
     ]
    }
   ],
   "source": [
    "csvfilepath = \"./io/write.csv\"\n",
    "with open(csvfilepath, 'r') as csv_file:\n",
    "    filecontent = csv.reader(csv_file) \n",
    "    for row in filecontent:\n",
    "        print(row)"
   ]
  },
  {
   "cell_type": "markdown",
   "metadata": {
    "id": "1FXggEZLc0e5"
   },
   "source": [
    "#### Exercises\n",
    "- Read the reading.txt file and concatenate all the sentences and print them. Also save the concatenate sentences into new .txt file\n",
    "- Write a program to make new csv file by removing first column and write in .csv file.\n"
   ]
  },
  {
   "attachments": {
    "image.png": {
     "image/png": "[encoded data removed]"
    }
   },
   "cell_type": "markdown",
   "metadata": {
    "id": "4Tp_e6Q6c0e5"
   },
   "source": [
    "### Pair Programming\n",
    "#### PP 7.\n",
    "Write a program that generates a multidimensional array of n×n size, based on the number of inputs, by receiving two or more n as inputs from users. In this case, the content of the arrangement should be displayed so that the  values of 0 and 1 intersect in a checkered pattern.\n",
    "\n",
    "![image.png](attachment:image.png)"
   ]
  },
  {
   "cell_type": "code",
   "execution_count": 12,
   "metadata": {
    "id": "yls_-oZDc0e5"
   },
   "outputs": [
    {
     "name": "stdout",
     "output_type": "stream",
     "text": [
      "[('a', 1)]\n",
      "[('a', 1), ('b', 1)]\n",
      "[('a', 1), ('b', 1), ('c', 1)]\n",
      "[('a', 1), ('b', 2), ('c', 1)]\n",
      "[('a', 2), ('b', 2), ('c', 1)]\n",
      "[('a', 2), ('b', 3), ('c', 1)]\n",
      "[('a', 2), ('b', 3), ('c', 2)]\n",
      "alphabet counting : {'a': 2, 'b': 3, 'c': 2}\n"
     ]
    }
   ],
   "source": [
    "str1 = ['a', 'b', 'c', 'b', 'a', 'b', 'c']\n",
    "dic = {}\n",
    "for ch in str1:\n",
    "    dic.setdefault(ch, 0)\n",
    "    dic[ch]+= 1\n",
    "    print(list(dic.items()))\n",
    "\n",
    "print('alphabet counting :', dic) # can you guess output"
   ]
  },
  {
   "cell_type": "code",
   "execution_count": 13,
   "metadata": {
    "id": "hzPy1tizc0e5"
   },
   "outputs": [
    {
     "name": "stdout",
     "output_type": "stream",
     "text": [
      "{'a': 10, 'b': 20, 'c': 30, 'd': 40}\n"
     ]
    }
   ],
   "source": [
    "dic = {'a': 10, 'b': 20, 'c': 30}\n",
    "dic.setdefault('d', 40)\n",
    "print(dic) # what will be the output"
   ]
  },
  {
   "cell_type": "code",
   "execution_count": 14,
   "metadata": {
    "id": "EFecDu8qc0e5"
   },
   "outputs": [
    {
     "name": "stdout",
     "output_type": "stream",
     "text": [
      "{'a': 10, 'b': 20, 'c': 30}\n",
      "{}\n",
      "None\n"
     ]
    }
   ],
   "source": [
    "dic = {'a': 10, 'b': 20, 'c': 30}\n",
    "print(dic)\n",
    "dic.clear()\n",
    "print(dic) # what will be output\n",
    "a = dic.get('a')\n",
    "print(a)"
   ]
  },
  {
   "cell_type": "code",
   "execution_count": 15,
   "metadata": {
    "id": "FCWd05LWc0e6"
   },
   "outputs": [
    {
     "name": "stdout",
     "output_type": "stream",
     "text": [
      "10\n"
     ]
    }
   ],
   "source": [
    "dic = {'a': 10, 'b': 20, 'c': 30}\n",
    "a = dic.get('a')\n",
    "print(a) # what will be output"
   ]
  },
  {
   "cell_type": "code",
   "execution_count": 16,
   "metadata": {
    "id": "A6GRP0xSc0e6"
   },
   "outputs": [
    {
     "name": "stdout",
     "output_type": "stream",
     "text": [
      "0\n"
     ]
    }
   ],
   "source": [
    "b = dic.get('z', 0)\n",
    "print(b)  # what will be output"
   ]
  },
  {
   "cell_type": "code",
   "execution_count": 17,
   "metadata": {
    "id": "eT1l2cOwc0e6"
   },
   "outputs": [],
   "source": [
    "dic = {'a': 10, 'b': 20, 'c': 30}\n",
    "# how to print keys of dictionary???\n",
    "# how to print values of dictionary???\n",
    "# how to print all the items\n",
    "\n",
    "\n",
    "\n",
    "\n",
    "\n",
    "\n",
    "\n"
   ]
  },
  {
   "cell_type": "code",
   "execution_count": 18,
   "metadata": {
    "id": "MxU79jqec0e6"
   },
   "outputs": [
    {
     "name": "stdout",
     "output_type": "stream",
     "text": [
      "dict_keys(['a', 'b', 'c'])\n",
      "dict_values([10, 20, 30])\n",
      "dict_items([('a', 10), ('b', 20), ('c', 30)])\n",
      "a : 10\n",
      "b : 20\n",
      "c : 30\n"
     ]
    }
   ],
   "source": [
    "print(dic.keys())\n",
    "print(dic.values())\n",
    "print(dic.items())\n",
    "for str1, num in dic.items():\n",
    "    print(str1, \":\", num)"
   ]
  },
  {
   "cell_type": "code",
   "execution_count": 19,
   "metadata": {
    "id": "DtkylV8Pc0e6"
   },
   "outputs": [
    {
     "name": "stdout",
     "output_type": "stream",
     "text": [
      "{'a': 10, 'c': 30}\n"
     ]
    }
   ],
   "source": [
    "dic.pop('b')\n",
    "print(dic) # output"
   ]
  },
  {
   "cell_type": "code",
   "execution_count": 20,
   "metadata": {
    "id": "4-RmB3aCc0e6"
   },
   "outputs": [
    {
     "name": "stdout",
     "output_type": "stream",
     "text": [
      "{'a': 10, 'b': 20}\n"
     ]
    }
   ],
   "source": [
    "dic = {'a': 10, 'b': 20, 'c': 30}\n",
    "dic.popitem()\n",
    "print(dic) #output"
   ]
  },
  {
   "attachments": {
    "image-3.png": {
     "image/png": "[encoded data removed]"
    }
   },
   "cell_type": "markdown",
   "metadata": {
    "id": "wSrF7kdYc0e6"
   },
   "source": [
    "### Paper Coding\n",
    "#### PC 10.\n",
    "\n",
    "Let's create a dictionary named person_dic with the following contact information on your phone. \n",
    "Print this information using the for loop to show the output results below.\n",
    "\n",
    "![image-3.png](attachment:image-3.png)\n"
   ]
  },
  {
   "attachments": {
    "image.png": {
     "image/png": "[encoded data removed]"
    }
   },
   "cell_type": "markdown",
   "metadata": {
    "id": "PsrkOyrLc0e6"
   },
   "source": [
    "#### PC 11.\n",
    "Let's write a program that performs inventory management at a convenience store. To this end, inventory of items sold at convenience stores is stored in the items dictionary as shown in the example below. Write a program that receives the name of the item from users and returns the inventory of the item. Suppose that it is a very small convenience store and the items treated are as following.\n",
    "\n",
    "![image.png](attachment:image.png)"
   ]
  },
  {
   "cell_type": "code",
   "execution_count": 21,
   "metadata": {
    "id": "IW1KUWxCc0e6"
   },
   "outputs": [
    {
     "data": {
      "text/plain": [
       "['welcome', ' to', ' python', ' and ', ' bla', ' bla  ']"
      ]
     },
     "execution_count": 21,
     "metadata": {},
     "output_type": "execute_result"
    }
   ],
   "source": [
    "#### working with string, text\n",
    "s = 'welcome, to, python, and , bla, bla  '\n",
    "s.split(',') # output"
   ]
  },
  {
   "cell_type": "code",
   "execution_count": 22,
   "metadata": {
    "id": "fxCtaQPmc0e7"
   },
   "outputs": [
    {
     "data": {
      "text/plain": [
       "['welcome', 'to', 'python', 'and', 'bla', 'bla']"
      ]
     },
     "execution_count": 22,
     "metadata": {},
     "output_type": "execute_result"
    }
   ],
   "source": [
    "s = 'welcome, to, python , and , bla, bla  '\n",
    "[x.strip() for x in s.split(',')] # does it produce output??"
   ]
  },
  {
   "cell_type": "markdown",
   "metadata": {
    "id": "pMcYixCAc0e7"
   },
   "source": [
    "#### Exercise\n",
    "- remove only left whitespace from given sting s\n",
    "- remove only right whitespace from given sting s"
   ]
  },
  {
   "cell_type": "code",
   "execution_count": 23,
   "metadata": {
    "id": "FxPYaw3xc0e7"
   },
   "outputs": [
    {
     "data": {
      "text/plain": [
       "'apple, grape, banana'"
      ]
     },
     "execution_count": 23,
     "metadata": {},
     "output_type": "execute_result"
    }
   ],
   "source": [
    "# what will do this code?\n",
    "', '.join(['apple', 'grape','banana'])"
   ]
  },
  {
   "cell_type": "code",
   "execution_count": 24,
   "metadata": {
    "id": "TWFDlpk-c0e7"
   },
   "outputs": [
    {
     "data": {
      "text/plain": [
       "True"
      ]
     },
     "execution_count": 24,
     "metadata": {},
     "output_type": "execute_result"
    }
   ],
   "source": [
    "s = 'ABCDEDGHYYYYH'\n",
    "s.startswith('A')"
   ]
  },
  {
   "cell_type": "code",
   "execution_count": 26,
   "metadata": {
    "id": "DdR-xyufc0e7"
   },
   "outputs": [
    {
     "data": {
      "text/plain": [
       "True"
      ]
     },
     "execution_count": 26,
     "metadata": {},
     "output_type": "execute_result"
    }
   ],
   "source": [
    "# does it valid\n",
    "s.startswith('H',-1)"
   ]
  },
  {
   "cell_type": "code",
   "execution_count": null,
   "metadata": {
    "id": "HyVQf693c0e7"
   },
   "outputs": [],
   "source": [
    "# code for returning true for alphabet'H'??"
   ]
  },
  {
   "cell_type": "code",
   "execution_count": 27,
   "metadata": {
    "id": "YQVvyiN7c0e7"
   },
   "outputs": [
    {
     "data": {
      "text/plain": [
       "True"
      ]
     },
     "execution_count": 27,
     "metadata": {},
     "output_type": "execute_result"
    }
   ],
   "source": [
    "s.endswith('C',1,3)"
   ]
  },
  {
   "cell_type": "code",
   "execution_count": null,
   "metadata": {
    "id": "vkedcGlCc0e7"
   },
   "outputs": [],
   "source": [
    "# How to repalce a text in a given string?"
   ]
  },
  {
   "attachments": {
    "image.png": {
     "image/png": "[encoded data removed]"
    }
   },
   "cell_type": "markdown",
   "metadata": {
    "id": "izwpKvMdc0e7"
   },
   "source": [
    "### Pair Programming\n",
    "#### PP 8.\n",
    "Let's upgrade the program to manage the inventory of convenience stores that we solved in paper coding. In other words, add code to increase or decrease inventory. Also, make simple menus such as inventory inquiry, warehousing, and shipment.\n",
    "\n",
    "\n",
    "![image.png](attachment:image.png)"
   ]
  },
  {
   "cell_type": "markdown",
   "metadata": {
    "id": "zZ2R1Jdvc0e7"
   },
   "source": [
    "#### some dictionay examples"
   ]
  },
  {
   "cell_type": "code",
   "execution_count": 28,
   "metadata": {
    "id": "ZcROXb7oc0e8"
   },
   "outputs": [
    {
     "name": "stdout",
     "output_type": "stream",
     "text": [
      "a b c "
     ]
    }
   ],
   "source": [
    "x = {'a': 10, 'b': 20, 'c': 30}\n",
    "for i in x:\n",
    "    print(i, end=' ')"
   ]
  },
  {
   "cell_type": "markdown",
   "metadata": {
    "id": "RNroqUBwc0e8"
   },
   "source": [
    "#### Exercise \n",
    "- how to extract key value from dictionary?"
   ]
  },
  {
   "cell_type": "code",
   "execution_count": 29,
   "metadata": {
    "id": "CNkbYBuac0e8"
   },
   "outputs": [
    {
     "data": {
      "text/plain": [
       "True"
      ]
     },
     "execution_count": 29,
     "metadata": {},
     "output_type": "execute_result"
    }
   ],
   "source": [
    "x = {'a': 10, 'b': 20, 'c': 30}\n",
    "y = x\n",
    "x is y # what will be output?"
   ]
  },
  {
   "cell_type": "code",
   "execution_count": null,
   "metadata": {
    "id": "s7U36VF-c0e8"
   },
   "outputs": [],
   "source": [
    "print(x)"
   ]
  },
  {
   "cell_type": "code",
   "execution_count": null,
   "metadata": {
    "id": "israUQbHc0e8"
   },
   "outputs": [],
   "source": [
    "print(y)"
   ]
  },
  {
   "cell_type": "code",
   "execution_count": null,
   "metadata": {
    "id": "3Mnx6xfZc0e8"
   },
   "outputs": [],
   "source": [
    "x['a'] = 90"
   ]
  },
  {
   "cell_type": "code",
   "execution_count": null,
   "metadata": {
    "id": "zd_GHqmlc0e8"
   },
   "outputs": [],
   "source": [
    "# what will be the output\n",
    "print(x)\n",
    "print(y)"
   ]
  },
  {
   "cell_type": "code",
   "execution_count": null,
   "metadata": {
    "id": "FYzqOIFic0e8"
   },
   "outputs": [],
   "source": [
    "x = {'a': 10, 'b': 20, 'c': 30}"
   ]
  },
  {
   "cell_type": "code",
   "execution_count": null,
   "metadata": {
    "id": "GJkSlDfNc0e8"
   },
   "outputs": [],
   "source": [
    "y = x.copy()"
   ]
  },
  {
   "cell_type": "code",
   "execution_count": null,
   "metadata": {
    "id": "VqGmi29hc0e8"
   },
   "outputs": [],
   "source": [
    "print(y)\n",
    "print(x)"
   ]
  },
  {
   "cell_type": "code",
   "execution_count": null,
   "metadata": {
    "id": "SW1Ken_Kc0e9"
   },
   "outputs": [],
   "source": [
    "x is y"
   ]
  },
  {
   "cell_type": "code",
   "execution_count": null,
   "metadata": {
    "id": "1W63aRnCc0e9"
   },
   "outputs": [],
   "source": [
    "x == y"
   ]
  },
  {
   "cell_type": "code",
   "execution_count": null,
   "metadata": {
    "id": "ma20BS5Sc0e9"
   },
   "outputs": [],
   "source": [
    "x['a'] = 90"
   ]
  },
  {
   "cell_type": "code",
   "execution_count": null,
   "metadata": {
    "id": "mGNlxxRrc0e9"
   },
   "outputs": [],
   "source": [
    "# what will be the output\n",
    "print(x)\n",
    "print(y)"
   ]
  },
  {
   "cell_type": "markdown",
   "metadata": {
    "id": "V9G-RUGlc0e9"
   },
   "source": [
    "- Can you tell me what will be the difference between assingment and copy() command in about example?"
   ]
  },
  {
   "attachments": {
    "image.png": {
     "image/png": "[encoded data removed]"
    }
   },
   "cell_type": "markdown",
   "metadata": {
    "id": "qJ3zM4-tc0e9"
   },
   "source": [
    "#### PC 12\n",
    "A tuple called study_tup, which has three pairs of elements: student ID number, name, and phone number, exists as shown below. Modify the student_tup below to create and print a dictionary of the pair {student ID number : [name, phone number]}.\n",
    "\n",
    "```python\n",
    "student_tup = ((\"211101\", \"David Doe\", \"010-1234-4500\"), (\"211102\", \"John Smith\", \"010-2230-6540\"), (\"211103\", \"Jane Carter\", \"010-3232-7788\"))\n",
    "```\n",
    "\n",
    "\n",
    "\n",
    "![image.png](attachment:image.png)"
   ]
  },
  {
   "attachments": {
    "image.png": {
     "image/png": "[encoded data removed]"
    }
   },
   "cell_type": "markdown",
   "metadata": {
    "id": "tIZ_-hB-c0e9"
   },
   "source": [
    "#### PC 13\n",
    "Write a bachelor's information program using the student_tup above to receive the student's student ID number as input and print the student’s name and phone number.\n",
    "![image.png](attachment:image.png)\n"
   ]
  },
  {
   "cell_type": "markdown",
   "metadata": {
    "id": "k7PWWPxZc0e9"
   },
   "source": [
    "#### import"
   ]
  },
  {
   "cell_type": "code",
   "execution_count": null,
   "metadata": {
    "id": "eVitf8i_c0e9"
   },
   "outputs": [],
   "source": [
    "import datetime as dt\n",
    "start_time = dt.datetime.now()\n",
    "print(start_time)"
   ]
  },
  {
   "cell_type": "code",
   "execution_count": null,
   "metadata": {
    "id": "kdEyc9Jhc0e9"
   },
   "outputs": [],
   "source": [
    "start_time.replace(month = 11, day = 25)\n",
    "print(start_time)"
   ]
  },
  {
   "cell_type": "markdown",
   "metadata": {
    "id": "s4ufqrs3c0e9"
   },
   "source": [
    "#### Exercise\n",
    "- Get the current time and wait for 5 second and get the start time, endtime and time difference\n",
    "- Format time YY-MM-DD HH:MM:SS"
   ]
  },
  {
   "attachments": {
    "image.png": {
     "image/png": "[encoded data removed]"
    }
   },
   "cell_type": "markdown",
   "metadata": {
    "id": "Os2JW6GVc0e-"
   },
   "source": [
    "#### PP 9\n",
    "The student_tuple list with tuples as elements is as shown below. Tuple, which is the element of this tuple consists of a (student ID number, name, phone number). Using this, make a dictionary for (student ID number: name) and print it out. When inquiring by student ID number, make sure that the student ID number, name, and phone number are printed as shown below.\n",
    "\n",
    "![image.png](attachment:image.png)"
   ]
  },
  {
   "cell_type": "markdown",
   "metadata": {
    "id": "TYmzG8_Sc0e-"
   },
   "source": [
    "### Sets\n",
    "A set is an unordered collection of unique elements. Basic uses include dealing with set theory (which support mathematical operations like union, intersection, difference, and symmetric difference) or eliminating duplicate entries. "
   ]
  },
  {
   "cell_type": "code",
   "execution_count": 30,
   "metadata": {
    "id": "JWOBavdLc0e-"
   },
   "outputs": [
    {
     "name": "stdout",
     "output_type": "stream",
     "text": [
      "{'cherry', 'apple', 'banana'}\n"
     ]
    }
   ],
   "source": [
    "thisset = {\"apple\", \"banana\", \"cherry\"}\n",
    "print(thisset)"
   ]
  },
  {
   "cell_type": "markdown",
   "metadata": {
    "id": "8KHPzSbfc0e-"
   },
   "source": [
    "\n",
    "#### Set Items\n",
    "Set items are unordered, unchangeable, and do not allow duplicate values.\n",
    "\n",
    "#### Unordered\n",
    "Unordered means that the items in a set do not have a defined order.\n",
    "\n",
    "Set items can appear in a different order every time you use them, and cannot be referred to by index or key.\n",
    "\n",
    "#### Unchangeable\n",
    "Set items are unchangeable, meaning that we cannot change the items after the set has been created.\n",
    "#### Duplicates Not Allowed\n",
    "Sets cannot have two items with the same value."
   ]
  },
  {
   "cell_type": "code",
   "execution_count": 31,
   "metadata": {
    "id": "wn8g2Y54c0e-"
   },
   "outputs": [
    {
     "name": "stdout",
     "output_type": "stream",
     "text": [
      "{'cherry', 'apple', 'banana'}\n"
     ]
    }
   ],
   "source": [
    "thisset = {\"apple\", \"banana\", \"cherry\", \"apple\"}\n",
    "\n",
    "print(thisset) # what it will print"
   ]
  },
  {
   "cell_type": "markdown",
   "metadata": {
    "id": "MW5v0Gcrc0e-"
   },
   "source": [
    "#### Access Items\n",
    "You cannot access items in a set by referring to an index or a key.\n",
    "\n",
    "But you can loop through the set items using a for loop, or ask if a specified value is present in a set, by using the in keyword."
   ]
  },
  {
   "cell_type": "code",
   "execution_count": 32,
   "metadata": {
    "id": "fv-MUdudc0e-"
   },
   "outputs": [
    {
     "name": "stdout",
     "output_type": "stream",
     "text": [
      "cherry\n",
      "apple\n",
      "banana\n"
     ]
    }
   ],
   "source": [
    "thisset = {\"apple\", \"banana\", \"cherry\"}\n",
    "\n",
    "for x in thisset:\n",
    "    print(x)"
   ]
  },
  {
   "cell_type": "code",
   "execution_count": 33,
   "metadata": {
    "id": "cibCdaAmc0e-"
   },
   "outputs": [
    {
     "name": "stdout",
     "output_type": "stream",
     "text": [
      "{'cherry', 'apple', 'orange', 'banana'}\n"
     ]
    }
   ],
   "source": [
    "#Add an item to a set, using the add() method:\n",
    "\n",
    "thisset = {\"apple\", \"banana\", \"cherry\"}\n",
    "\n",
    "thisset.add(\"orange\")\n",
    "\n",
    "print(thisset)"
   ]
  },
  {
   "cell_type": "code",
   "execution_count": 34,
   "metadata": {
    "id": "Ict9tfGbc0e-"
   },
   "outputs": [
    {
     "name": "stdout",
     "output_type": "stream",
     "text": [
      "{'papaya', 'apple', 'banana', 'pineapple', 'mango', 'cherry'}\n"
     ]
    }
   ],
   "source": [
    "# Add sets: Add elements from tropical into thisset:\n",
    "\n",
    "thisset = {\"apple\", \"banana\", \"cherry\"}\n",
    "tropical = {\"pineapple\", \"mango\", \"papaya\"}\n",
    "\n",
    "thisset.update(tropical)\n",
    "\n",
    "print(thisset)"
   ]
  },
  {
   "cell_type": "code",
   "execution_count": 35,
   "metadata": {
    "id": "wkzgh6vnc0e-"
   },
   "outputs": [
    {
     "name": "stdout",
     "output_type": "stream",
     "text": [
      "{'apple', 'orange', 'banana', 'kiwi', 'cherry'}\n"
     ]
    }
   ],
   "source": [
    "#Add elements of a list to at set:\n",
    "\n",
    "thisset = {\"apple\", \"banana\", \"cherry\"}\n",
    "mylist = [\"kiwi\", \"orange\"]\n",
    "\n",
    "thisset.update(mylist)\n",
    "\n",
    "print(thisset)"
   ]
  },
  {
   "cell_type": "code",
   "execution_count": 37,
   "metadata": {},
   "outputs": [
    {
     "data": {
      "text/plain": [
       "{'1', 1, 2, '2', 3, '3'}"
      ]
     },
     "execution_count": 37,
     "metadata": {},
     "output_type": "execute_result"
    }
   ],
   "source": [
    "a = {1, 2, 3}\n",
    "a.update(\"123\")\n",
    "a"
   ]
  },
  {
   "cell_type": "code",
   "execution_count": 38,
   "metadata": {
    "id": "vdWTS0jPc0e_"
   },
   "outputs": [
    {
     "name": "stdout",
     "output_type": "stream",
     "text": [
      "{'cherry', 'apple'}\n"
     ]
    }
   ],
   "source": [
    "# Remove \"banana\" by using the remove() method:\n",
    "\n",
    "thisset = {\"apple\", \"banana\", \"cherry\"}\n",
    "\n",
    "thisset.remove(\"banana\")\n",
    "\n",
    "print(thisset)"
   ]
  },
  {
   "cell_type": "code",
   "execution_count": 39,
   "metadata": {
    "id": "CPztpRgxc0e_"
   },
   "outputs": [
    {
     "name": "stdout",
     "output_type": "stream",
     "text": [
      "cherry\n",
      "apple\n",
      "banana\n"
     ]
    }
   ],
   "source": [
    "# Loop through the set, and print the values:\n",
    "\n",
    "thisset = {\"apple\", \"banana\", \"cherry\"}\n",
    "\n",
    "for x in thisset:\n",
    "    print(x)"
   ]
  },
  {
   "cell_type": "code",
   "execution_count": 42,
   "metadata": {
    "id": "sgFOE91jc0e_"
   },
   "outputs": [
    {
     "name": "stdout",
     "output_type": "stream",
     "text": [
      "{'a'}\n"
     ]
    }
   ],
   "source": [
    "# Join Two Sets\n",
    "#There are several ways to join two or more sets in Python.\n",
    "\n",
    "#You can use the union() method that returns a new set containing all items from both sets, or the update() \n",
    "# method that inserts all the items from one set into another:\n",
    "set1 = {\"a\", \"b\" , \"c\"}\n",
    "set2 = {1, 2, 3, \"a\"}\n",
    "\n",
    "set3 = set1.intersection(set2)\n",
    "print(set3)"
   ]
  },
  {
   "cell_type": "markdown",
   "metadata": {
    "id": "5SowXTGgc0e_"
   },
   "source": [
    "#### exercise\n",
    "- Check if \"apple\" is present in the fruits set."
   ]
  },
  {
   "cell_type": "code",
   "execution_count": 46,
   "metadata": {
    "id": "Ueqa9xJHc0e_"
   },
   "outputs": [
    {
     "name": "stdout",
     "output_type": "stream",
     "text": [
      "(10, 'ten')\n",
      "(20, 'twenty')\n",
      "(30, 'thirty')\n"
     ]
    }
   ],
   "source": [
    "# A useful function - zip\n",
    "a = [10, 20, 30]\n",
    "b = [ 'ten', 'twenty', 'thirty']\n",
    "for val in zip(a, b):\n",
    "    print(val)"
   ]
  },
  {
   "cell_type": "code",
   "execution_count": 49,
   "metadata": {
    "id": "qVZVL2A6c0e_"
   },
   "outputs": [
    {
     "data": {
      "text/plain": [
       "<zip at 0x7f831bc72400>"
      ]
     },
     "execution_count": 49,
     "metadata": {},
     "output_type": "execute_result"
    }
   ],
   "source": [
    "str_list = ['hello', 'world', 'python', 'rocks']\n",
    "int_tuple = (1, 2, 3)\n",
    "int_list = [100, 200, 300, 400, 500]\n",
    "my_iterator = zip(str_list, int_tuple, int_list)\n",
    "my_iterator # what will be the output , or error"
   ]
  },
  {
   "cell_type": "code",
   "execution_count": 50,
   "metadata": {
    "id": "uGCMZXFfc0e_"
   },
   "outputs": [
    {
     "name": "stdout",
     "output_type": "stream",
     "text": [
      "('hello', 1, 100)\n",
      "('world', 2, 200)\n",
      "('python', 3, 300)\n"
     ]
    }
   ],
   "source": [
    "# what will be the output , or error\n",
    "for val in zip(str_list, int_tuple, int_list):\n",
    "    print(val)"
   ]
  },
  {
   "attachments": {
    "image.png": {
     "image/png": "[encoded data removed]"
    }
   },
   "cell_type": "markdown",
   "metadata": {
    "id": "vmxtwW4cc0e_"
   },
   "source": [
    "#### PC 14.\n",
    "Use the set function to generate and print the set s1 from the next list lst.\n",
    "\n",
    "![image.png](attachment:image.png)"
   ]
  },
  {
   "attachments": {
    "image.png": {
     "image/png": "[encoded data removed]"
    }
   },
   "cell_type": "markdown",
   "metadata": {
    "id": "s0hQ4-zac0e_"
   },
   "source": [
    "#### PC 15.\n",
    "Write down the computational results for the following two sets. Find the results from 1) to 7).\n",
    "\n",
    "![image.png](attachment:image.png)\n",
    "\n"
   ]
  },
  {
   "attachments": {
    "image.png": {
     "image/png": "[encoded data removed]"
    }
   },
   "cell_type": "markdown",
   "metadata": {
    "id": "e8e1uAt9ufsF"
   },
   "source": [
    "#### PP 10. \n",
    "There is a list mylist with tuple(m, n) as elements as shown below. If there is tuple with (a,b) value and a, b values entered from the user, print 'There is an element (a, b) in xth'. If there is no (a, b) but (b, a) is there, print 'There is no (a, b) but (b, a) there is at yth. If there is no  (a, b) nor (b, a), print 'there is no such element'.\n",
    "\n",
    "![image.png](attachment:image.png)"
   ]
  },
  {
   "cell_type": "code",
   "execution_count": null,
   "metadata": {
    "id": "EjCcjxXVc0fA"
   },
   "outputs": [],
   "source": []
  }
 ],
 "metadata": {
  "colab": {
   "provenance": []
  },
  "kernelspec": {
   "display_name": "Python 3 (ipykernel)",
   "language": "python",
   "name": "python3"
  },
  "language_info": {
   "codemirror_mode": {
    "name": "ipython",
    "version": 3
   },
   "file_extension": ".py",
   "mimetype": "text/x-python",
   "name": "python",
   "nbconvert_exporter": "python",
   "pygments_lexer": "ipython3",
   "version": "3.8.10"
  }
 },
 "nbformat": 4,
 "nbformat_minor": 1
}
