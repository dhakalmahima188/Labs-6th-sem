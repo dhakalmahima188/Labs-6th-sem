{
 "cells": [
  {
   "cell_type": "code",
   "execution_count": 1,
   "id": "78ff6ac2",
   "metadata": {},
   "outputs": [],
   "source": [
    "def create_board():\n",
    "    return [\n",
    "    [0, 0, 0, 0, 0, 0, 0, 0],\n",
    "    [0, 0, 0, 0, 0, 0, 0, 0],\n",
    "    [0, 0, 0, 0, 0, 0, 0, 0],\n",
    "    [0, 0, 0, 0, 0, 0, 0, 0],\n",
    "    [0, 0, 0, 0, 0, 0, 0, 0],\n",
    "    [0, 0, 0, 0, 0, 0, 0, 0],\n",
    "    [0, 0, 0, 0, 0, 0, 0, 0],\n",
    "    [0, 0, 0, 0, 0, 0, 0, 0],\n",
    "    ]\n",
    "    "
   ]
  },
  {
   "cell_type": "code",
   "execution_count": 2,
   "id": "579efbff",
   "metadata": {},
   "outputs": [],
   "source": [
    "import copy"
   ]
  },
  {
   "cell_type": "code",
   "execution_count": 3,
   "id": "572adb00",
   "metadata": {},
   "outputs": [],
   "source": [
    "def fill_positions_queen(board, i, j):\n",
    "    \"\"\"\n",
    "    Assumption  will start from the top so will only need to fill positions below the array\n",
    "    used for diagonal\n",
    "    \"\"\"\n",
    "    board = copy.deepcopy(board)\n",
    "    if board[i][j]:\n",
    "        raise ValueError(f\"Cannot put queen in the position {i} {j}\")\n",
    "    board[i][j] = \"Q\"\n",
    "    # same line vertical/ horizontal\n",
    "    for k in range(8):\n",
    "        board[i][k] = board[i][k] or -1\n",
    "        board[k][j] = board[k][j] or -1\n",
    "    \n",
    "    \n",
    "    # right_down diagonal\n",
    "    x, y = i + 1, j + 1\n",
    "    while x < 8 and y < 8:\n",
    "        board[x][y] = -1\n",
    "        x += 1\n",
    "        y += 1\n",
    "    \n",
    "    # left down diagonal\n",
    "    x, y = i + 1, j - 1\n",
    "    while x < 8 and y >= 0:\n",
    "        board[x][y] = -1\n",
    "        x += 1\n",
    "        y -= 1\n",
    "    return board"
   ]
  },
  {
   "cell_type": "code",
   "execution_count": null,
   "id": "5641ca54",
   "metadata": {},
   "outputs": [],
   "source": []
  },
  {
   "cell_type": "code",
   "execution_count": 4,
   "id": "4ce8f895",
   "metadata": {},
   "outputs": [],
   "source": [
    "def print_board(board):\n",
    "    for row in board:\n",
    "        print(\"\\t\".join(str(i) for i in row))"
   ]
  },
  {
   "cell_type": "code",
   "execution_count": 6,
   "id": "cc2b34ff",
   "metadata": {},
   "outputs": [],
   "source": [
    "\n",
    "def put_queens(board, i=0):\n",
    "    if i >= 8:\n",
    "        return board\n",
    "    board = board.copy()\n",
    "    for j in range(8):\n",
    "        try:\n",
    "#             print(i, j, sep= \", \")\n",
    "            updated_board = fill_positions_queen(board, i, j)\n",
    "#             print_board(updated_board)\n",
    "#             print()\n",
    "            return put_queens(updated_board, i+1)\n",
    "        except Exception as e:\n",
    "            pass\n",
    "    raise Exception(\"Invaid state reached\")"
   ]
  },
  {
   "cell_type": "code",
   "execution_count": 7,
   "id": "41f0b942",
   "metadata": {
    "scrolled": true
   },
   "outputs": [],
   "source": [
    "board = create_board()\n",
    "board = put_queens(board)"
   ]
  },
  {
   "cell_type": "code",
   "execution_count": 8,
   "id": "1827f306",
   "metadata": {
    "scrolled": false
   },
   "outputs": [
    {
     "name": "stdout",
     "output_type": "stream",
     "text": [
      "Q\t-1\t-1\t-1\t-1\t-1\t-1\t-1\n",
      "-1\t-1\t-1\t-1\tQ\t-1\t-1\t-1\n",
      "-1\t-1\t-1\t-1\t-1\t-1\t-1\tQ\n",
      "-1\t-1\t-1\t-1\t-1\tQ\t-1\t-1\n",
      "-1\t-1\tQ\t-1\t-1\t-1\t-1\t-1\n",
      "-1\t-1\t-1\t-1\t-1\t-1\tQ\t-1\n",
      "-1\tQ\t-1\t-1\t-1\t-1\t-1\t-1\n",
      "-1\t-1\t-1\tQ\t-1\t-1\t-1\t-1\n"
     ]
    }
   ],
   "source": [
    "print_board(board)"
   ]
  },
  {
   "cell_type": "code",
   "execution_count": 9,
   "id": "08de6b67",
   "metadata": {},
   "outputs": [],
   "source": [
    "\n",
    "def put_queens(board, i=0):\n",
    "    solution = []\n",
    "    if i >= 8:\n",
    "        return board\n",
    "    board = board.copy()\n",
    "    for j in range(8):\n",
    "        try:\n",
    "#             print(i, j, sep= \", \")\n",
    "            updated_board = fill_positions_queen(board, i, j)\n",
    "#             print_board(updated_board)\n",
    "#             print()\n",
    "            sol = put_queens(updated_board, i+1)\n",
    "\n",
    "            if i == 0:\n",
    "                solution.append(sol)\n",
    "            else:\n",
    "                return sol\n",
    "        except Exception as e:\n",
    "            pass\n",
    "    if i == 0 :\n",
    "        return solution\n",
    "    raise Exception(\"Invaid state reached\")"
   ]
  },
  {
   "cell_type": "code",
   "execution_count": 10,
   "id": "99274e1f",
   "metadata": {},
   "outputs": [
    {
     "data": {
      "text/plain": [
       "[[['Q', -1, -1, -1, -1, -1, -1, -1],\n",
       "  [-1, -1, -1, -1, 'Q', -1, -1, -1],\n",
       "  [-1, -1, -1, -1, -1, -1, -1, 'Q'],\n",
       "  [-1, -1, -1, -1, -1, 'Q', -1, -1],\n",
       "  [-1, -1, 'Q', -1, -1, -1, -1, -1],\n",
       "  [-1, -1, -1, -1, -1, -1, 'Q', -1],\n",
       "  [-1, 'Q', -1, -1, -1, -1, -1, -1],\n",
       "  [-1, -1, -1, 'Q', -1, -1, -1, -1]],\n",
       " [[-1, 'Q', -1, -1, -1, -1, -1, -1],\n",
       "  [-1, -1, -1, 'Q', -1, -1, -1, -1],\n",
       "  [-1, -1, -1, -1, -1, 'Q', -1, -1],\n",
       "  [-1, -1, -1, -1, -1, -1, -1, 'Q'],\n",
       "  [-1, -1, 'Q', -1, -1, -1, -1, -1],\n",
       "  ['Q', -1, -1, -1, -1, -1, -1, -1],\n",
       "  [-1, -1, -1, -1, -1, -1, 'Q', -1],\n",
       "  [-1, -1, -1, -1, 'Q', -1, -1, -1]],\n",
       " [[-1, -1, 'Q', -1, -1, -1, -1, -1],\n",
       "  ['Q', -1, -1, -1, -1, -1, -1, -1],\n",
       "  [-1, -1, -1, -1, -1, -1, 'Q', -1],\n",
       "  [-1, -1, -1, -1, 'Q', -1, -1, -1],\n",
       "  [-1, -1, -1, -1, -1, -1, -1, 'Q'],\n",
       "  [-1, 'Q', -1, -1, -1, -1, -1, -1],\n",
       "  [-1, -1, -1, 'Q', -1, -1, -1, -1],\n",
       "  [-1, -1, -1, -1, -1, 'Q', -1, -1]],\n",
       " [[-1, -1, -1, 'Q', -1, -1, -1, -1],\n",
       "  ['Q', -1, -1, -1, -1, -1, -1, -1],\n",
       "  [-1, -1, -1, -1, 'Q', -1, -1, -1],\n",
       "  [-1, -1, -1, -1, -1, -1, -1, 'Q'],\n",
       "  [-1, 'Q', -1, -1, -1, -1, -1, -1],\n",
       "  [-1, -1, -1, -1, -1, -1, 'Q', -1],\n",
       "  [-1, -1, 'Q', -1, -1, -1, -1, -1],\n",
       "  [-1, -1, -1, -1, -1, 'Q', -1, -1]],\n",
       " [[-1, -1, -1, -1, 'Q', -1, -1, -1],\n",
       "  ['Q', -1, -1, -1, -1, -1, -1, -1],\n",
       "  [-1, -1, -1, 'Q', -1, -1, -1, -1],\n",
       "  [-1, -1, -1, -1, -1, 'Q', -1, -1],\n",
       "  [-1, -1, -1, -1, -1, -1, -1, 'Q'],\n",
       "  [-1, 'Q', -1, -1, -1, -1, -1, -1],\n",
       "  [-1, -1, -1, -1, -1, -1, 'Q', -1],\n",
       "  [-1, -1, 'Q', -1, -1, -1, -1, -1]],\n",
       " [[-1, -1, -1, -1, -1, 'Q', -1, -1],\n",
       "  ['Q', -1, -1, -1, -1, -1, -1, -1],\n",
       "  [-1, -1, -1, -1, 'Q', -1, -1, -1],\n",
       "  [-1, 'Q', -1, -1, -1, -1, -1, -1],\n",
       "  [-1, -1, -1, -1, -1, -1, -1, 'Q'],\n",
       "  [-1, -1, 'Q', -1, -1, -1, -1, -1],\n",
       "  [-1, -1, -1, -1, -1, -1, 'Q', -1],\n",
       "  [-1, -1, -1, 'Q', -1, -1, -1, -1]],\n",
       " [[-1, -1, -1, -1, -1, -1, 'Q', -1],\n",
       "  ['Q', -1, -1, -1, -1, -1, -1, -1],\n",
       "  [-1, -1, 'Q', -1, -1, -1, -1, -1],\n",
       "  [-1, -1, -1, -1, -1, -1, -1, 'Q'],\n",
       "  [-1, -1, -1, -1, -1, 'Q', -1, -1],\n",
       "  [-1, -1, -1, 'Q', -1, -1, -1, -1],\n",
       "  [-1, 'Q', -1, -1, -1, -1, -1, -1],\n",
       "  [-1, -1, -1, -1, 'Q', -1, -1, -1]],\n",
       " [[-1, -1, -1, -1, -1, -1, -1, 'Q'],\n",
       "  [-1, 'Q', -1, -1, -1, -1, -1, -1],\n",
       "  [-1, -1, -1, 'Q', -1, -1, -1, -1],\n",
       "  ['Q', -1, -1, -1, -1, -1, -1, -1],\n",
       "  [-1, -1, -1, -1, -1, -1, 'Q', -1],\n",
       "  [-1, -1, -1, -1, 'Q', -1, -1, -1],\n",
       "  [-1, -1, 'Q', -1, -1, -1, -1, -1],\n",
       "  [-1, -1, -1, -1, -1, 'Q', -1, -1]]]"
      ]
     },
     "execution_count": 10,
     "metadata": {},
     "output_type": "execute_result"
    }
   ],
   "source": [
    "board = create_board()\n",
    "put_queens(board)"
   ]
  },
  {
   "cell_type": "code",
   "execution_count": null,
   "id": "b1c525e3",
   "metadata": {},
   "outputs": [],
   "source": [
    "for i in range(N):\n",
    "    if possible(n, i):\n",
    "        arr[n][i] = 1\n",
    "        if solve(N-1):\n",
    "            return 1\n",
    "        arr[n][i] = 0\n",
    "    return 0"
   ]
  },
  {
   "cell_type": "code",
   "execution_count": 11,
   "id": "7bffdb23",
   "metadata": {},
   "outputs": [
    {
     "name": "stdout",
     "output_type": "stream",
     "text": [
      "1\n",
      "2\n",
      "3\n",
      "4\n",
      "5\n"
     ]
    }
   ],
   "source": [
    "array = [1,2,3,4,5]\n",
    "\n",
    "for i in array:\n",
    "    print(i)"
   ]
  },
  {
   "cell_type": "code",
   "execution_count": 13,
   "id": "154cbce6",
   "metadata": {},
   "outputs": [
    {
     "data": {
      "text/plain": [
       "[1, 4, 9, 16, 25]"
      ]
     },
     "execution_count": 13,
     "metadata": {},
     "output_type": "execute_result"
    }
   ],
   "source": [
    "x = []\n",
    "for i in array:\n",
    "    x.append(i ** 2)\n",
    "x"
   ]
  },
  {
   "cell_type": "code",
   "execution_count": 15,
   "id": "430e0eea",
   "metadata": {},
   "outputs": [
    {
     "data": {
      "text/plain": [
       "[1, 4, 9, 16, 25]"
      ]
     },
     "execution_count": 15,
     "metadata": {},
     "output_type": "execute_result"
    }
   ],
   "source": [
    "x = [i ** 2 for i in array]\n",
    "x"
   ]
  },
  {
   "cell_type": "code",
   "execution_count": 16,
   "id": "a9291f86",
   "metadata": {},
   "outputs": [
    {
     "name": "stdout",
     "output_type": "stream",
     "text": [
      "1\n"
     ]
    }
   ],
   "source": [
    "if __name__ == \"__main__\":\n",
    "    print(1)"
   ]
  },
  {
   "cell_type": "code",
   "execution_count": 17,
   "id": "4b5cfec8",
   "metadata": {},
   "outputs": [],
   "source": [
    "def add(n1, n2):\n",
    "    return n1 + n2"
   ]
  },
  {
   "cell_type": "code",
   "execution_count": 18,
   "id": "bce6c55c",
   "metadata": {},
   "outputs": [
    {
     "ename": "TypeError",
     "evalue": "unsupported operand type(s) for +: 'int' and 'str'",
     "output_type": "error",
     "traceback": [
      "\u001b[0;31m---------------------------------------------------------------------------\u001b[0m",
      "\u001b[0;31mTypeError\u001b[0m                                 Traceback (most recent call last)",
      "Cell \u001b[0;32mIn[18], line 1\u001b[0m\n\u001b[0;32m----> 1\u001b[0m \u001b[43madd\u001b[49m\u001b[43m(\u001b[49m\u001b[38;5;241;43m1\u001b[39;49m\u001b[43m,\u001b[49m\u001b[43m \u001b[49m\u001b[38;5;124;43m\"\u001b[39;49m\u001b[38;5;124;43ma\u001b[39;49m\u001b[38;5;124;43m\"\u001b[39;49m\u001b[43m)\u001b[49m\n",
      "Cell \u001b[0;32mIn[17], line 2\u001b[0m, in \u001b[0;36madd\u001b[0;34m(n1, n2)\u001b[0m\n\u001b[1;32m      1\u001b[0m \u001b[38;5;28;01mdef\u001b[39;00m \u001b[38;5;21madd\u001b[39m(n1, n2):\n\u001b[0;32m----> 2\u001b[0m     \u001b[38;5;28;01mreturn\u001b[39;00m \u001b[43mn1\u001b[49m\u001b[43m \u001b[49m\u001b[38;5;241;43m+\u001b[39;49m\u001b[43m \u001b[49m\u001b[43mn2\u001b[49m\n",
      "\u001b[0;31mTypeError\u001b[0m: unsupported operand type(s) for +: 'int' and 'str'"
     ]
    }
   ],
   "source": [
    "add(1, \"a\")"
   ]
  },
  {
   "cell_type": "code",
   "execution_count": 20,
   "id": "e3e39716",
   "metadata": {},
   "outputs": [],
   "source": [
    "def add(n1: int, n2: int) -> tuple:\n",
    "    return n1 + n2, True"
   ]
  },
  {
   "cell_type": "code",
   "execution_count": 21,
   "id": "48236348",
   "metadata": {},
   "outputs": [],
   "source": [
    "from typing import Tuple"
   ]
  },
  {
   "cell_type": "code",
   "execution_count": 22,
   "id": "228a1728",
   "metadata": {},
   "outputs": [],
   "source": [
    "def add(n1: int, n2: int) -> Tuple[int, bool]:\n",
    "    return n1 + n2, True"
   ]
  },
  {
   "cell_type": "code",
   "execution_count": 23,
   "id": "d4846b50",
   "metadata": {},
   "outputs": [],
   "source": [
    "from dataclasses import dataclass"
   ]
  },
  {
   "cell_type": "code",
   "execution_count": 26,
   "id": "4a4ae1b2",
   "metadata": {},
   "outputs": [],
   "source": [
    "@dataclass\n",
    "class Test:\n",
    "    x: int\n",
    "    y: int = 3"
   ]
  },
  {
   "cell_type": "code",
   "execution_count": 27,
   "id": "2a1867f1",
   "metadata": {},
   "outputs": [
    {
     "data": {
      "text/plain": [
       "Test(x=1, y=3)"
      ]
     },
     "execution_count": 27,
     "metadata": {},
     "output_type": "execute_result"
    }
   ],
   "source": [
    "Test(1)"
   ]
  },
  {
   "cell_type": "code",
   "execution_count": 30,
   "id": "2e92147b",
   "metadata": {},
   "outputs": [],
   "source": [
    "def add(a, b):\n",
    "    return a * b"
   ]
  },
  {
   "cell_type": "code",
   "execution_count": 31,
   "id": "f6db3d5e",
   "metadata": {},
   "outputs": [
    {
     "ename": "AssertionError",
     "evalue": "",
     "output_type": "error",
     "traceback": [
      "\u001b[0;31m---------------------------------------------------------------------------\u001b[0m",
      "\u001b[0;31mAssertionError\u001b[0m                            Traceback (most recent call last)",
      "Cell \u001b[0;32mIn[31], line 1\u001b[0m\n\u001b[0;32m----> 1\u001b[0m \u001b[38;5;28;01massert\u001b[39;00m add(\u001b[38;5;241m3\u001b[39m, \u001b[38;5;241m2\u001b[39m) \u001b[38;5;241m==\u001b[39m \u001b[38;5;241m5\u001b[39m\n",
      "\u001b[0;31mAssertionError\u001b[0m: "
     ]
    }
   ],
   "source": [
    "assert add(3, 2) == 5"
   ]
  },
  {
   "cell_type": "code",
   "execution_count": 32,
   "id": "770110b3",
   "metadata": {},
   "outputs": [],
   "source": [
    "# Testing code \n",
    "# pytest, unittest, hypothesis"
   ]
  },
  {
   "cell_type": "code",
   "execution_count": 33,
   "id": "37f21c99",
   "metadata": {},
   "outputs": [],
   "source": [
    "def test(x, y):\n",
    "    return x + y"
   ]
  },
  {
   "cell_type": "code",
   "execution_count": 40,
   "id": "83f89a33",
   "metadata": {},
   "outputs": [],
   "source": [
    "d = {\"x\": 1, \"y\": 2}"
   ]
  },
  {
   "cell_type": "code",
   "execution_count": 35,
   "id": "884340ac",
   "metadata": {},
   "outputs": [
    {
     "data": {
      "text/plain": [
       "3"
      ]
     },
     "execution_count": 35,
     "metadata": {},
     "output_type": "execute_result"
    }
   ],
   "source": [
    "d = (1, 2)\n",
    "test(*d)"
   ]
  },
  {
   "cell_type": "code",
   "execution_count": null,
   "id": "a17514ab",
   "metadata": {},
   "outputs": [],
   "source": []
  }
 ],
 "metadata": {
  "kernelspec": {
   "display_name": "Python 3 (ipykernel)",
   "language": "python",
   "name": "python3"
  },
  "language_info": {
   "codemirror_mode": {
    "name": "ipython",
    "version": 3
   },
   "file_extension": ".py",
   "mimetype": "text/x-python",
   "name": "python",
   "nbconvert_exporter": "python",
   "pygments_lexer": "ipython3",
   "version": "3.10.6"
  }
 },
 "nbformat": 4,
 "nbformat_minor": 5
}
