{
  "nbformat": 4,
  "nbformat_minor": 0,
  "metadata": {
    "colab": {
      "provenance": []
    },
    "kernelspec": {
      "name": "python3",
      "display_name": "Python 3"
    },
    "language_info": {
      "name": "python"
    }
  },
  "cells": [
    {
      "cell_type": "code",
      "execution_count": null,
      "metadata": {
        "id": "4pNIDDSjH_To"
      },
      "outputs": [],
      "source": [
        "class A:\n",
        "    count = 0\n",
        "\n",
        "    def __init__(self):\n",
        "        self.__hidden = 1\n",
        "\n",
        "    @classmethod\n",
        "    def increase_count(cls):\n",
        "        cls.count += 1\n"
      ]
    },
    {
      "cell_type": "code",
      "source": [
        "a1 = A()\n",
        "a2 = A()"
      ],
      "metadata": {
        "id": "zAaO29NwIJVb"
      },
      "execution_count": null,
      "outputs": []
    },
    {
      "cell_type": "code",
      "source": [
        "a1.count, a2.count"
      ],
      "metadata": {
        "colab": {
          "base_uri": "https://localhost:8080/"
        },
        "id": "vKRTMb_rOPPc",
        "outputId": "eb7cbef7-cc55-418c-938b-d39e37f016cf"
      },
      "execution_count": null,
      "outputs": [
        {
          "output_type": "execute_result",
          "data": {
            "text/plain": [
              "(0, 0)"
            ]
          },
          "metadata": {},
          "execution_count": 50
        }
      ]
    },
    {
      "cell_type": "code",
      "source": [
        "a1.count += 1\n",
        "\n",
        "a1.count, a2.count, A.count"
      ],
      "metadata": {
        "colab": {
          "base_uri": "https://localhost:8080/"
        },
        "id": "BL0tPuBYIOOo",
        "outputId": "227aaaf5-c2be-4df8-da7b-4d5e6f2f12ca"
      },
      "execution_count": null,
      "outputs": [
        {
          "output_type": "execute_result",
          "data": {
            "text/plain": [
              "(1, 0, 0)"
            ]
          },
          "metadata": {},
          "execution_count": 51
        }
      ]
    },
    {
      "cell_type": "code",
      "source": [
        "a1.increase_count()\n",
        "a1.count, a2.count, A.count"
      ],
      "metadata": {
        "colab": {
          "base_uri": "https://localhost:8080/"
        },
        "id": "i1mW8ZiyIS3g",
        "outputId": "8a72eb2f-6612-432a-c1d3-6cfedde43d91"
      },
      "execution_count": null,
      "outputs": [
        {
          "output_type": "execute_result",
          "data": {
            "text/plain": [
              "(1, 3, 3)"
            ]
          },
          "metadata": {},
          "execution_count": 54
        }
      ]
    },
    {
      "cell_type": "code",
      "source": [
        "class Circle:\n",
        "    pi = 3.1415\n",
        "\n",
        "    def __init__(self, r):\n",
        "        self.radius = r\n",
        "\n",
        "    def area(self):\n",
        "        return 2 * self.pi * (self.radius **2)\n",
        "\n",
        "    @classmethod\n",
        "    def from_area(cls, area):\n",
        "        r = (area/(2*cls.pi)) ** 0.5 \n",
        "        return cls(r)\n",
        "    \n"
      ],
      "metadata": {
        "id": "DH2b3GQ9Ij4p"
      },
      "execution_count": null,
      "outputs": []
    },
    {
      "cell_type": "code",
      "source": [
        "c1 = Circle(1)\n",
        "c1.radius , c1.area()"
      ],
      "metadata": {
        "colab": {
          "base_uri": "https://localhost:8080/"
        },
        "id": "AJKVBbB2JYaC",
        "outputId": "0d41f9f8-52d7-4c69-90c1-e01ef9c02bc6"
      },
      "execution_count": null,
      "outputs": [
        {
          "output_type": "execute_result",
          "data": {
            "text/plain": [
              "(1, 6.283)"
            ]
          },
          "metadata": {},
          "execution_count": 64
        }
      ]
    },
    {
      "cell_type": "code",
      "source": [
        "Circle.from_area(25.132)"
      ],
      "metadata": {
        "colab": {
          "base_uri": "https://localhost:8080/"
        },
        "id": "6d0Ep3t4OzIQ",
        "outputId": "fce54644-36b1-476b-a9e7-7e25791a17a2"
      },
      "execution_count": null,
      "outputs": [
        {
          "output_type": "execute_result",
          "data": {
            "text/plain": [
              "<__main__.Circle at 0x7f66d4889970>"
            ]
          },
          "metadata": {},
          "execution_count": 59
        }
      ]
    },
    {
      "cell_type": "code",
      "source": [
        "class Circle:\n",
        "    pi = 3.1415\n",
        "\n",
        "    def __init__(self, r):\n",
        "        self.radius = r\n",
        "    \n",
        "    @property\n",
        "    def area(self):\n",
        "        return 2 * self.pi * (self.radius **2)\n",
        "\n",
        "    @classmethod\n",
        "    def from_area(cls, area):\n",
        "        r = (area/(2*cls.pi)) ** 0.5 \n",
        "        cls(r)\n"
      ],
      "metadata": {
        "id": "mmwCPwSXJkyx"
      },
      "execution_count": null,
      "outputs": []
    },
    {
      "cell_type": "code",
      "source": [
        "c1 = Circle(1)\n",
        "c1.area"
      ],
      "metadata": {
        "colab": {
          "base_uri": "https://localhost:8080/"
        },
        "id": "1JJgBzD8KyxF",
        "outputId": "ee51a797-4ecd-4d0e-b144-4ad7a906c40e"
      },
      "execution_count": null,
      "outputs": [
        {
          "output_type": "execute_result",
          "data": {
            "text/plain": [
              "6.283"
            ]
          },
          "metadata": {},
          "execution_count": 69
        }
      ]
    },
    {
      "cell_type": "code",
      "source": [
        "class Circle:\n",
        "    pi = 3.1415\n",
        "    def __init__(self, radius):\n",
        "        \"\"\"\n",
        "        radius: radius of cirle in cm.\n",
        "        \"\"\"\n",
        "        self.radius = radius\n",
        "    \n",
        "    def __str__(self):\n",
        "        return self.radius\n",
        "\n",
        "    def __repr__(self):\n",
        "        return f\"Circle(radius={self.radius})\"\n",
        "    @property\n",
        "    def area(self):\n",
        "        return 2 * self.pi * (self.radius **2)\n",
        "    @area.setter\n",
        "    def area(self, area):\n",
        "        self.radius = Circle.from_area(area).radius\n",
        "\n",
        "    @classmethod\n",
        "    def from_area(cls, area):\n",
        "        r = (area/(2*cls.pi)) ** 0.5 \n",
        "        return cls(r)\n",
        "    \n",
        "    @staticmethod\n",
        "    def inch_to_cm(distance):\n",
        "        return 2.54 * distance"
      ],
      "metadata": {
        "id": "rtuB2gyWJuqA"
      },
      "execution_count": null,
      "outputs": []
    },
    {
      "cell_type": "code",
      "source": [],
      "metadata": {
        "id": "SZV3qLckKxkt"
      },
      "execution_count": null,
      "outputs": []
    },
    {
      "cell_type": "code",
      "source": [
        "c1 = Circle(1)\n",
        "c2 = Circle(2)"
      ],
      "metadata": {
        "id": "QBn3C9d4J6qt"
      },
      "execution_count": null,
      "outputs": []
    },
    {
      "cell_type": "code",
      "source": [
        "\n",
        "c2.area"
      ],
      "metadata": {
        "colab": {
          "base_uri": "https://localhost:8080/"
        },
        "id": "y6wwAtJkLSKM",
        "outputId": "88ff0e50-9343-4f59-b1bc-b0dae2fca16a"
      },
      "execution_count": null,
      "outputs": [
        {
          "output_type": "execute_result",
          "data": {
            "text/plain": [
              "25.132"
            ]
          },
          "metadata": {},
          "execution_count": 72
        }
      ]
    },
    {
      "cell_type": "code",
      "source": [
        "\n",
        "c1.area"
      ],
      "metadata": {
        "colab": {
          "base_uri": "https://localhost:8080/"
        },
        "id": "ISQIJaEHPmcQ",
        "outputId": "7f86c6bb-f808-474d-e005-e282a13fe5e0"
      },
      "execution_count": null,
      "outputs": [
        {
          "output_type": "execute_result",
          "data": {
            "text/plain": [
              "6.283"
            ]
          },
          "metadata": {},
          "execution_count": 74
        }
      ]
    },
    {
      "cell_type": "code",
      "source": [
        "c1.radius, c1.area"
      ],
      "metadata": {
        "colab": {
          "base_uri": "https://localhost:8080/"
        },
        "id": "Px-z_be3KLam",
        "outputId": "f75f5fcd-c4bf-4efd-9d37-0f43b479df77"
      },
      "execution_count": null,
      "outputs": [
        {
          "output_type": "execute_result",
          "data": {
            "text/plain": [
              "(1, 6.283)"
            ]
          },
          "metadata": {},
          "execution_count": 73
        }
      ]
    },
    {
      "cell_type": "code",
      "source": [
        "c1.area = 25.132"
      ],
      "metadata": {
        "id": "oUXtfpFELMIr"
      },
      "execution_count": null,
      "outputs": []
    },
    {
      "cell_type": "code",
      "source": [
        "c1.area, c1.radius"
      ],
      "metadata": {
        "colab": {
          "base_uri": "https://localhost:8080/"
        },
        "id": "MnHQsrmwLU1u",
        "outputId": "e291a368-b17e-4ef2-a83e-d5b08b2c3080"
      },
      "execution_count": null,
      "outputs": [
        {
          "output_type": "execute_result",
          "data": {
            "text/plain": [
              "(25.132, 2.0)"
            ]
          },
          "metadata": {},
          "execution_count": 77
        }
      ]
    },
    {
      "cell_type": "code",
      "source": [
        "class Circle:\n",
        "    pi = 3.1415\n",
        "\n",
        "    def __init__(self, radius):\n",
        "        \"\"\"\n",
        "        radius: radius of cirle in cm.\n",
        "        \"\"\"\n",
        "        self.radius = radius\n",
        "    \n",
        "    def __str__(self):\n",
        "        return self.radius\n",
        "\n",
        "    def __repr__(self):\n",
        "        return f\"Circle(radius={self.radius})\"\n",
        "    @property\n",
        "    def area(self):\n",
        "        return 2 * self.pi * (self.radius **2)\n",
        "    @area.setter\n",
        "    def area(self, area):\n",
        "        self.radius = Circle.from_area(area).radius\n",
        "\n",
        "    @classmethod\n",
        "    def from_area(cls, area):\n",
        "        r = (area/(2*cls.pi)) ** 0.5 \n",
        "        return cls(r)\n",
        "    \n",
        "    @staticmethod\n",
        "    def inch_to_cm(distance):\n",
        "        return 2.54 * distance"
      ],
      "metadata": {
        "id": "rmd7arKTLWOJ"
      },
      "execution_count": null,
      "outputs": []
    },
    {
      "cell_type": "code",
      "source": [
        "print(1, Circle.inch_to_cm(1))\n",
        "c1 = Circle(1)\n",
        "print(2, c1.inch_to_cm(1))"
      ],
      "metadata": {
        "colab": {
          "base_uri": "https://localhost:8080/"
        },
        "id": "hiPGXGXSMsOw",
        "outputId": "28edffed-da48-4162-d625-c88d9b2e27eb"
      },
      "execution_count": null,
      "outputs": [
        {
          "output_type": "stream",
          "name": "stdout",
          "text": [
            "1 2.54\n",
            "2 2.54\n"
          ]
        }
      ]
    },
    {
      "cell_type": "code",
      "source": [
        "def outer():\n",
        "    def inner():\n",
        "        pass\n",
        "    return inner"
      ],
      "metadata": {
        "id": "MsV67er3MudX"
      },
      "execution_count": null,
      "outputs": []
    },
    {
      "cell_type": "code",
      "source": [
        "def outer(func):\n",
        "    def inner():\n",
        "        print(\"# preprocessing\")\n",
        "        result = func()\n",
        "        print(\"# post processing\")\n",
        "        return result\n",
        "    return inner"
      ],
      "metadata": {
        "id": "kQvdVwLrRXNa"
      },
      "execution_count": null,
      "outputs": []
    },
    {
      "cell_type": "code",
      "source": [
        "def test_func():\n",
        "    print(\"function is called\")"
      ],
      "metadata": {
        "id": "RcgmQzIVRvTg"
      },
      "execution_count": null,
      "outputs": []
    },
    {
      "cell_type": "code",
      "source": [
        "temp_function = outer(test_func)"
      ],
      "metadata": {
        "id": "CsHQ-ECFRsu5"
      },
      "execution_count": null,
      "outputs": []
    },
    {
      "cell_type": "code",
      "source": [
        "temp_function()"
      ],
      "metadata": {
        "colab": {
          "base_uri": "https://localhost:8080/"
        },
        "id": "PDpyI0MUR0pb",
        "outputId": "b2de4c75-fa4a-4815-87a1-98a8e263f895"
      },
      "execution_count": null,
      "outputs": [
        {
          "output_type": "stream",
          "name": "stdout",
          "text": [
            "# preprocessing\n",
            "function is called\n",
            "# post processing\n"
          ]
        }
      ]
    },
    {
      "cell_type": "code",
      "source": [
        "@outer\n",
        "def test_func2(a):\n",
        "    print(\"function is called\")\n",
        "    return a/2"
      ],
      "metadata": {
        "id": "RjXvGM-jR-Cc"
      },
      "execution_count": null,
      "outputs": []
    },
    {
      "cell_type": "code",
      "source": [
        "test_func2(1)"
      ],
      "metadata": {
        "colab": {
          "base_uri": "https://localhost:8080/",
          "height": 171
        },
        "id": "kAFQIqg4SN-l",
        "outputId": "3917f970-1ac2-4978-d803-46b0c98ded11"
      },
      "execution_count": null,
      "outputs": [
        {
          "output_type": "error",
          "ename": "TypeError",
          "evalue": "ignored",
          "traceback": [
            "\u001b[0;31m---------------------------------------------------------------------------\u001b[0m",
            "\u001b[0;31mTypeError\u001b[0m                                 Traceback (most recent call last)",
            "\u001b[0;32m<ipython-input-102-f9321708c4ad>\u001b[0m in \u001b[0;36m<module>\u001b[0;34m\u001b[0m\n\u001b[0;32m----> 1\u001b[0;31m \u001b[0mtest_func2\u001b[0m\u001b[0;34m(\u001b[0m\u001b[0;36m1\u001b[0m\u001b[0;34m)\u001b[0m\u001b[0;34m\u001b[0m\u001b[0;34m\u001b[0m\u001b[0m\n\u001b[0m",
            "\u001b[0;31mTypeError\u001b[0m: inner() takes 0 positional arguments but 1 was given"
          ]
        }
      ]
    },
    {
      "cell_type": "code",
      "source": [
        "def outer(func):\n",
        "    def inner(*args):\n",
        "        print(\"# preprocessing\")\n",
        "        result = func(*args)\n",
        "        print(\"# post processing\")\n",
        "        return result\n",
        "    return inner"
      ],
      "metadata": {
        "id": "jGIxrD4OSP-f"
      },
      "execution_count": null,
      "outputs": []
    },
    {
      "cell_type": "code",
      "source": [
        "@outer\n",
        "def test_func2(a):\n",
        "    print(\"function is called\")\n",
        "    return a/2"
      ],
      "metadata": {
        "id": "Q153oKq4SmJt"
      },
      "execution_count": null,
      "outputs": []
    },
    {
      "cell_type": "code",
      "source": [
        "test_func2(2)"
      ],
      "metadata": {
        "colab": {
          "base_uri": "https://localhost:8080/"
        },
        "id": "EzBe0BQ3SpII",
        "outputId": "f6dcc338-be1b-4fdf-a248-e913a94eb888"
      },
      "execution_count": null,
      "outputs": [
        {
          "output_type": "stream",
          "name": "stdout",
          "text": [
            "# preprocessing\n",
            "function is called\n",
            "# post processing\n"
          ]
        },
        {
          "output_type": "execute_result",
          "data": {
            "text/plain": [
              "1.0"
            ]
          },
          "metadata": {},
          "execution_count": 105
        }
      ]
    },
    {
      "cell_type": "code",
      "source": [
        "test_func2(a=2)"
      ],
      "metadata": {
        "colab": {
          "base_uri": "https://localhost:8080/",
          "height": 171
        },
        "id": "CJBM5bg0Szpn",
        "outputId": "fafedc71-6885-49be-fe25-ade12c2722c0"
      },
      "execution_count": null,
      "outputs": [
        {
          "output_type": "error",
          "ename": "TypeError",
          "evalue": "ignored",
          "traceback": [
            "\u001b[0;31m---------------------------------------------------------------------------\u001b[0m",
            "\u001b[0;31mTypeError\u001b[0m                                 Traceback (most recent call last)",
            "\u001b[0;32m<ipython-input-106-e471f2f6c28c>\u001b[0m in \u001b[0;36m<module>\u001b[0;34m\u001b[0m\n\u001b[0;32m----> 1\u001b[0;31m \u001b[0mtest_func2\u001b[0m\u001b[0;34m(\u001b[0m\u001b[0ma\u001b[0m\u001b[0;34m=\u001b[0m\u001b[0;36m2\u001b[0m\u001b[0;34m)\u001b[0m\u001b[0;34m\u001b[0m\u001b[0;34m\u001b[0m\u001b[0m\n\u001b[0m",
            "\u001b[0;31mTypeError\u001b[0m: inner() got an unexpected keyword argument 'a'"
          ]
        }
      ]
    },
    {
      "cell_type": "code",
      "source": [
        "def outer(func):\n",
        "    def inner(*args, **kwargs):\n",
        "        print(kwargs)\n",
        "        print(\"# preprocessing\")\n",
        "        result = func(*args, **kwargs)\n",
        "        print(\"# post processing\")\n",
        "        return result\n",
        "    return inner"
      ],
      "metadata": {
        "id": "v4guPE5nS3mf"
      },
      "execution_count": null,
      "outputs": []
    },
    {
      "cell_type": "code",
      "source": [
        "@outer\n",
        "def test_func2(a):\n",
        "    print(\"function is called\")\n",
        "    return a/2"
      ],
      "metadata": {
        "id": "g9TU7UlOS-UB"
      },
      "execution_count": null,
      "outputs": []
    },
    {
      "cell_type": "code",
      "source": [
        "test_func2(a=2) "
      ],
      "metadata": {
        "colab": {
          "base_uri": "https://localhost:8080/"
        },
        "id": "XTjZx-3VS_tI",
        "outputId": "67be3dd3-42a8-48ea-c4bc-c7ef332f086f"
      },
      "execution_count": null,
      "outputs": [
        {
          "output_type": "stream",
          "name": "stdout",
          "text": [
            "{'a': 2}\n",
            "# preprocessing\n",
            "function is called\n",
            "# post processing\n"
          ]
        },
        {
          "output_type": "execute_result",
          "data": {
            "text/plain": [
              "1.0"
            ]
          },
          "metadata": {},
          "execution_count": 117
        }
      ]
    },
    {
      "cell_type": "code",
      "source": [],
      "metadata": {
        "id": "mFELOKicTPWW"
      },
      "execution_count": null,
      "outputs": []
    },
    {
      "cell_type": "code",
      "source": [
        "\n",
        "import time"
      ],
      "metadata": {
        "id": "0SJzIxN2TU8M"
      },
      "execution_count": null,
      "outputs": []
    },
    {
      "cell_type": "code",
      "source": [
        "def timer(func):\n",
        "    def inner(*args, **kwargs):\n",
        "        print(kwargs)\n",
        "        start = time.time()\n",
        "        result = func(*args, **kwargs)\n",
        "        end = time.time()\n",
        "        print(\"time taken for the function is : \", end-start)\n",
        "        return result\n",
        "    return inner"
      ],
      "metadata": {
        "id": "xuVv2v7MTCoY"
      },
      "execution_count": null,
      "outputs": []
    },
    {
      "cell_type": "code",
      "source": [
        "@timer\n",
        "def test_func3():\n",
        "    time.sleep(3)\n",
        "    return 2"
      ],
      "metadata": {
        "id": "pZURHnzJTdhP"
      },
      "execution_count": null,
      "outputs": []
    },
    {
      "cell_type": "code",
      "source": [
        "test_func3()"
      ],
      "metadata": {
        "colab": {
          "base_uri": "https://localhost:8080/"
        },
        "id": "Q5WafZaoTi7P",
        "outputId": "efc918fb-00d6-4927-ac4c-65cd8b750920"
      },
      "execution_count": null,
      "outputs": [
        {
          "output_type": "stream",
          "name": "stdout",
          "text": [
            "{}\n",
            "time taken for the function is :  3.0031073093414307\n"
          ]
        },
        {
          "output_type": "execute_result",
          "data": {
            "text/plain": [
              "2"
            ]
          },
          "metadata": {},
          "execution_count": 123
        }
      ]
    },
    {
      "cell_type": "code",
      "source": [],
      "metadata": {
        "id": "F9HQ0i5FToab"
      },
      "execution_count": null,
      "outputs": []
    }
  ]
}