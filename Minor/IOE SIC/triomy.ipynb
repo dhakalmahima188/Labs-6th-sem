{
 "cells": [
  {
   "cell_type": "code",
   "execution_count": 2,
   "id": "db545275",
   "metadata": {},
   "outputs": [],
   "source": [
    "def create_structure(n, point):\n",
    "#     array = [[0]*n]*n\n",
    "    array = [[0]*n for i in range(n)]\n",
    "    x, y = point\n",
    "    array[x][y] = -1\n",
    "    return array"
   ]
  },
  {
   "cell_type": "code",
   "execution_count": 12,
   "id": "a27465d7",
   "metadata": {},
   "outputs": [
    {
     "name": "stdout",
     "output_type": "stream",
     "text": [
      "[0, 0, 0, 0, 0, 0, 0, 0]\n",
      "[0, 0, 0, 0, 0, 0, 0, 0]\n",
      "[0, 0, 0, 0, 0, 0, 0, 0]\n",
      "[0, 0, 0, 0, 0, 0, 0, 0]\n",
      "[0, 0, 0, 0, 0, 0, 0, 0]\n",
      "[0, 0, 0, 0, 0, 0, 0, 0]\n",
      "[0, 0, 0, 0, 0, 0, 0, 0]\n",
      "[0, 0, 0, 0, 0, 0, 0, -1]\n"
     ]
    }
   ],
   "source": [
    "\n",
    "structure = create_structure(8, (7,7))\n",
    "\n",
    "for i in structure:\n",
    "    print(i)"
   ]
  },
  {
   "cell_type": "code",
   "execution_count": null,
   "id": "65f52d2e",
   "metadata": {},
   "outputs": [],
   "source": []
  },
  {
   "cell_type": "code",
   "execution_count": 9,
   "id": "e1663a73",
   "metadata": {},
   "outputs": [],
   "source": [
    "import math\n"
   ]
  },
  {
   "cell_type": "code",
   "execution_count": 10,
   "id": "c7c0d85c",
   "metadata": {},
   "outputs": [],
   "source": [
    "def find_filled_quarter(array, x_start, x_end, y_start, y_end):\n",
    "    length = x_end - x_start\n",
    "    pos = None\n",
    "    for i in range(x_start, x_end):\n",
    "        for j in range(y_start, y_end):\n",
    "            if array[i][j]:\n",
    "                pos = i, j\n",
    "                t = \"\"\n",
    "                t += \"0\" if i <  x_start + length//2 else \"1\"\n",
    "                t += \"0\" if j <  y_start + length//2 else \"1\"\n",
    "    return int(t, 2)"
   ]
  },
  {
   "cell_type": "code",
   "execution_count": 13,
   "id": "aa3138e0",
   "metadata": {},
   "outputs": [],
   "source": [
    "def solve_structure(array, x_start, x_end, y_start, y_end, n=1):\n",
    "#     print(x_start, x_end, y_start,y_end, n, x_end - x_start, sep=\" || \")\n",
    "    if x_end - x_start == 2:\n",
    "        for i in range(x_start, x_end):\n",
    "            for j in range(y_start, y_end):\n",
    "                if not array[i][j]:\n",
    "                    array[i][j] = n\n",
    "        n += 1\n",
    "        return n\n",
    "    \n",
    "    \n",
    "    length = x_end - x_start\n",
    "    # find which quardrant is already filled\n",
    "    x = find_filled_quarter(array, x_start, x_end, y_start, y_end)\n",
    "#     print(x_start, x_end, y_start, y_end)\n",
    "    l2 = length //2 \n",
    "    \n",
    "    mid_points = [\n",
    "        (x_start + length//2 -1, y_start + l2 -1),\n",
    "        (x_start + length//2 -1, y_start + l2),\n",
    "        (x_start + length//2, y_start + l2 -1),\n",
    "        (x_start + length//2 , y_start + l2 ),\n",
    "\n",
    "    ] \n",
    "    for index, (i, j) in enumerate(mid_points):\n",
    "        if x == index:\n",
    "            continue\n",
    "        array[i][j] = n\n",
    "        \n",
    "    n += 1\n",
    "    \n",
    "    n = solve_structure(array, x_start, x_start + l2, y_start, y_start + l2, n)\n",
    "    n = solve_structure(array, x_start, x_start + l2, y_start + l2, y_end, n)\n",
    "    n = solve_structure(array, x_start + l2, x_end, y_start, y_start + l2, n)\n",
    "    n = solve_structure(array, x_start + l2, x_end, y_start + l2, y_end, n)\n",
    "    return n\n",
    "        "
   ]
  },
  {
   "cell_type": "code",
   "execution_count": null,
   "id": "b1abd5d4",
   "metadata": {},
   "outputs": [],
   "source": []
  },
  {
   "cell_type": "code",
   "execution_count": 16,
   "id": "dccf0e64",
   "metadata": {
    "scrolled": true
   },
   "outputs": [
    {
     "data": {
      "text/plain": [
       "[[3, 3, 4, 4, 8, 8, 9, 9],\n",
       " [3, 2, 2, 4, 8, 7, 7, 9],\n",
       " [5, 2, 6, 6, 10, 10, 7, 11],\n",
       " [5, 5, 6, 1, 1, 10, 11, 11],\n",
       " [13, 13, 14, 1, 18, 18, 19, 19],\n",
       " [13, 12, 14, 14, 18, 17, 17, 19],\n",
       " [15, 12, 12, 16, 20, -1, 17, 21],\n",
       " [15, 15, 16, 16, 20, 20, 21, 21]]"
      ]
     },
     "execution_count": 16,
     "metadata": {},
     "output_type": "execute_result"
    }
   ],
   "source": [
    "\n",
    "structure = create_structure(8, (6,5))\n",
    "solve_structure(structure, 0, len(structure), 0, len(structure))\n",
    "structure"
   ]
  },
  {
   "cell_type": "code",
   "execution_count": 17,
   "id": "bcf481a2",
   "metadata": {},
   "outputs": [
    {
     "name": "stdout",
     "output_type": "stream",
     "text": [
      "3\t3\t4\t4\t8\t8\t9\t9\n",
      "3\t2\t2\t4\t8\t7\t7\t9\n",
      "5\t2\t6\t6\t10\t10\t7\t11\n",
      "5\t5\t6\t1\t1\t10\t11\t11\n",
      "13\t13\t14\t1\t18\t18\t19\t19\n",
      "13\t12\t14\t14\t18\t17\t17\t19\n",
      "15\t12\t12\t16\t20\t-1\t17\t21\n",
      "15\t15\t16\t16\t20\t20\t21\t21\n"
     ]
    }
   ],
   "source": [
    "for i in structure:\n",
    "    print(\"\\t\".join(str(j) for j in i))"
   ]
  },
  {
   "cell_type": "code",
   "execution_count": null,
   "id": "adfed65b",
   "metadata": {},
   "outputs": [],
   "source": []
  },
  {
   "cell_type": "code",
   "execution_count": null,
   "id": "bdd1e489",
   "metadata": {},
   "outputs": [],
   "source": []
  }
 ],
 "metadata": {
  "kernelspec": {
   "display_name": "Python 3 (ipykernel)",
   "language": "python",
   "name": "python3"
  },
  "language_info": {
   "codemirror_mode": {
    "name": "ipython",
    "version": 3
   },
   "file_extension": ".py",
   "mimetype": "text/x-python",
   "name": "python",
   "nbconvert_exporter": "python",
   "pygments_lexer": "ipython3",
   "version": "3.10.6"
  }
 },
 "nbformat": 4,
 "nbformat_minor": 5
}
