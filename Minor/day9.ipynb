{
 "cells": [
  {
   "cell_type": "code",
   "execution_count": null,
   "metadata": {},
   "outputs": [],
   "source": [
    "#function closuer and class\n",
    "a=0\n",
    "b=1\n",
    "try:\n",
    "    c=b/a\n",
    "except Exception as e:\n",
    "    print(e)\n",
    "else:\n",
    "    print(\"inside else\") #excepton naauda matra run hunchha\n",
    "finally:\n",
    "    print(\"inside finally\") #last ma run hunchha\n",
    "    "
   ]
  },
  {
   "cell_type": "code",
   "execution_count": null,
   "metadata": {},
   "outputs": [],
   "source": [
    "l1=[1,2,3,4,5]\n",
    "l2=[0,5,1,2,3]\n",
    "all(l1), all(l2), any(l2)"
   ]
  },
  {
   "cell_type": "code",
   "execution_count": null,
   "metadata": {},
   "outputs": [],
   "source": [
    "all([]),any([]) #empty vaera "
   ]
  },
  {
   "cell_type": "code",
   "execution_count": null,
   "metadata": {},
   "outputs": [],
   "source": [
    "a=[1,2,3,4]\n",
    "{i for i in a}\n",
    "{i: i**2 for i in a}"
   ]
  },
  {
   "cell_type": "code",
   "execution_count": null,
   "metadata": {},
   "outputs": [],
   "source": [
    "(i for i in a) #generator object"
   ]
  },
  {
   "cell_type": "code",
   "execution_count": null,
   "metadata": {},
   "outputs": [],
   "source": [
    "{print(i) for i in a } #NONTYYPE"
   ]
  },
  {
   "cell_type": "code",
   "execution_count": null,
   "metadata": {},
   "outputs": [],
   "source": [
    "x=10\n",
    "y=11\n",
    "def foo():\n",
    "    x=10\n",
    "    def bar():\n",
    "        a=30\n",
    "        print(a,x,y)\n",
    "    bar()\n",
    "    x=40\n",
    "    bar()\n",
    "foo()"
   ]
  },
  {
   "cell_type": "code",
   "execution_count": null,
   "metadata": {},
   "outputs": [],
   "source": [
    "abs(-5)\n",
    "abs=10\n",
    "abs(-5) #abs nai integer bhaideo"
   ]
  },
  {
   "cell_type": "code",
   "execution_count": 23,
   "metadata": {},
   "outputs": [
    {
     "name": "stdout",
     "output_type": "stream",
     "text": [
      "2\n"
     ]
    }
   ],
   "source": [
    "#closure\n",
    "def func():\n",
    "    n2=1\n",
    "    def func2():\n",
    "        nonlocal n2 #otherwise shows error\n",
    "        n2+=1\n",
    "        print(n2)\n",
    "    func2()\n",
    "func()"
   ]
  },
  {
   "cell_type": "code",
   "execution_count": 25,
   "metadata": {},
   "outputs": [
    {
     "name": "stdout",
     "output_type": "stream",
     "text": [
      "1\n"
     ]
    }
   ],
   "source": [
    "\n",
    "x=1\n",
    "def func():\n",
    "    n2=1\n",
    "    def func2():\n",
    "        global x #otherwise shows error  : non binding non local     \n",
    "        print(x)\n",
    "    func2()\n",
    "func()"
   ]
  },
  {
   "cell_type": "code",
   "execution_count": 2,
   "metadata": {},
   "outputs": [
    {
     "name": "stdout",
     "output_type": "stream",
     "text": [
      "10\n",
      "<function closure_calc.<locals>.mult at 0x7fba461f63b0>\n"
     ]
    }
   ],
   "source": [
    "#closure : function ko function ma return garne\n",
    "def closure_calc():\n",
    "    a=2\n",
    "    def mult(x):\n",
    "        return a*x\n",
    "    return mult\n",
    "c=closure_calc() #c bhanya mult function ho\n",
    "print(c(5))\n",
    "print(c)"
   ]
  },
  {
   "cell_type": "code",
   "execution_count": 3,
   "metadata": {},
   "outputs": [
    {
     "name": "stdout",
     "output_type": "stream",
     "text": [
      "15\n",
      "<function closure_calc.<locals>.mult at 0x7fba461f65f0>\n"
     ]
    }
   ],
   "source": [
    "#closure : fpreferred\n",
    "def closure_calc(a):\n",
    "    def mult(x):\n",
    "        return a*x\n",
    "    return mult\n",
    "c=closure_calc(3) #c bhanya mult function ho\n",
    "print(c(5))\n",
    "print(c)"
   ]
  },
  {
   "cell_type": "code",
   "execution_count": 6,
   "metadata": {},
   "outputs": [
    {
     "data": {
      "text/plain": [
       "(1, 2, 1)"
      ]
     },
     "execution_count": 6,
     "metadata": {},
     "output_type": "execute_result"
    }
   ],
   "source": [
    "def makecouunter():\n",
    "    count=0\n",
    "    def counter():\n",
    "        nonlocal count\n",
    "        count+=1\n",
    "        return count\n",
    "    return counter\n",
    "c1=makecouunter()\n",
    "c2=makecouunter()\n",
    "c1(),c1(),c2()"
   ]
  },
  {
   "cell_type": "code",
   "execution_count": 7,
   "metadata": {},
   "outputs": [
    {
     "name": "stdout",
     "output_type": "stream",
     "text": [
      "6\n"
     ]
    }
   ],
   "source": [
    "def closure_calc():\n",
    "    a=2\n",
    "    b=3\n",
    "    return lambda x: a+x+b  #memoery effecient hudiana easri chai : not a good way in general\n",
    "c=closure_calc()\n",
    "print(c(1))"
   ]
  },
  {
   "cell_type": "code",
   "execution_count": null,
   "metadata": {},
   "outputs": [],
   "source": []
  },
  {
   "cell_type": "code",
   "execution_count": null,
   "metadata": {},
   "outputs": [],
   "source": []
  },
  {
   "cell_type": "code",
   "execution_count": null,
   "metadata": {},
   "outputs": [],
   "source": []
  }
 ],
 "metadata": {
  "kernelspec": {
   "display_name": "Python 3",
   "language": "python",
   "name": "python3"
  },
  "language_info": {
   "codemirror_mode": {
    "name": "ipython",
    "version": 3
   },
   "file_extension": ".py",
   "mimetype": "text/x-python",
   "name": "python",
   "nbconvert_exporter": "python",
   "pygments_lexer": "ipython3",
   "version": "3.10.1"
  },
  "orig_nbformat": 4,
  "vscode": {
   "interpreter": {
    "hash": "04eb5fd3382f5ae6ecd8e5ea5943a43c2b77f84302c9ef3aee2bb26e0a62d38e"
   }
  }
 },
 "nbformat": 4,
 "nbformat_minor": 2
}
