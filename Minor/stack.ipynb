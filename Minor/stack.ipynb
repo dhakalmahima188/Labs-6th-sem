{
 "cells": [
  {
   "cell_type": "code",
   "execution_count": 8,
   "metadata": {},
   "outputs": [],
   "source": [
    "class Stack():\n",
    "    def __init__(self):\n",
    "        self.arr=[]\n",
    "    def is_empty(self):\n",
    "        return True if len(self.arr)==0 else False\n",
    "    def push(self,x):\n",
    "         return self.arr.append(x)\n",
    "    def pop(self):\n",
    "      return None if (self.is_empty()) else  self.arr.pop()\n",
    "    def peek(self):\n",
    "        return None if (self.is_empty()) else self.arr[-1]\n",
    "    def display(self):\n",
    "        print(self.arr)\n",
    "    \n",
    "    \n",
    "    "
   ]
  },
  {
   "cell_type": "code",
   "execution_count": 11,
   "metadata": {},
   "outputs": [],
   "source": [
    "def check(expr):\n",
    "    opening=\"{[(\"\n",
    "    closing=\"}])\"\n",
    "    stack=Stack()\n",
    "    for char in expr:\n",
    "        if char in opening:\n",
    "            stack.push(char)\n",
    "        elif char in closing:\n",
    "            if stack.is_empty():\n",
    "                return False\n",
    "            if opening.index(stack.pop())!=closing.index(char):\n",
    "                return False\n",
    "    return stack.is_empty()\n",
    "                \n",
    "    "
   ]
  },
  {
   "cell_type": "code",
   "execution_count": 15,
   "metadata": {},
   "outputs": [
    {
     "data": {
      "text/plain": [
       "True"
      ]
     },
     "execution_count": 15,
     "metadata": {},
     "output_type": "execute_result"
    }
   ],
   "source": [
    "check(\"{{x+y}}\")"
   ]
  },
  {
   "cell_type": "code",
   "execution_count": 24,
   "metadata": {},
   "outputs": [],
   "source": [
    "#Queue \n",
    "class Queue:\n",
    "    def __init__(self):\n",
    "        self.array=[]\n",
    "    def enqueue(self,x):\n",
    "        return self.array.append(x)\n",
    "    def is_empty(self):\n",
    "        return True if len(self.arr)==0 else False\n",
    "    def dequeue(self):\n",
    "        return self.array.pop(0)\n",
    "    def display(self):\n",
    "        print(self.array)\n",
    "    def size(self):\n",
    "        return len(self.array)\n",
    "        \n",
    "    \n",
    "    "
   ]
  },
  {
   "cell_type": "code",
   "execution_count": 25,
   "metadata": {},
   "outputs": [
    {
     "name": "stdout",
     "output_type": "stream",
     "text": [
      "[2, 3, 4]\n"
     ]
    },
    {
     "data": {
      "text/plain": [
       "3"
      ]
     },
     "execution_count": 25,
     "metadata": {},
     "output_type": "execute_result"
    }
   ],
   "source": [
    "q=Queue()\n",
    "q.enqueue(1)\n",
    "q.enqueue(2)\n",
    "q.enqueue(3)\n",
    "q.dequeue()\n",
    "q.enqueue(4)\n",
    "q.display()\n",
    "q.size()"
   ]
  },
  {
   "cell_type": "code",
   "execution_count": 30,
   "metadata": {},
   "outputs": [],
   "source": [
    "def jos(n,k):\n",
    "    seq=[]\n",
    "    queue=Queue()\n",
    "    for i in range(1,n+1):\n",
    "        queue.enqueue(i)\n",
    "    j=1\n",
    "    while queue.size()>1:\n",
    "        x=queue.dequeue()\n",
    "        if j%k==0:\n",
    "            seq.append(x)\n",
    "        else:\n",
    "            queue.enqueue(x)\n",
    "        j+=1\n",
    "    seq.append(queue.dequeue())\n",
    "    return seq\n",
    "        \n",
    "        "
   ]
  },
  {
   "cell_type": "code",
   "execution_count": 31,
   "metadata": {},
   "outputs": [
    {
     "data": {
      "text/plain": [
       "[3, 6, 2, 7, 5, 1, 4]"
      ]
     },
     "execution_count": 31,
     "metadata": {},
     "output_type": "execute_result"
    }
   ],
   "source": [
    "jos(7,3)"
   ]
  },
  {
   "cell_type": "code",
   "execution_count": null,
   "metadata": {},
   "outputs": [],
   "source": []
  }
 ],
 "metadata": {
  "kernelspec": {
   "display_name": "Python 3",
   "language": "python",
   "name": "python3"
  },
  "language_info": {
   "codemirror_mode": {
    "name": "ipython",
    "version": 3
   },
   "file_extension": ".py",
   "mimetype": "text/x-python",
   "name": "python",
   "nbconvert_exporter": "python",
   "pygments_lexer": "ipython3",
   "version": "3.10.6"
  },
  "orig_nbformat": 4,
  "vscode": {
   "interpreter": {
    "hash": "916dbcbb3f70747c44a77c7bcd40155683ae19c65e1c03b4aa3499c5328201f1"
   }
  }
 },
 "nbformat": 4,
 "nbformat_minor": 2
}
