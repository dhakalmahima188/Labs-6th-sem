{
 "cells": [
  {
   "cell_type": "code",
   "execution_count": null,
   "metadata": {},
   "outputs": [],
   "source": [
    "#coin change problem\n",
    "1000%500"
   ]
  },
  {
   "attachments": {},
   "cell_type": "markdown",
   "metadata": {},
   "source": [
    "## coin change problem\n",
    "### Greedy Approach\n"
   ]
  },
  {
   "cell_type": "code",
   "execution_count": null,
   "metadata": {},
   "outputs": [],
   "source": [
    "list1=[500,100,50,10]\n",
    "def coin_change(x):\n",
    "    sol=[]\n",
    "    for i in list1:\n",
    "        if(i==x):\n",
    "            sol.append(i)\n",
    "            x=x-i\n",
    "        while(x-i>=0):            \n",
    "                sol.append(i)\n",
    "                x=x-i  \n",
    "    return sol         \n",
    "print(coin_change(120))\n"
   ]
  },
  {
   "cell_type": "code",
   "execution_count": null,
   "metadata": {},
   "outputs": [],
   "source": [
    "dict1 = {\n",
    "    500: 0,\n",
    "    100: 0,\n",
    "    50: 2,\n",
    "    10: 2\n",
    "}\n",
    "sum=0\n",
    "for i in dict1:\n",
    "    sum=sum+i*dict1[i]\n",
    "def coin_change(x):\n",
    "    if(x>sum):\n",
    "        print(\"Insuffeciet amount\")\n",
    "        return\n",
    "    sol=[]\n",
    "    for i in dict1:\n",
    "        if(i==x and dict1[i]>0):\n",
    "            sol.append(i)\n",
    "            x=x-i\n",
    "            dict1[i]=dict1[i]-1\n",
    "            \n",
    "        while(x-i>=0 and dict1[i]>0):            \n",
    "                sol.append(i)\n",
    "                x=x-i \n",
    "                dict1[i]=dict1[i]-1\n",
    "     \n",
    "    return sol  \n",
    "print(coin_change(500))"
   ]
  },
  {
   "cell_type": "code",
   "execution_count": null,
   "metadata": {},
   "outputs": [],
   "source": [
    "dict1 = {\n",
    "    500: 2,\n",
    "    100: 3,\n",
    "    50: 1,\n",
    "    10: 2\n",
    "}\n",
    "for i in dict1:\n",
    "    dict1[i]=dict1[i]-1\n",
    "dict1"
   ]
  },
  {
   "attachments": {},
   "cell_type": "markdown",
   "metadata": {},
   "source": [
    "### Divide and conquer"
   ]
  },
  {
   "attachments": {},
   "cell_type": "markdown",
   "metadata": {},
   "source": [
    "* why is mege sort faster than bubble sort ?\n",
    "   ###### Executing a merge sort takes up extra space in memory as new lists are made each time a list is split or two lists are combined, whilst bubble sort barely takes up any extra memory since each swap is made within the original list.\n",
    "* How to divide ? approach ?\n",
    "\n"
   ]
  },
  {
   "cell_type": "markdown",
   "metadata": {},
   "source": []
  },
  {
   "cell_type": "markdown",
   "metadata": {},
   "source": []
  },
  {
   "cell_type": "code",
   "execution_count": null,
   "metadata": {},
   "outputs": [],
   "source": [
    "#Add a vertex to the set of vertices and the graph\n",
    "def add_vertex(v):\n",
    "  global graph\n",
    "  global vertices_no\n",
    "  global vertices\n",
    "  if v in vertices:\n",
    "    print(\"Vertex \", v, \" already exists\")\n",
    "  else:\n",
    "    vertices_no = vertices_no + 1\n",
    "    vertices.append(v)\n",
    "    if vertices_no > 1:\n",
    "        for vertex in graph:\n",
    "            vertex.append(0)\n",
    "    temp = []\n",
    "    for i in range(vertices_no):\n",
    "        temp.append(0)\n",
    "    graph.append(temp)\n",
    "\n",
    "# Add an edge between vertex v1 and v2 with edge weight e\n",
    "def add_edge(v1, v2, e):\n",
    "    global graph\n",
    "    global vertices_no\n",
    "    global vertices\n",
    "    # Check if vertex v1 is a valid vertex\n",
    "    if v1 not in vertices:\n",
    "        print(\"Vertex \", v1, \" does not exist.\")\n",
    "    # Check if vertex v1 is a valid vertex\n",
    "    elif v2 not in vertices:\n",
    "        print(\"Vertex \", v2, \" does not exist.\")\n",
    "    # Since this code is not restricted to a directed or \n",
    "    # an undirected graph, an edge between v1 v2 does not\n",
    "    # imply that an edge exists between v2 and v1\n",
    "    else:\n",
    "        index1 = vertices.index(v1)\n",
    "        index2 = vertices.index(v2)\n",
    "        graph[index1][index2] = e\n",
    "\n",
    "# Print the graph\n",
    "def print_graph():\n",
    "  global graph\n",
    "  global vertices_no\n",
    "  for i in range(vertices_no):\n",
    "    for j in range(vertices_no):\n",
    "      if graph[i][j] != 0:\n",
    "        print(vertices[i], \" -> \", vertices[j], \\\n",
    "        \" edge weight: \", graph[i][j])\n",
    "\n",
    "# Driver code        \n",
    "# stores the vertices in the graph\n",
    "vertices = []\n",
    "# stores the number of vertices in the graph\n",
    "vertices_no = 0\n",
    "graph = []\n",
    "# Add vertices to the graph\n",
    "add_vertex(1)\n",
    "add_vertex(2)\n",
    "add_vertex(3)\n",
    "add_vertex(4)\n",
    "# Add the edges between the vertices by specifying\n",
    "# the from and to vertex along with the edge weights.\n",
    "add_edge(1, 2, 1)\n",
    "add_edge(1, 3, 1)\n",
    "add_edge(2, 3, 3)\n",
    "add_edge(3, 4, 4)\n",
    "add_edge(4, 1, 5)\n",
    "print_graph()\n",
    "print(\"Internal representation: \", graph)"
   ]
  },
  {
   "cell_type": "code",
   "execution_count": null,
   "metadata": {},
   "outputs": [],
   "source": [
    "tri=[[2],[3,4],[6,5,7],[4,1,8,3]]"
   ]
  },
  {
   "cell_type": "code",
   "execution_count": null,
   "metadata": {},
   "outputs": [],
   "source": [
    "for i in tri:\n",
    "    for j in i:\n",
    "        print(j)"
   ]
  },
  {
   "cell_type": "code",
   "execution_count": null,
   "metadata": {},
   "outputs": [],
   "source": [
    "sol=[]\n",
    "def find_min(row, col, triangle):\n",
    "    if row == len(triangle):\n",
    "        return 0\n",
    "    else:\n",
    "        minimum = min(find_min(row+1, col, triangle),\n",
    "                      find_min(row+1, col+1, triangle))\n",
    "        sol.append(triangle[row][col])\n",
    "        return triangle[row][col]+minimum\n",
    "tri=[[2],[3,4],[6,5,7],[4,1,8,3]]\n",
    "print(find_min(0,0,tri))\n",
    "sol\n"
   ]
  },
  {
   "cell_type": "code",
   "execution_count": 32,
   "metadata": {},
   "outputs": [],
   "source": [
    " # forloop garna saincha bhane recursion ni garna sakincha\n",
    "# do above using binary search\n",
    "\n",
    " "
   ]
  },
  {
   "attachments": {},
   "cell_type": "markdown",
   "metadata": {},
   "source": [
    "#### 8 balls cha, yauta chai farak cha, how many comparision it require to know ?\n",
    "* 3 3 2\n",
    "* if equal last ko 2 : compare\n",
    "* If unequal take heavier\n",
    "* compare 2 and leave 1\n",
    "* If equal rest 1, else the heavier one \n",
    "\n"
   ]
  },
  {
   "cell_type": "code",
   "execution_count": 37,
   "metadata": {},
   "outputs": [],
   "source": [
    "# dict1={}\n",
    "# for i in range(8):\n",
    "#     dict1.add()\n",
    "     \n"
   ]
  },
  {
   "cell_type": "code",
   "execution_count": null,
   "metadata": {},
   "outputs": [],
   "source": [
    "#dynamic programming\n",
    "#recursion, meorization\n",
    "#pascal's triangle\n",
    "\n"
   ]
  },
  {
   "cell_type": "code",
   "execution_count": 49,
   "metadata": {},
   "outputs": [
    {
     "name": "stdout",
     "output_type": "stream",
     "text": [
      "0 1 1 2 3 5 8 13 21 34 "
     ]
    },
    {
     "data": {
      "text/plain": [
       "{0: 0, 1: 1, 2: 1, 3: 2, 4: 3, 5: 5, 6: 8, 7: 13, 8: 21, 9: 34}"
      ]
     },
     "execution_count": 49,
     "metadata": {},
     "output_type": "execute_result"
    }
   ],
   "source": [
    "mem={\n",
    "    0:0,\n",
    "    1:1,\n",
    "    2:1\n",
    "}\n",
    "\n",
    "def fib(n):\n",
    "    if n in mem:\n",
    "        return mem[n]\n",
    "    \n",
    "    else:\n",
    "                \n",
    "        calc=( fib(n-1)+fib(n-2))\n",
    "        mem[n]=calc\n",
    "        return calc\n",
    "    \n",
    "for i in range(10):\n",
    "    print(fib(i),end=\" \")\n",
    "mem"
   ]
  },
  {
   "cell_type": "code",
   "execution_count": 51,
   "metadata": {},
   "outputs": [],
   "source": [
    "list1=[1,2,1,3,5,5,-7]\n",
    "#maximize the sum such that you can take individual or adjacent by product\n",
    "for i in list1:\n",
    "    x=i\n",
    "    y=i*i+1\n",
    "    "
   ]
  },
  {
   "cell_type": "code",
   "execution_count": null,
   "metadata": {},
   "outputs": [],
   "source": []
  },
  {
   "attachments": {},
   "cell_type": "markdown",
   "metadata": {},
   "source": [
    "* you can either take one individual number or take combination of2 numbers\n",
    "* n1.n2 giving result n1*n2\n",
    "* find max possible sum for the sequence"
   ]
  },
  {
   "cell_type": "code",
   "execution_count": null,
   "metadata": {},
   "outputs": [],
   "source": []
  }
 ],
 "metadata": {
  "kernelspec": {
   "display_name": "Python 3",
   "language": "python",
   "name": "python3"
  },
  "language_info": {
   "codemirror_mode": {
    "name": "ipython",
    "version": 3
   },
   "file_extension": ".py",
   "mimetype": "text/x-python",
   "name": "python",
   "nbconvert_exporter": "python",
   "pygments_lexer": "ipython3",
   "version": "3.10.1"
  },
  "orig_nbformat": 4,
  "vscode": {
   "interpreter": {
    "hash": "04eb5fd3382f5ae6ecd8e5ea5943a43c2b77f84302c9ef3aee2bb26e0a62d38e"
   }
  }
 },
 "nbformat": 4,
 "nbformat_minor": 2
}
