{
 "cells": [
  {
   "cell_type": "code",
   "execution_count": null,
   "metadata": {},
   "outputs": [],
   "source": [
    "# hash table"
   ]
  },
  {
   "cell_type": "code",
   "execution_count": null,
   "metadata": {},
   "outputs": [],
   "source": [
    "#SElection , Insrertion sortA,uick sort"
   ]
  },
  {
   "cell_type": "code",
   "execution_count": null,
   "metadata": {},
   "outputs": [],
   "source": [
    "#swapping in python"
   ]
  },
  {
   "cell_type": "code",
   "execution_count": null,
   "metadata": {},
   "outputs": [],
   "source": [
    "class HashTable:\n",
    "    def __init__(self,size):\n",
    "        self.size=size\n",
    "        self.table={}\n",
    "        for i in range (size):\n",
    "            self.table[i]=[]\n",
    "    def get_hash(self,key):\n",
    "        return key%self.size\n",
    "    def get_value(self,key):\n",
    "        return self.table(self.get_hash(key))   \n",
    "    def put_to_hashtable(self,key,value):\n",
    "        self.table[self.get_hash(key)].append(value)    \n",
    "#element ko storgae 0(n) mai hunchha            "
   ]
  },
  {
   "cell_type": "code",
   "execution_count": null,
   "metadata": {},
   "outputs": [],
   "source": [
    "hash_table=HashTable(10)\n",
    "print(hash_table)"
   ]
  },
  {
   "cell_type": "code",
   "execution_count": null,
   "metadata": {},
   "outputs": [],
   "source": [
    "#merge sort\n",
    "#quick sort(0n2,nlogn)\n",
    "#can we sort on O(n)\n",
    "\n",
    "\n"
   ]
  },
  {
   "cell_type": "code",
   "execution_count": null,
   "metadata": {},
   "outputs": [],
   "source": [
    "#counting sort"
   ]
  },
  {
   "cell_type": "code",
   "execution_count": 1,
   "metadata": {},
   "outputs": [
    {
     "data": {
      "text/plain": [
       "{0: 0, 1: 1, 2: 0, 3: 1, 4: 0, 5: 1, 6: 0, 7: 1, 8: 0, 9: 0, 10: 1}"
      ]
     },
     "execution_count": 1,
     "metadata": {},
     "output_type": "execute_result"
    }
   ],
   "source": [
    "#sorting at 0(n): tarika\n",
    "y=[1,5,3,7,10]\n",
    "x={i:0 for i in range (11)}\n",
    "for i in y:\n",
    "    x[i]+=1\n",
    "x"
   ]
  },
  {
   "cell_type": "code",
   "execution_count": 2,
   "metadata": {},
   "outputs": [],
   "source": [
    "a=[1,6,7,8,9,3]\n",
    "n=len(a)"
   ]
  },
  {
   "cell_type": "code",
   "execution_count": 3,
   "metadata": {},
   "outputs": [
    {
     "data": {
      "text/plain": [
       "[1, 3, 6, 7, 8, 9]"
      ]
     },
     "execution_count": 3,
     "metadata": {},
     "output_type": "execute_result"
    }
   ],
   "source": [
    "for j in range(n):\n",
    "    for i in range(n-j-1):\n",
    "        if a[i]>a[i+1]:\n",
    "            a[i],a[i+1]=a[i+1],a[i]\n",
    "            \n",
    "     "
   ]
  },
  {
   "cell_type": "code",
   "execution_count": 20,
   "metadata": {},
   "outputs": [
    {
     "data": {
      "text/plain": [
       "[11, 12, 22, 25, 34, 64, 90]"
      ]
     },
     "execution_count": 20,
     "metadata": {},
     "output_type": "execute_result"
    }
   ],
   "source": [
    "# Python program for implementation of Bubble Sort\n",
    "\n",
    "def bubbleSort(arr):\n",
    "\tn = len(arr)\n",
    "\t# optimize code, so if the array is already sorted, it doesn't need\n",
    "\t# to go through the entire process\n",
    "\tswapped = False\n",
    "\t# Traverse through all array elements\n",
    "\tfor i in range(n-1):\n",
    "\t\t# range(n) also work but outer loop will\n",
    "\t\t# repeat one time more than needed.\n",
    "\t\t# Last i elements are already in place\n",
    "\t\tfor j in range(0, n-i-1):\n",
    "\n",
    "\t\t\t# traverse the array from 0 to n-i-1\n",
    "\t\t\t# Swap if the element found is greater\n",
    "\t\t\t# than the next element\n",
    "\t\t\tif arr[j] > arr[j + 1]:\n",
    "\t\t\t\tswapped = True\n",
    "\t\t\t\tarr[j], arr[j + 1] = arr[j + 1], arr[j]\n",
    "\t\t\n",
    "\t\tif not swapped:\n",
    "\t\t\t# if we haven't needed to make a single swap, we\n",
    "\t\t\t# can just exit the main loop.\n",
    "\t\t\treturn\n",
    "\n",
    "\n",
    "# Driver code to test above\n",
    "arr = [64, 34, 25, 12, 22, 11, 90]\n",
    "\n",
    "bubbleSort(arr)\n",
    "\n",
    "arr\n"
   ]
  },
  {
   "cell_type": "code",
   "execution_count": null,
   "metadata": {},
   "outputs": [],
   "source": [
    "#merge sort\n",
    "#r parts: recursively break down  and half half\n",
    "\n",
    "def merge_sort(n):\n",
    "    if len(n)==1:\n",
    "        return n\n",
    "    else:\n",
    "        return merge_sort(n//2)\n",
    "        \n"
   ]
  },
  {
   "cell_type": "code",
   "execution_count": 19,
   "metadata": {},
   "outputs": [
    {
     "data": {
      "text/plain": [
       "[0, 1, 2, 4, 5, 6]"
      ]
     },
     "execution_count": 19,
     "metadata": {},
     "output_type": "execute_result"
    }
   ],
   "source": [
    "def merge_sort(s):\n",
    "    n=len(s)\n",
    "    if n>1:\n",
    "        # print(s)    \n",
    "        mid =n//2\n",
    "        l,r=s[:mid],s[mid:]\n",
    "        merge_sort(l)\n",
    "        merge_sort(r)\n",
    "        merge1(s,l,r)\n",
    "\n",
    "\n",
    "def merge1(s,l,r):\n",
    "    k=0\n",
    "    while len(l)>0 and len(r)>0:\n",
    "        if l[0]<=r[0]:\n",
    "            s[k]=l.pop(0)\n",
    "        else:\n",
    "            s[k]=r.pop(0)\n",
    "        k+=1\n",
    "    while len(l)!=0:\n",
    "        s[k]=l.pop(0)\n",
    "        k+=1\n",
    "    \n",
    "    while len(r)!=0:\n",
    "        s[k]=r.pop(0)\n",
    "        k+=1\n",
    "\n",
    "arr=[1,4,5,6,0,2]\n",
    "merge_sort(arr)\n",
    "arr\n",
    "        \n",
    "    \n",
    "    "
   ]
  },
  {
   "cell_type": "code",
   "execution_count": null,
   "metadata": {},
   "outputs": [],
   "source": [
    "def mergeSort(arr):\n",
    "        if len(arr) > 1:\n",
    " \n",
    "            # Create sub_array2 ← A[start..mid] and sub_array2 ← A[mid+1..end]\n",
    "            mid = len(arr)//2\n",
    "            sub_array1 = arr[:mid]\n",
    "            sub_array2 = arr[mid:]\n",
    " \n",
    "            # Sort the two halves\n",
    "            mergeSort(sub_array1)\n",
    "            mergeSort(sub_array2)\n",
    "         \n",
    "            # Initial values for pointers that we use to keep track of where we are in each array\n",
    "            i = j = k = 0\n",
    " \n",
    "        # Until we reach the end of either start or end, pick larger among\n",
    "        # elements start and end and place them in the correct position in the sorted array\n",
    "            while i < len(sub_array1) and j < len(sub_array2):\n",
    "                if sub_array1[i] < sub_array2[j]:\n",
    "                    arr[k] = sub_array1[i]\n",
    "                    i += 1\n",
    "                else:\n",
    "                    arr[k] = sub_array2[j]\n",
    "                    j += 1\n",
    "                k += 1\n",
    " \n",
    "        # When all elements are traversed in either arr1 or arr2,\n",
    "        # pick up the remaining elements and put in sorted array\n",
    "            while i < len(sub_array1):\n",
    "                arr[k] = sub_array1[i]\n",
    "                i += 1\n",
    "                k += 1\n",
    " \n",
    "            while j < len(sub_array2):\n",
    "                arr[k] = sub_array2[j]\n",
    "                j += 1\n",
    "                k += 1\n",
    " \n",
    "arr = [10, 9, 2, 4, 6, 13]\n",
    "mergeSort(arr)\n",
    "print(arr)"
   ]
  }
 ],
 "metadata": {
  "kernelspec": {
   "display_name": "Python 3",
   "language": "python",
   "name": "python3"
  },
  "language_info": {
   "codemirror_mode": {
    "name": "ipython",
    "version": 3
   },
   "file_extension": ".py",
   "mimetype": "text/x-python",
   "name": "python",
   "nbconvert_exporter": "python",
   "pygments_lexer": "ipython3",
   "version": "3.10.1 (tags/v3.10.1:2cd268a, Dec  6 2021, 19:10:37) [MSC v.1929 64 bit (AMD64)]"
  },
  "orig_nbformat": 4,
  "vscode": {
   "interpreter": {
    "hash": "04eb5fd3382f5ae6ecd8e5ea5943a43c2b77f84302c9ef3aee2bb26e0a62d38e"
   }
  }
 },
 "nbformat": 4,
 "nbformat_minor": 2
}
