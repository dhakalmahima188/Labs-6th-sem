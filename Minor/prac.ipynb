{
 "cells": [
  {
   "cell_type": "code",
   "execution_count": 1,
   "metadata": {},
   "outputs": [
    {
     "data": {
      "text/plain": [
       "[1, 4, 9]"
      ]
     },
     "execution_count": 1,
     "metadata": {},
     "output_type": "execute_result"
    }
   ],
   "source": [
    "l1=[1,2,3]\n",
    "l2=list(map(lambda x : x*x, l1))\n",
    "l2"
   ]
  },
  {
   "cell_type": "code",
   "execution_count": 2,
   "metadata": {},
   "outputs": [
    {
     "data": {
      "text/plain": [
       "[6]"
      ]
     },
     "execution_count": 2,
     "metadata": {},
     "output_type": "execute_result"
    }
   ],
   "source": [
    "l1=[1,2,3,6,5,4]\n",
    "l2=list(filter(lambda x : x>5, l1))\n",
    "l2"
   ]
  },
  {
   "cell_type": "code",
   "execution_count": 4,
   "metadata": {},
   "outputs": [
    {
     "data": {
      "text/plain": [
       "21"
      ]
     },
     "execution_count": 4,
     "metadata": {},
     "output_type": "execute_result"
    }
   ],
   "source": [
    "from functools import reduce\n",
    "l1=[1,2,3,6,5,4]\n",
    "l2=(reduce(lambda x,y:x+y, l1))\n",
    "l2"
   ]
  },
  {
   "cell_type": "code",
   "execution_count": 9,
   "metadata": {},
   "outputs": [
    {
     "name": "stdout",
     "output_type": "stream",
     "text": [
      "1\n",
      "2\n"
     ]
    }
   ],
   "source": [
    "def clos():\n",
    "    n=1\n",
    "    def inner(x):\n",
    "        return x+n\n",
    "    return inner   \n",
    "c=clos()\n",
    "print(c(0)) \n",
    "print(c(1)) "
   ]
  },
  {
   "cell_type": "code",
   "execution_count": 10,
   "metadata": {},
   "outputs": [
    {
     "name": "stdout",
     "output_type": "stream",
     "text": [
      "1 2 3\n"
     ]
    }
   ],
   "source": [
    "def counter():\n",
    "    n=0\n",
    "    def add():\n",
    "        nonlocal n\n",
    "        n+=1\n",
    "        return n\n",
    "    return add\n",
    "c=counter()\n",
    "print(c(),c(),c())"
   ]
  },
  {
   "cell_type": "code",
   "execution_count": 7,
   "metadata": {},
   "outputs": [
    {
     "data": {
      "text/plain": [
       "6"
      ]
     },
     "execution_count": 7,
     "metadata": {},
     "output_type": "execute_result"
    }
   ],
   "source": [
    "list1=[5,3,8,6,7,2]\n",
    "len(list1)"
   ]
  },
  {
   "cell_type": "code",
   "execution_count": 19,
   "metadata": {},
   "outputs": [
    {
     "name": "stdout",
     "output_type": "stream",
     "text": [
      "[2, 3, 8, 6, 7, 5] 2\n",
      "[3, 2, 8, 6, 7, 5] 2\n",
      "[3, 8, 2, 6, 7, 5] 2\n",
      "[3, 8, 6, 2, 7, 5] 2\n",
      "[3, 8, 6, 7, 2, 5] 2\n"
     ]
    }
   ],
   "source": [
    "def selection_sort(s):\n",
    "    for i in range(5):\n",
    "        mnval=min(s)\n",
    "        minpos=s.index(mnval)\n",
    "        \n",
    "        s[i],s[minpos]=s[minpos],s[i]\n",
    "        print(s,mnval)\n",
    "list1=[5,3,8,6,7,2]\n",
    "selection_sort(list1)\n",
    "                \n",
    "    "
   ]
  },
  {
   "cell_type": "code",
   "execution_count": 16,
   "metadata": {},
   "outputs": [
    {
     "name": "stdout",
     "output_type": "stream",
     "text": [
      "The index of the minimum value is: 3\n"
     ]
    }
   ],
   "source": [
    "def find_min_index(numbers):\n",
    "    min_value = min(numbers)\n",
    "    min_index = numbers.index(min_value)\n",
    "    return min_index\n",
    "\n",
    "numbers = [50, 30, 40, 10, 20]\n",
    "min_index = find_min_index(numbers)\n",
    "print(\"The index of the minimum value is:\", min_index)"
   ]
  },
  {
   "cell_type": "code",
   "execution_count": 13,
   "metadata": {},
   "outputs": [
    {
     "name": "stdout",
     "output_type": "stream",
     "text": [
      "[2, 3, 8, 6, 7, 5]\n",
      "[2, 3, 8, 6, 7, 5]\n",
      "[2, 3, 5, 6, 7, 8]\n",
      "[2, 3, 5, 6, 7, 8]\n",
      "[2, 3, 5, 6, 7, 8]\n"
     ]
    }
   ],
   "source": [
    "def selection_sort(s):\n",
    "    for i in range(5):\n",
    "        minpos=i\n",
    "        for j in (i,5):\n",
    "            if s[j]<s[minpos]:\n",
    "                minpos=j\n",
    "        s[i],s[minpos]=s[minpos],s[i]\n",
    "        print(s)\n",
    "list1=[5,3,8,6,7,2]\n",
    "selection_sort(list1)\n",
    "                \n",
    "    "
   ]
  },
  {
   "cell_type": "code",
   "execution_count": 10,
   "metadata": {},
   "outputs": [
    {
     "name": "stdout",
     "output_type": "stream",
     "text": [
      "[2, 3, 8, 6, 7, 5]\n",
      "[2, 3, 8, 6, 7, 5]\n",
      "[2, 3, 5, 6, 7, 8]\n",
      "[2, 3, 5, 6, 7, 8]\n",
      "[2, 3, 5, 6, 7, 8]\n"
     ]
    }
   ],
   "source": [
    "def sort(nums):\n",
    "\n",
    "    for i in range(5):\n",
    "        minpos = i\n",
    "        for j in range(i,6):\n",
    "            if nums[j] < nums[minpos]:\n",
    "                minpos = j\n",
    "\n",
    "\n",
    "        temp = nums[i]\n",
    "        nums[i] = nums[minpos]\n",
    "        nums[minpos] = temp\n",
    "\n",
    "        print(nums)\n",
    "\n",
    "\n",
    "nums = [5, 3, 8, 6, 7, 2]\n",
    "sort(nums)\n",
    "\n"
   ]
  },
  {
   "cell_type": "code",
   "execution_count": 20,
   "metadata": {},
   "outputs": [
    {
     "data": {
      "text/plain": [
       "[1, 2, 3]"
      ]
     },
     "execution_count": 20,
     "metadata": {},
     "output_type": "execute_result"
    }
   ],
   "source": [
    "l1=input()\n",
    "l2=list(map(int,l1.split(\" \")))\n",
    "l2"
   ]
  },
  {
   "cell_type": "code",
   "execution_count": 21,
   "metadata": {},
   "outputs": [
    {
     "name": "stdout",
     "output_type": "stream",
     "text": [
      "[1, 2, 3, 4, 5, 6, 7, 8, 9]\n"
     ]
    }
   ],
   "source": [
    "def merge_sort(arr):\n",
    "    if len(arr) > 1:\n",
    "        mid = len(arr) // 2\n",
    "        left_half = arr[:mid]\n",
    "        right_half = arr[mid:]\n",
    "\n",
    "        merge_sort(left_half)\n",
    "        merge_sort(right_half)\n",
    "\n",
    "        i = j = k = 0\n",
    "\n",
    "        while i < len(left_half) and j < len(right_half):\n",
    "            if left_half[i] < right_half[j]:\n",
    "                arr[k] = left_half[i]\n",
    "                i += 1\n",
    "            else:\n",
    "                arr[k] = right_half[j]\n",
    "                j += 1\n",
    "            k += 1\n",
    "\n",
    "        while i < len(left_half):\n",
    "            arr[k] = left_half[i]\n",
    "            i += 1\n",
    "            k += 1\n",
    "\n",
    "        while j < len(right_half):\n",
    "            arr[k] = right_half[j]\n",
    "            j += 1\n",
    "            k += 1\n",
    "\n",
    "    return arr\n",
    "\n",
    "arr = [3, 5, 1, 9, 8, 2, 4, 7, 6]\n",
    "sorted_arr = merge_sort(arr)\n",
    "print(sorted_arr) # prints [1, 2, 3, 4, 5, 6, 7, 8, 9]\n"
   ]
  },
  {
   "cell_type": "code",
   "execution_count": 22,
   "metadata": {},
   "outputs": [
    {
     "name": "stdout",
     "output_type": "stream",
     "text": [
      "[1, 2, 3, 4, 5, 6, 7, 8, 9]\n"
     ]
    }
   ],
   "source": [
    "def quick_sort(arr):\n",
    "    if len(arr) <= 1:\n",
    "        return arr\n",
    "    else:\n",
    "        pivot = arr[0]\n",
    "        left_half = []\n",
    "        right_half = []\n",
    "        for element in arr[1:]:\n",
    "            if element < pivot:\n",
    "                left_half.append(element)\n",
    "            else:\n",
    "                right_half.append(element)\n",
    "        return quick_sort(left_half) + [pivot] + quick_sort(right_half)\n",
    "arr = [3, 5, 1, 9, 8, 2, 4, 7, 6]\n",
    "sorted_arr = quick_sort(arr)\n",
    "print(sorted_arr) # prints [1, 2, 3, 4, 5, 6, 7, 8, 9]\n"
   ]
  },
  {
   "cell_type": "code",
   "execution_count": 23,
   "metadata": {},
   "outputs": [
    {
     "name": "stdout",
     "output_type": "stream",
     "text": [
      "[1, 2, 3, 4, 5, 6, 7, 8, 9]\n"
     ]
    }
   ],
   "source": [
    "def insertion_sort(arr):\n",
    "    for i in range(1, len(arr)):\n",
    "        key = arr[i]\n",
    "        j = i - 1\n",
    "        while j >= 0 and key < arr[j]:\n",
    "            arr[j + 1] = arr[j]\n",
    "            j -= 1\n",
    "        arr[j + 1] = key\n",
    "    return arr\n",
    "arr = [3, 5, 1, 9, 8, 2, 4, 7, 6]\n",
    "sorted_arr = insertion_sort(arr)\n",
    "print(sorted_arr) # prints [1, 2, 3, 4, 5, 6, 7, 8, 9]\n"
   ]
  },
  {
   "cell_type": "code",
   "execution_count": null,
   "metadata": {},
   "outputs": [],
   "source": []
  }
 ],
 "metadata": {
  "kernelspec": {
   "display_name": "Python 3",
   "language": "python",
   "name": "python3"
  },
  "language_info": {
   "codemirror_mode": {
    "name": "ipython",
    "version": 3
   },
   "file_extension": ".py",
   "mimetype": "text/x-python",
   "name": "python",
   "nbconvert_exporter": "python",
   "pygments_lexer": "ipython3",
   "version": "3.10.1"
  },
  "orig_nbformat": 4,
  "vscode": {
   "interpreter": {
    "hash": "04eb5fd3382f5ae6ecd8e5ea5943a43c2b77f84302c9ef3aee2bb26e0a62d38e"
   }
  }
 },
 "nbformat": 4,
 "nbformat_minor": 2
}
