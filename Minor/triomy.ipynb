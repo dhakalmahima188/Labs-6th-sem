{
 "cells": [
  {
   "cell_type": "code",
   "execution_count": null,
   "metadata": {},
   "outputs": [],
   "source": [
    "# 8 queens problem using backtracking\n"
   ]
  },
  {
   "cell_type": "code",
   "execution_count": 2,
   "metadata": {},
   "outputs": [
    {
     "name": "stdout",
     "output_type": "stream",
     "text": [
      "[[1, 1, 1, 1]]\n"
     ]
    }
   ],
   "source": [
    "# fit lclass Stack():\n",
    "class Stack():\n",
    "    def __init__(self):\n",
    "        self.arr=[]\n",
    "    def is_empty(self):\n",
    "        return True if len(self.arr)==0 else False\n",
    "    def push(self,x):\n",
    "            return self.arr.append(x)\n",
    "    def pop(self):\n",
    "        return None if (self.is_empty()) else  self.arr.pop()\n",
    "    def peek(self):\n",
    "        return None if (self.is_empty()) else self.arr[-1]\n",
    "    def display(self):\n",
    "        print(self.arr)\n",
    "\n",
    "arr=[1,1,1,1]\n",
    "chess=Stack()\n",
    "chess.push(arr)\n",
    "chess.display()\n"
   ]
  },
  {
   "cell_type": "code",
   "execution_count": 15,
   "metadata": {},
   "outputs": [
    {
     "data": {
      "text/plain": [
       "[[0, 0, 0, 0], [0, 0, 0, 0], [0, 0, 0, 0], [0, 0, 0, 0]]"
      ]
     },
     "execution_count": 15,
     "metadata": {},
     "output_type": "execute_result"
    }
   ],
   "source": [
    "square = [[0 for i in range(4)] for j in range(4)]\n",
    "square"
   ]
  },
  {
   "cell_type": "code",
   "execution_count": 18,
   "metadata": {},
   "outputs": [
    {
     "data": {
      "text/plain": [
       "[[0, 0, 0, 0], [1, 0, 0, 0], [1, 1, 0, 0], [1, 1, 1, 0]]"
      ]
     },
     "execution_count": 18,
     "metadata": {},
     "output_type": "execute_result"
    }
   ],
   "source": [
    "def return_board(queen,i,j):\n",
    "      if square[i][j]==0:                \n",
    "             if square[i+1][j]!=1 and square[i][j+1]!=1 and square[i+1][j+1]!=1:\n",
    "              return True\n",
    "             \n",
    "              \n",
    "           \n",
    "          \n"
   ]
  },
  {
   "cell_type": "code",
   "execution_count": null,
   "metadata": {},
   "outputs": [],
   "source": []
  }
 ],
 "metadata": {
  "kernelspec": {
   "display_name": "Python 3",
   "language": "python",
   "name": "python3"
  },
  "language_info": {
   "codemirror_mode": {
    "name": "ipython",
    "version": 3
   },
   "file_extension": ".py",
   "mimetype": "text/x-python",
   "name": "python",
   "nbconvert_exporter": "python",
   "pygments_lexer": "ipython3",
   "version": "3.10.1"
  },
  "orig_nbformat": 4,
  "vscode": {
   "interpreter": {
    "hash": "04eb5fd3382f5ae6ecd8e5ea5943a43c2b77f84302c9ef3aee2bb26e0a62d38e"
   }
  }
 },
 "nbformat": 4,
 "nbformat_minor": 2
}
