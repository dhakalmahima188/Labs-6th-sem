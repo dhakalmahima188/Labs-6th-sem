{
 "cells": [
  {
   "cell_type": "code",
   "execution_count": null,
   "metadata": {},
   "outputs": [],
   "source": [
    "x=eval(\"10+20\") #string baata add\n",
    "x"
   ]
  },
  {
   "cell_type": "code",
   "execution_count": null,
   "metadata": {},
   "outputs": [],
   "source": [
    "str1='foo'\n",
    "type(str1),id(str1) #id represents the same object"
   ]
  },
  {
   "cell_type": "code",
   "execution_count": null,
   "metadata": {},
   "outputs": [],
   "source": [
    "memory={0:0,1:1}\n",
    "def fib(n):\n",
    "    if n in memory:\n",
    "        return memory[n]\n",
    "    memory[n]=fib(n-2)+fib(n-1)\n",
    "    return memory[n]\n",
    "fib(4)\n"
   ]
  },
  {
   "cell_type": "code",
   "execution_count": null,
   "metadata": {},
   "outputs": [],
   "source": [
    "memory={0:1,1:1}\n",
    "def fact(n):\n",
    "    if n in memory:\n",
    "        return memory[n]\n",
    "    memory[n]=n*fact(n-1)\n",
    "    return memory[n]\n",
    "fact(4)\n"
   ]
  },
  {
   "cell_type": "code",
   "execution_count": null,
   "metadata": {},
   "outputs": [],
   "source": [
    "memory={0:1,1:1}\n",
    "\n",
    "def fact(n):\n",
    "    if n in memory:\n",
    "        return memory[n]\n",
    "    memory[n]=n*fact(n-1)\n",
    "    return memory[n]\n",
    "def valuef(n):\n",
    "    sum=1\n",
    "    for i in range(n):\n",
    "        sum=sum+(1/fact(i))\n",
    "    return sum\n",
    "valuef(1)\n"
   ]
  },
  {
   "cell_type": "code",
   "execution_count": null,
   "metadata": {},
   "outputs": [],
   "source": [
    "def eulers(n):\n",
    "    if n==0:\n",
    "        return 1\n",
    "    else:\n",
    "        return (1/fact(n))+eulers(n-1)\n",
    "round(eulers(3),5)"
   ]
  },
  {
   "cell_type": "code",
   "execution_count": null,
   "metadata": {},
   "outputs": [],
   "source": [
    "help(round)"
   ]
  },
  {
   "cell_type": "code",
   "execution_count": null,
   "metadata": {},
   "outputs": [],
   "source": [
    "#inline fucntion : lambda\n",
    "add=lambda x,y:x+y\n",
    "add(1,2)\n"
   ]
  },
  {
   "cell_type": "code",
   "execution_count": null,
   "metadata": {},
   "outputs": [],
   "source": [
    "#filter,map and reduce\n",
    "# help(filter)\n",
    "ages=[34,39,20,18,13,54]\n",
    "def adult(n):\n",
    "    return n>=18\n",
    "    # if n>18:\n",
    "    #     return True\n",
    "    # else:\n",
    "    #     return False\n",
    "for i in filter(adult,ages):\n",
    "    print(i,end=' ')\n",
    "#it makes a filter object and appends the values itself"
   ]
  },
  {
   "cell_type": "code",
   "execution_count": null,
   "metadata": {},
   "outputs": [],
   "source": [
    "for i in filter(lambda x:x >=18,ages):\n",
    "    print(i,end=\" \")"
   ]
  },
  {
   "cell_type": "code",
   "execution_count": null,
   "metadata": {},
   "outputs": [],
   "source": [
    "list(filter(lambda x:x >=18,ages))"
   ]
  },
  {
   "cell_type": "code",
   "execution_count": null,
   "metadata": {},
   "outputs": [],
   "source": [
    "filter(lambda x:x >=18,ages)"
   ]
  },
  {
   "cell_type": "code",
   "execution_count": null,
   "metadata": {},
   "outputs": [],
   "source": [
    "#map\n",
    "def square(x):\n",
    "    return x**2\n",
    "a=[1,2,3]\n",
    "square_A=list(map(square,a)) # for i wala kaam gardinchha, single single elemet le\n",
    "square_A\n"
   ]
  },
  {
   "cell_type": "code",
   "execution_count": null,
   "metadata": {},
   "outputs": [],
   "source": [
    "ans=list(map(lambda x:x**2,a)) #a: iterable , list,set,tuple,dict *iterable : multiple rakhna sakinchha\n",
    "ans"
   ]
  },
  {
   "cell_type": "code",
   "execution_count": null,
   "metadata": {},
   "outputs": [],
   "source": [
    "help(map)"
   ]
  },
  {
   "cell_type": "code",
   "execution_count": null,
   "metadata": {},
   "outputs": [],
   "source": [
    "a=[1,2,3]\n",
    "b=[1,4,3]\n",
    "ans=list(map(lambda x,y:x*y,a,b)) #ewuivalent to zip\n",
    "ans"
   ]
  },
  {
   "cell_type": "code",
   "execution_count": null,
   "metadata": {},
   "outputs": [],
   "source": [
    "list(map(lambda x,y : (x,y),a,b))"
   ]
  },
  {
   "cell_type": "code",
   "execution_count": null,
   "metadata": {},
   "outputs": [],
   "source": [
    "map_object=map(lambda x,y : (x,y),a,b)"
   ]
  },
  {
   "cell_type": "code",
   "execution_count": 15,
   "metadata": {},
   "outputs": [
    {
     "name": "stdout",
     "output_type": "stream",
     "text": [
      "(1, 'a')\n",
      "(2, 'b')\n",
      "(3, 'c')\n"
     ]
    }
   ],
   "source": [
    "#zip\n",
    "a=[1,2,3]\n",
    "b=['a','b','c']\n",
    "for i in zip(a,b):\n",
    "    print(i)\n"
   ]
  },
  {
   "cell_type": "code",
   "execution_count": null,
   "metadata": {},
   "outputs": [],
   "source": [
    "for i in map_object: #exception raise garchha: stop iteration bhanne\n",
    "    print(i)"
   ]
  },
  {
   "cell_type": "code",
   "execution_count": null,
   "metadata": {},
   "outputs": [],
   "source": [
    "from functools import reduce\n",
    "a=[1,2,3]\n",
    "n=reduce(lambda x,y :x+y,a) #partially add and repeat\n",
    "n"
   ]
  },
  {
   "cell_type": "code",
   "execution_count": 16,
   "metadata": {},
   "outputs": [
    {
     "data": {
      "text/plain": [
       "1"
      ]
     },
     "execution_count": 16,
     "metadata": {},
     "output_type": "execute_result"
    }
   ],
   "source": [
    "iter_a=iter([1,2])\n",
    "next(iter_a)"
   ]
  },
  {
   "cell_type": "code",
   "execution_count": null,
   "metadata": {},
   "outputs": [],
   "source": []
  }
 ],
 "metadata": {
  "kernelspec": {
   "display_name": "Python 3",
   "language": "python",
   "name": "python3"
  },
  "language_info": {
   "codemirror_mode": {
    "name": "ipython",
    "version": 3
   },
   "file_extension": ".py",
   "mimetype": "text/x-python",
   "name": "python",
   "nbconvert_exporter": "python",
   "pygments_lexer": "ipython3",
   "version": "3.10.1"
  },
  "orig_nbformat": 4,
  "vscode": {
   "interpreter": {
    "hash": "04eb5fd3382f5ae6ecd8e5ea5943a43c2b77f84302c9ef3aee2bb26e0a62d38e"
   }
  }
 },
 "nbformat": 4,
 "nbformat_minor": 2
}
