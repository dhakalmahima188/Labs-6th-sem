{
 "cells": [
  {
   "cell_type": "code",
   "execution_count": null,
   "metadata": {},
   "outputs": [],
   "source": [
    "names=['1hey','mahima','are','nishant','nirajan','xyz','hero','123','hey']\n",
    "z=list()\n",
    "min=names[0]\n",
    "for i in range(len(names)):\n",
    "    if len(names[i])<len(min):\n",
    " \n",
    "        min=names[i]\n",
    "print(len(min))\n",
    "for i in names:\n",
    "    if len(i)==len(min):\n",
    "        z.append(i)\n",
    "z\n",
    "    \n"
   ]
  },
  {
   "cell_type": "code",
   "execution_count": null,
   "metadata": {},
   "outputs": [],
   "source": [
    "names=['1hey','mahima','are','nishant','nirajan','xyz','hero','123','hey']\n",
    "z=[]\n",
    "names.sort(key=len)\n",
    "x=len(names[0])\n",
    "for i in names:\n",
    "    if len(i)==x:\n",
    "        z.append(i)\n",
    "z    \n"
   ]
  },
  {
   "cell_type": "code",
   "execution_count": null,
   "metadata": {},
   "outputs": [],
   "source": [
    "\n",
    "name_list=['1hey','mahima','are','nishant','nirajan','xyz','xyz','hero','123','hey']\n",
    "\n",
    "for ind,i in enumerate(name_list) :\n",
    "    names=name_list[:ind]+name_list[ind+1:]      \n",
    "    for j in names:    \n",
    "        if i==j:\n",
    "            print(j)\n",
    "            break\n",
    "    if i==j:\n",
    "          \n",
    "            break\n",
    " \n",
    "    "
   ]
  },
  {
   "cell_type": "code",
   "execution_count": null,
   "metadata": {},
   "outputs": [],
   "source": [
    "names=['1hey','mahima','are','nishant','nirajan','xyz','hero','xyz','123','hey']\n",
    "set1=set()\n",
    "for i in names:\n",
    "    if i not in set1:\n",
    "        set1.add(i)\n",
    "    else:\n",
    "        print(i)\n",
    "        break"
   ]
  },
  {
   "cell_type": "code",
   "execution_count": null,
   "metadata": {},
   "outputs": [],
   "source": [
    "import json\n",
    "d={\n",
    "    'a1':'hey'\n",
    "}\n",
    "json_d=json.dumps(d)\n",
    "json_d\n",
    "type(json_d)\n",
    "load_D=json.loads(json_d) #changes to dict\n",
    "type(load_D)"
   ]
  },
  {
   "cell_type": "code",
   "execution_count": null,
   "metadata": {},
   "outputs": [],
   "source": [
    "x={\n",
    "    'apple':5000,\n",
    "    \"banana\":2000,\n",
    "    'grape':5300\n",
    "}\n",
    "# print(x.pop('apple'))\n",
    "for i in x.keys():   \n",
    "    print(f\"The price of {i} is {x[i]}\")"
   ]
  },
  {
   "cell_type": "code",
   "execution_count": null,
   "metadata": {},
   "outputs": [],
   "source": [
    "list1=['apple','mango','grape']\n",
    "\n",
    "for i in list1:\n",
    "    if i in x:\n",
    "        print(f\"{i} is in the dict\")\n",
    "    else:\n",
    "        print(f\"{i} is not in the dict\")\n"
   ]
  },
  {
   "cell_type": "code",
   "execution_count": null,
   "metadata": {},
   "outputs": [],
   "source": [
    "print(\"minor project done  xxxxxxxxxxxxxxxxxxxxxxxxxxxxxxxxxxxxxxxxxxxxxxxxxxxxxxxxxxxxxxxxxxxxxxxxxxxxxxxx!!\")"
   ]
  },
  {
   "cell_type": "code",
   "execution_count": null,
   "metadata": {},
   "outputs": [],
   "source": [
    "x=100,\n",
    "type(x)\n",
    "tup=([1],2,3,4,5,6)\n",
    "tup[0].append(2)\n",
    "tup\n",
    "# tup[1]=3"
   ]
  },
  {
   "cell_type": "code",
   "execution_count": null,
   "metadata": {},
   "outputs": [],
   "source": [
    "tup[:2]"
   ]
  },
  {
   "cell_type": "code",
   "execution_count": null,
   "metadata": {},
   "outputs": [],
   "source": [
    "tup[6:-1:-1] #opposite direction ma print\n"
   ]
  },
  {
   "cell_type": "code",
   "execution_count": null,
   "metadata": {},
   "outputs": [],
   "source": [
    "tup.index(4) #index ko valye dinchha\n",
    "a=100\n",
    "b=1\n",
    "a,b=b,a\n",
    "a,b"
   ]
  },
  {
   "cell_type": "code",
   "execution_count": 96,
   "metadata": {},
   "outputs": [
    {
     "name": "stdout",
     "output_type": "stream",
     "text": [
      "True\n",
      "False\n"
     ]
    },
    {
     "data": {
      "text/plain": [
       "('a', 'e', 'r', 'a', 'b', 'c')"
      ]
     },
     "execution_count": 96,
     "metadata": {},
     "output_type": "execute_result"
    }
   ],
   "source": [
    "t1='a','e', 'r'\n",
    "t2=('a', 'b', 'c')\n",
    "t3=('a','e','1')  #ascii value checking\n",
    "\n",
    "print(t1>t3)\n",
    "print(t1==t3)\n",
    "t1+t2\n"
   ]
  },
  {
   "cell_type": "code",
   "execution_count": null,
   "metadata": {},
   "outputs": [],
   "source": [
    "help(tuple)"
   ]
  },
  {
   "cell_type": "code",
   "execution_count": 105,
   "metadata": {},
   "outputs": [
    {
     "data": {
      "text/plain": [
       "3"
      ]
     },
     "execution_count": 105,
     "metadata": {},
     "output_type": "execute_result"
    }
   ],
   "source": [
    "tup=(100,121,120,130,140,122,123,190,125)\n",
    "value=0\n",
    "for i in range(len(tup)-1):\n",
    "    if tup[i+1]<tup[i]:\n",
    "        value=value+1\n",
    "value"
   ]
  },
  {
   "cell_type": "code",
   "execution_count": 110,
   "metadata": {},
   "outputs": [
    {
     "name": "stdout",
     "output_type": "stream",
     "text": [
      "[1, 2]\n",
      "[3, 4]\n",
      "[3, 4]\n"
     ]
    }
   ],
   "source": [
    "#most repitiive element in a tuple\n",
    "list_array=[[1,2],[3,4],[3,4]]\n",
    "list_array\n",
    "for i in list_array:\n",
    "    print(i)"
   ]
  },
  {
   "cell_type": "code",
   "execution_count": 118,
   "metadata": {},
   "outputs": [
    {
     "data": {
      "text/plain": [
       "[[1, 2, 3, 4], [5, 6, 7, 8], [9, 10, 11, 12], [13, 14, 15, 16]]"
      ]
     },
     "execution_count": 118,
     "metadata": {},
     "output_type": "execute_result"
    }
   ],
   "source": [
    "list1=[]\n",
    "list2=[]\n",
    "for i in range(1,16,4):    \n",
    "        list1.append([i,i+1,i+2,i+3])\n",
    "\n",
    "list1"
   ]
  },
  {
   "cell_type": "code",
   "execution_count": null,
   "metadata": {},
   "outputs": [],
   "source": []
  }
 ],
 "metadata": {
  "kernelspec": {
   "display_name": "Python 3",
   "language": "python",
   "name": "python3"
  },
  "language_info": {
   "codemirror_mode": {
    "name": "ipython",
    "version": 3
   },
   "file_extension": ".py",
   "mimetype": "text/x-python",
   "name": "python",
   "nbconvert_exporter": "python",
   "pygments_lexer": "ipython3",
   "version": "3.10.6 (main, Nov 14 2022, 16:10:14) [GCC 11.3.0]"
  },
  "orig_nbformat": 4,
  "vscode": {
   "interpreter": {
    "hash": "916dbcbb3f70747c44a77c7bcd40155683ae19c65e1c03b4aa3499c5328201f1"
   }
  }
 },
 "nbformat": 4,
 "nbformat_minor": 2
}
