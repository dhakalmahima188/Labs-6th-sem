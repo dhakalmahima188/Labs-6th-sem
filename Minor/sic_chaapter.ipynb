{
 "cells": [
  {
   "cell_type": "code",
   "execution_count": null,
   "metadata": {},
   "outputs": [],
   "source": [
    "#coin change problem\n",
    "1000%500"
   ]
  },
  {
   "attachments": {},
   "cell_type": "markdown",
   "metadata": {},
   "source": [
    "# coin change problem\n"
   ]
  },
  {
   "cell_type": "code",
   "execution_count": 8,
   "metadata": {},
   "outputs": [
    {
     "name": "stdout",
     "output_type": "stream",
     "text": [
      "[100, 10, 10]\n"
     ]
    }
   ],
   "source": [
    "list1=[500,100,50,10]\n",
    "def coin_change(x):\n",
    "    sol=[]\n",
    "    for i in list1:\n",
    "        if(i==x):\n",
    "            sol.append(i)\n",
    "            x=x-i\n",
    "        while(x-i>=0):            \n",
    "                sol.append(i)\n",
    "                x=x-i  \n",
    "    return sol         \n",
    "print(coin_change(120))\n"
   ]
  },
  {
   "cell_type": "code",
   "execution_count": 23,
   "metadata": {},
   "outputs": [
    {
     "name": "stdout",
     "output_type": "stream",
     "text": [
      "Insuffeciet amount\n",
      "None\n"
     ]
    }
   ],
   "source": [
    "dict1 = {\n",
    "    500: 0,\n",
    "    100: 0,\n",
    "    50: 2,\n",
    "    10: 2\n",
    "}\n",
    "sum=0\n",
    "for i in dict1:\n",
    "    sum=sum+i*dict1[i]\n",
    "def coin_change(x):\n",
    "    if(x>sum):\n",
    "        print(\"Insuffeciet amount\")\n",
    "        return\n",
    "    sol=[]\n",
    "    for i in dict1:\n",
    "        if(i==x and dict1[i]>0):\n",
    "            sol.append(i)\n",
    "            x=x-i\n",
    "            dict1[i]=dict1[i]-1\n",
    "            \n",
    "        while(x-i>=0 and dict1[i]>0):            \n",
    "                sol.append(i)\n",
    "                x=x-i \n",
    "                dict1[i]=dict1[i]-1\n",
    "     \n",
    "    return sol  \n",
    "print(coin_change(500))"
   ]
  },
  {
   "cell_type": "code",
   "execution_count": 13,
   "metadata": {},
   "outputs": [
    {
     "data": {
      "text/plain": [
       "{500: 1, 100: 2, 50: 0, 10: 1}"
      ]
     },
     "execution_count": 13,
     "metadata": {},
     "output_type": "execute_result"
    }
   ],
   "source": [
    "dict1 = {\n",
    "    500: 2,\n",
    "    100: 3,\n",
    "    50: 1,\n",
    "    10: 2\n",
    "}\n",
    "for i in dict1:\n",
    "    dict1[i]=dict1[i]-1\n",
    "dict1"
   ]
  },
  {
   "cell_type": "code",
   "execution_count": null,
   "metadata": {},
   "outputs": [],
   "source": []
  }
 ],
 "metadata": {
  "kernelspec": {
   "display_name": "Python 3",
   "language": "python",
   "name": "python3"
  },
  "language_info": {
   "codemirror_mode": {
    "name": "ipython",
    "version": 3
   },
   "file_extension": ".py",
   "mimetype": "text/x-python",
   "name": "python",
   "nbconvert_exporter": "python",
   "pygments_lexer": "ipython3",
   "version": "3.10.1"
  },
  "orig_nbformat": 4,
  "vscode": {
   "interpreter": {
    "hash": "04eb5fd3382f5ae6ecd8e5ea5943a43c2b77f84302c9ef3aee2bb26e0a62d38e"
   }
  }
 },
 "nbformat": 4,
 "nbformat_minor": 2
}
