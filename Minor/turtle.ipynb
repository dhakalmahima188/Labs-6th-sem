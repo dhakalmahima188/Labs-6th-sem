{
 "cells": [
  {
   "cell_type": "code",
   "execution_count": null,
   "metadata": {},
   "outputs": [],
   "source": [
    "import turtle as t\n",
    "t.setup(width=400,height=400)\n",
    "for i in range (200):\n",
    "    t.forward(i)\n",
    "    t.left(93)\n",
    "t.done()"
   ]
  },
  {
   "cell_type": "code",
   "execution_count": 30,
   "metadata": {},
   "outputs": [
    {
     "data": {
      "text/plain": [
       "(<re.Match object; span=(5, 10), match='Lifes'>, 'Lifes')"
      ]
     },
     "execution_count": 30,
     "metadata": {},
     "output_type": "execute_result"
    }
   ],
   "source": [
    "# regular expression and meta charater\n",
    "import re\n",
    "txt1=\"Lifes is too short, you need python\"\n",
    "txt2=\"best Lifes moment of my life was the time when i was with u \" \n",
    "re.search(\"Lifes\",txt1),re.search(\"Lifes\",txt1).group()\n",
    "re.search(\"Lifes\",txt2),re.search(\"Lifes\",txt2).group()\n",
    "\n"
   ]
  },
  {
   "cell_type": "code",
   "execution_count": 31,
   "metadata": {},
   "outputs": [
    {
     "data": {
      "text/plain": [
       "<re.Match object; span=(0, 5), match='Lifes'>"
      ]
     },
     "execution_count": 31,
     "metadata": {},
     "output_type": "execute_result"
    }
   ],
   "source": [
    "#mea character\n",
    "re.search('^Lifes',txt1)\n"
   ]
  },
  {
   "cell_type": "code",
   "execution_count": 24,
   "metadata": {},
   "outputs": [],
   "source": [
    "import re\n",
    "text=\"please call 105-2345-1234\"\n",
    "regx= re.compile('(\\d{3})-(\\d{4})-\\d{4}')\n",
    "match=regx.search(text)\n"
   ]
  },
  {
   "cell_type": "code",
   "execution_count": 28,
   "metadata": {},
   "outputs": [
    {
     "data": {
      "text/plain": [
       "'2345'"
      ]
     },
     "execution_count": 28,
     "metadata": {},
     "output_type": "execute_result"
    }
   ],
   "source": [
    "#brakcweet\n",
    "match.group(2)"
   ]
  },
  {
   "cell_type": "code",
   "execution_count": 35,
   "metadata": {},
   "outputs": [],
   "source": [
    "txt=\"life is beautiful life\"\n",
    "re.search(\"life$\",txt) #check if life is ar last\n"
   ]
  },
  {
   "cell_type": "code",
   "execution_count": 36,
   "metadata": {},
   "outputs": [],
   "source": [
    "re.search('A..A','ABA')"
   ]
  },
  {
   "cell_type": "code",
   "execution_count": 50,
   "metadata": {},
   "outputs": [
    {
     "data": {
      "text/plain": [
       "[5,\n",
       " 7,\n",
       " 10,\n",
       " 14,\n",
       " 15,\n",
       " 20,\n",
       " 21,\n",
       " 25,\n",
       " 28,\n",
       " 30,\n",
       " 35,\n",
       " 35,\n",
       " 40,\n",
       " 42,\n",
       " 45,\n",
       " 49,\n",
       " 50,\n",
       " 55,\n",
       " 56,\n",
       " 60,\n",
       " 63,\n",
       " 65,\n",
       " 70,\n",
       " 70,\n",
       " 75,\n",
       " 77,\n",
       " 80,\n",
       " 84,\n",
       " 85,\n",
       " 90,\n",
       " 91,\n",
       " 95,\n",
       " 98]"
      ]
     },
     "execution_count": 50,
     "metadata": {},
     "output_type": "execute_result"
    }
   ],
   "source": [
    "a=list(range(1,100))\n",
    "def func2():\n",
    "    result1=[]\n",
    "    for i in a:\n",
    "        if i%5==0:\n",
    "            result1.append(i)\n",
    "    return result1\n",
    "def func3():\n",
    "    result2=[]\n",
    "    for i in a:\n",
    "        if i % 7 ==0:\n",
    "            result2.append(i)\n",
    "    return result2  \n",
    "def func1():\n",
    "    list=func3()+func2() \n",
    "    return list\n",
    "sorted(func1())"
   ]
  },
  {
   "cell_type": "code",
   "execution_count": 53,
   "metadata": {},
   "outputs": [
    {
     "data": {
      "text/plain": [
       "[5,\n",
       " 7,\n",
       " 10,\n",
       " 14,\n",
       " 15,\n",
       " 20,\n",
       " 21,\n",
       " 25,\n",
       " 28,\n",
       " 30,\n",
       " 35,\n",
       " 35,\n",
       " 40,\n",
       " 42,\n",
       " 45,\n",
       " 49,\n",
       " 50,\n",
       " 55,\n",
       " 56,\n",
       " 60,\n",
       " 63,\n",
       " 65,\n",
       " 70,\n",
       " 70,\n",
       " 75,\n",
       " 77,\n",
       " 80,\n",
       " 84,\n",
       " 85,\n",
       " 90,\n",
       " 91,\n",
       " 95,\n",
       " 98]"
      ]
     },
     "execution_count": 53,
     "metadata": {},
     "output_type": "execute_result"
    }
   ],
   "source": [
    "lst=list(range(1,100))\n",
    "def func1(a):\n",
    "    def func2():\n",
    "        result1=[]\n",
    "        for i in a:\n",
    "            if i%5==0:\n",
    "                result1.append(i)\n",
    "        return result1\n",
    "    def func3():\n",
    "        result2=[]\n",
    "        for i in a:\n",
    "            if i % 7 ==0:\n",
    "                result2.append(i)\n",
    "        return result2  \n",
    "    result1=func2()+func3()\n",
    "    return sorted(result1)\n",
    "func1(lst)\n",
    "    \n"
   ]
  },
  {
   "cell_type": "code",
   "execution_count": null,
   "metadata": {},
   "outputs": [],
   "source": []
  }
 ],
 "metadata": {
  "kernelspec": {
   "display_name": "Python 3",
   "language": "python",
   "name": "python3"
  },
  "language_info": {
   "codemirror_mode": {
    "name": "ipython",
    "version": 3
   },
   "file_extension": ".py",
   "mimetype": "text/x-python",
   "name": "python",
   "nbconvert_exporter": "python",
   "pygments_lexer": "ipython3",
   "version": "3.10.6 (main, Nov 14 2022, 16:10:14) [GCC 11.3.0]"
  },
  "orig_nbformat": 4,
  "vscode": {
   "interpreter": {
    "hash": "916dbcbb3f70747c44a77c7bcd40155683ae19c65e1c03b4aa3499c5328201f1"
   }
  }
 },
 "nbformat": 4,
 "nbformat_minor": 2
}
