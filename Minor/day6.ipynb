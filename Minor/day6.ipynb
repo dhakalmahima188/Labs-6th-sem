{
 "cells": [
  {
   "cell_type": "code",
   "execution_count": 1,
   "metadata": {},
   "outputs": [
    {
     "name": "stdout",
     "output_type": "stream",
     "text": [
      "helloo\n",
      "\n",
      "keh chha\n",
      "\n"
     ]
    }
   ],
   "source": [
    "\n",
    "with open ('mahima.txt','r') as readfile:\n",
    "    for line in readfile:\n",
    "        print(line)"
   ]
  },
  {
   "cell_type": "code",
   "execution_count": 4,
   "metadata": {},
   "outputs": [],
   "source": [
    "with open ('mahima.txt','a') as appendfile:\n",
    "    appendfile.write('This is appended text')\n",
    "    "
   ]
  },
  {
   "cell_type": "code",
   "execution_count": 5,
   "metadata": {},
   "outputs": [
    {
     "name": "stdout",
     "output_type": "stream",
     "text": [
      "h\n",
      "e\n",
      "l\n",
      "l\n",
      "o\n",
      "o\n",
      "\n",
      "\n"
     ]
    }
   ],
   "source": [
    "with open ('mahima.txt','r') as readfile:\n",
    "    for line in readfile.readline(): #character by character\n",
    "        print(line)"
   ]
  },
  {
   "cell_type": "code",
   "execution_count": 9,
   "metadata": {},
   "outputs": [],
   "source": [
    "with open ('mahima.txt','w') as writefile:\n",
    "    writefile.write('This is wriiten and overriden text')\n",
    "    "
   ]
  },
  {
   "cell_type": "code",
   "execution_count": 10,
   "metadata": {},
   "outputs": [
    {
     "name": "stdout",
     "output_type": "stream",
     "text": [
      "This is wriiten and overriden text\n"
     ]
    }
   ],
   "source": [
    "readfile=open('mahima.txt','r')\n",
    "for line in readfile:\n",
    "    print(line)\n",
    "readfile.close()"
   ]
  },
  {
   "cell_type": "code",
   "execution_count": 17,
   "metadata": {},
   "outputs": [],
   "source": [
    "text=['hey ','mahima','dhakal']\n",
    "with open ('mahima.txt','w') as writefile:   \n",
    "    for value in text:\n",
    "     writefile.write(value)\n",
    "     writefile.write('\\n')\n",
    "     "
   ]
  },
  {
   "cell_type": "code",
   "execution_count": 30,
   "metadata": {},
   "outputs": [],
   "source": [
    "import csv\n",
    "csvfilepath='mahima.csv'\n",
    "with open(csvfilepath,'w',newline=\"\") as csv_file:\n",
    "    field=['name','age']\n",
    "    writer=csv.DictWriter(csv_file,fieldnames=field)\n",
    "    writer.writeheader()\n",
    "    writer.writerow({'name':'mahima','age':12})\n",
    "\n",
    "    writer.writerow({'name':'nirajan','age':20})\n",
    "    \n",
    "    "
   ]
  },
  {
   "cell_type": "code",
   "execution_count": 26,
   "metadata": {},
   "outputs": [
    {
     "name": "stdout",
     "output_type": "stream",
     "text": [
      "mahima 12\n",
      "nirajan 20\n"
     ]
    }
   ],
   "source": [
    "import csv\n",
    "csvfilepath='mahima.csv'\n",
    "with open(csvfilepath,'r') as csv_file:\n",
    "    reader=csv.DictReader(csv_file)\n",
    "    for row in reader:\n",
    "        print(row['name'],row['age'])\n",
    "   \n",
    "    "
   ]
  },
  {
   "cell_type": "code",
   "execution_count": 31,
   "metadata": {},
   "outputs": [
    {
     "name": "stdout",
     "output_type": "stream",
     "text": [
      "['name', 'age']\n",
      "['mahima', '12']\n",
      "['nirajan', '20']\n"
     ]
    }
   ],
   "source": [
    "import csv\n",
    "csvfilepath='mahima.csv'\n",
    "with open(csvfilepath,'r',newline=\"\") as csv_file:\n",
    "    reader=csv.reader(csv_file)\n",
    "    for row in reader:\n",
    "        print(row)\n",
    "   \n",
    "    "
   ]
  },
  {
   "cell_type": "code",
   "execution_count": 33,
   "metadata": {},
   "outputs": [],
   "source": [
    "import csv\n",
    "csvfilepath='mahima.csv'\n",
    "with open(csvfilepath,'a',newline=\"\") as csv_file:\n",
    "    field=['name','age']\n",
    "    writer=csv.DictWriter(csv_file,fieldnames=field) \n",
    "    writer.writerow({'name':'mahima','age':12})\n",
    "    writer.writerow({'name':'nirajan','age':20})\n",
    "    \n",
    "    "
   ]
  },
  {
   "cell_type": "code",
   "execution_count": 35,
   "metadata": {},
   "outputs": [
    {
     "name": "stdout",
     "output_type": "stream",
     "text": [
      "[('a', 1)]\n",
      "[('a', 1), ('b', 1)]\n",
      "[('a', 1), ('b', 1), ('c', 1)]\n",
      "[('a', 2), ('b', 1), ('c', 1)]\n",
      "[('a', 2), ('b', 2), ('c', 1)]\n",
      "alpabet counting {'a': 2, 'b': 2, 'c': 1}\n"
     ]
    }
   ],
   "source": [
    "str1=['a','b','c','a','b']\n",
    "dic={}\n",
    "for ch in str1:\n",
    "    dic.setdefault(ch,0)\n",
    "    dic[ch]+=1\n",
    "    print(list(dic.items()))\n",
    "print('alpabet counting',dic)"
   ]
  },
  {
   "cell_type": "code",
   "execution_count": null,
   "metadata": {},
   "outputs": [],
   "source": [
    "#use counter"
   ]
  },
  {
   "cell_type": "code",
   "execution_count": null,
   "metadata": {},
   "outputs": [],
   "source": [
    "#dict.get"
   ]
  },
  {
   "cell_type": "code",
   "execution_count": 37,
   "metadata": {},
   "outputs": [
    {
     "data": {
      "text/plain": [
       "1"
      ]
     },
     "execution_count": 37,
     "metadata": {},
     "output_type": "execute_result"
    }
   ],
   "source": [
    "d=dict()\n",
    "d.get('a',1)"
   ]
  },
  {
   "cell_type": "code",
   "execution_count": 39,
   "metadata": {},
   "outputs": [
    {
     "data": {
      "text/plain": [
       "('age', 12)"
      ]
     },
     "execution_count": 39,
     "metadata": {},
     "output_type": "execute_result"
    }
   ],
   "source": [
    "dict1={'name':'mahima','age':12}\n",
    "dict1.popitem()\n"
   ]
  },
  {
   "cell_type": "code",
   "execution_count": 40,
   "metadata": {},
   "outputs": [
    {
     "name": "stdout",
     "output_type": "stream",
     "text": [
      "Last Name: Doe\n",
      "First Name: David\n",
      "Company: SAmsung\n"
     ]
    }
   ],
   "source": [
    "dict1={'Last Name':'Doe','First Name':'David','Company':'SAmsung'}\n",
    "for key, val in dict1.items():\n",
    "    print(f\"{key}: {val}\")"
   ]
  },
  {
   "cell_type": "code",
   "execution_count": 41,
   "metadata": {},
   "outputs": [
    {
     "name": "stdout",
     "output_type": "stream",
     "text": [
      "Last Name: Doe\n",
      "First Name: David\n",
      "Company: SAmsung\n"
     ]
    }
   ],
   "source": [
    "dict1={'Last Name':'Doe','First Name':'David','Company':'SAmsung'}\n",
    "for key in dict1.keys():\n",
    "    print(f\"{key}: {dict1[key]}\")"
   ]
  },
  {
   "cell_type": "code",
   "execution_count": 43,
   "metadata": {},
   "outputs": [
    {
     "name": "stdout",
     "output_type": "stream",
     "text": [
      "0\n"
     ]
    }
   ],
   "source": [
    "items={\n",
    "    'coffee':1,\n",
    "    'pen':4\n",
    "}\n",
    "inventory=input(\"ENter?\")\n",
    "print(items.get(inventory,0)) #if not return 0\n",
    "# print(items[inventory])"
   ]
  },
  {
   "cell_type": "code",
   "execution_count": 45,
   "metadata": {},
   "outputs": [
    {
     "data": {
      "text/plain": [
       "[4, 16]"
      ]
     },
     "execution_count": 45,
     "metadata": {},
     "output_type": "execute_result"
    }
   ],
   "source": [
    "l=[1,2,3,4]\n",
    "x=[num**2 for num in l if num %2 ==0]\n",
    "x"
   ]
  },
  {
   "cell_type": "code",
   "execution_count": 48,
   "metadata": {},
   "outputs": [
    {
     "data": {
      "text/plain": [
       "[[1, 2, 3, 4], [1, 2, 3, 4], [5, 6, 7, 8], [5, 6, 7, 8]]"
      ]
     },
     "execution_count": 48,
     "metadata": {},
     "output_type": "execute_result"
    }
   ],
   "source": [
    "#nested loop\n",
    "l=[[1,2,3,4],[5,6,7,8]]\n",
    "x=[i for i in l for j in l]\n",
    "x"
   ]
  },
  {
   "cell_type": "code",
   "execution_count": 1,
   "metadata": {},
   "outputs": [
    {
     "name": "stdout",
     "output_type": "stream",
     "text": [
      "{'apple', 'banana'}\n",
      "{'apple', '1', 'banana', '3', '2'}\n"
     ]
    }
   ],
   "source": [
    "thisset={'apple','banana'}\n",
    "print(thisset)\n",
    "thisset.update('123') #order maintain gardena\n",
    "print(thisset)"
   ]
  },
  {
   "cell_type": "code",
   "execution_count": 5,
   "metadata": {},
   "outputs": [
    {
     "name": "stdout",
     "output_type": "stream",
     "text": [
      "(10, 'mahima', 10)\n",
      "(20, 'dh', 20)\n",
      "(30, 'xyz', 30)\n"
     ]
    }
   ],
   "source": [
    "a=[10,20,30]\n",
    "b=['mahima','dh','xyz']\n",
    "c=[10,20,30]\n",
    "for i in zip(a,b,c):\n",
    "    print (i)"
   ]
  },
  {
   "cell_type": "code",
   "execution_count": 7,
   "metadata": {},
   "outputs": [
    {
     "data": {
      "text/plain": [
       "<zip at 0x7f460b5aa780>"
      ]
     },
     "execution_count": 7,
     "metadata": {},
     "output_type": "execute_result"
    }
   ],
   "source": [
    "zip(i) #zip object "
   ]
  },
  {
   "cell_type": "code",
   "execution_count": 8,
   "metadata": {},
   "outputs": [
    {
     "data": {
      "text/plain": [
       "{1, 2, 3}"
      ]
     },
     "execution_count": 8,
     "metadata": {},
     "output_type": "execute_result"
    }
   ],
   "source": [
    "list1=[1,2,3]\n",
    "set(list1)"
   ]
  },
  {
   "cell_type": "code",
   "execution_count": 14,
   "metadata": {},
   "outputs": [
    {
     "data": {
      "text/plain": [
       "False"
      ]
     },
     "execution_count": 14,
     "metadata": {},
     "output_type": "execute_result"
    }
   ],
   "source": [
    "s1={10,20,30,40}\n",
    "s2={30,40,50,60,70}\n",
    "s1 ^ s2\n",
    "s1.issubset(s2)\n",
    "s1.issuperset(s2)\n",
    "s1.isdisjoint(s2)"
   ]
  },
  {
   "cell_type": "code",
   "execution_count": 2,
   "metadata": {},
   "outputs": [
    {
     "name": "stdout",
     "output_type": "stream",
     "text": [
      "*********\n"
     ]
    }
   ],
   "source": [
    "print(\"*\"*9)"
   ]
  },
  {
   "cell_type": "code",
   "execution_count": 5,
   "metadata": {},
   "outputs": [
    {
     "name": "stdout",
     "output_type": "stream",
     "text": [
      "* * * * * * * * *  "
     ]
    }
   ],
   "source": [
    "print(\"* \"*9,sep=' ',end=' ')"
   ]
  },
  {
   "cell_type": "code",
   "execution_count": null,
   "metadata": {},
   "outputs": [],
   "source": [
    "MyNAme=input(\"Enter name\")\n",
    "MyAddresss=input(\"Address?\"\n",
    "                 )"
   ]
  },
  {
   "cell_type": "code",
   "execution_count": 9,
   "metadata": {},
   "outputs": [
    {
     "name": "stdout",
     "output_type": "stream",
     "text": [
      "5\n",
      "10\n"
     ]
    }
   ],
   "source": [
    "x=5\n",
    "y=10\n",
    "print(x,y,sep='\\n')"
   ]
  },
  {
   "cell_type": "code",
   "execution_count": 10,
   "metadata": {},
   "outputs": [
    {
     "name": "stdout",
     "output_type": "stream",
     "text": [
      "1\n"
     ]
    }
   ],
   "source": [
    "x=1\n",
    "y=0\n",
    "print( x or y)"
   ]
  },
  {
   "cell_type": "code",
   "execution_count": 34,
   "metadata": {},
   "outputs": [
    {
     "data": {
      "text/plain": [
       "[9, 2000]"
      ]
     },
     "execution_count": 34,
     "metadata": {},
     "output_type": "execute_result"
    }
   ],
   "source": [
    "x=int(input())\n",
    "y=int(input())\n",
    "z=list()\n",
    "z.append(x)\n",
    "z.append(y)\n",
    "z.sort()\n",
    "z"
   ]
  },
  {
   "cell_type": "code",
   "execution_count": null,
   "metadata": {},
   "outputs": [],
   "source": [
    "x=int(input(\"?\"))\n",
    "y=int(input(\"?\"))\n",
    "dict1={\n",
    "    '1':' an adult',\n",
    "    '0':'a minor'\n",
    "}\n",
    "dict2={\n",
    "    '1':'married',\n",
    "    '0':'single'\n",
    "}\n",
    "print(f'You are {dict1[x]}')"
   ]
  },
  {
   "cell_type": "code",
   "execution_count": 16,
   "metadata": {},
   "outputs": [
    {
     "name": "stdout",
     "output_type": "stream",
     "text": [
      "adult married\n"
     ]
    }
   ],
   "source": [
    "x=1\n",
    "b=1\n",
    "if(x==1):\n",
    "    if(b==1):\n",
    "        print('adult married')\n",
    "    elif(b==0):\n",
    "        print('adult single')\n",
    "    else:\n",
    "        print('invalid')\n",
    "elif(x==0):\n",
    "     if(b==1):\n",
    "        print('minor married')\n",
    "     elif(b==0):\n",
    "        print('minor single')\n",
    "     else:\n",
    "        print('invalid')\n",
    "else:\n",
    "    print('invalid')"
   ]
  },
  {
   "cell_type": "code",
   "execution_count": 24,
   "metadata": {},
   "outputs": [
    {
     "name": "stdout",
     "output_type": "stream",
     "text": [
      "2 :Prime\n",
      "3 :Prime\n",
      "4 :Composite\n",
      "5 :Prime\n",
      "6 :Composite\n",
      "7 :Prime\n",
      "8 :Composite\n",
      "9 :Composite\n",
      "10 :Composite\n",
      "11 :Prime\n",
      "12 :Composite\n"
     ]
    }
   ],
   "source": [
    "\n",
    "\n",
    "for i in range(2,13):\n",
    " a=0\n",
    " for j in range (2,i):\n",
    "    if i%j ==0:\n",
    "        a+=1\n",
    " if a<1:\n",
    "    print(i,':Prime')\n",
    " \n",
    " else:\n",
    "    print(i,':Composite')\n",
    "\n"
   ]
  },
  {
   "cell_type": "code",
   "execution_count": null,
   "metadata": {},
   "outputs": [],
   "source": [
    "\n",
    "for i in range(2,9):\n",
    " a=0\n",
    " for j in range (2,i):\n",
    "    if i%j ==0:\n",
    "        a+=1\n",
    " if a<1:\n",
    "     print(a,\":Prime number\")\n",
    "  \n",
    " else:\n",
    "     print(a,'composite number')"
   ]
  },
  {
   "cell_type": "code",
   "execution_count": 31,
   "metadata": {},
   "outputs": [
    {
     "name": "stdout",
     "output_type": "stream",
     "text": [
      "A three digit armstong number:  153 370 371 407 "
     ]
    }
   ],
   "source": [
    "z=[]\n",
    "for i in range(100,1000):\n",
    "   str1=str(i)\n",
    "   sum=int(str1[0])**3+int(str1[1])**3+int(str1[2])**3\n",
    "   if sum==i:\n",
    "       z.append(i)\n",
    "print(f'A three digit armstong number:',end=' ')\n",
    "for i in z:\n",
    "    print(i,end=' ')\n",
    "       \n",
    "       \n",
    "\n",
    "    "
   ]
  },
  {
   "cell_type": "code",
   "execution_count": 28,
   "metadata": {},
   "outputs": [
    {
     "data": {
      "text/plain": [
       "(50, 0, 0)"
      ]
     },
     "execution_count": 28,
     "metadata": {},
     "output_type": "execute_result"
    }
   ],
   "source": [
    "i=250\n",
    "x=i%100\n",
    "y=x%10\n",
    "z=y\n",
    "x,y,z\n",
    "    "
   ]
  },
  {
   "cell_type": "code",
   "execution_count": null,
   "metadata": {},
   "outputs": [],
   "source": []
  }
 ],
 "metadata": {
  "kernelspec": {
   "display_name": "Python 3",
   "language": "python",
   "name": "python3"
  },
  "language_info": {
   "codemirror_mode": {
    "name": "ipython",
    "version": 3
   },
   "file_extension": ".py",
   "mimetype": "text/x-python",
   "name": "python",
   "nbconvert_exporter": "python",
   "pygments_lexer": "ipython3",
   "version": "3.10.6 (main, Nov 14 2022, 16:10:14) [GCC 11.3.0]"
  },
  "orig_nbformat": 4,
  "vscode": {
   "interpreter": {
    "hash": "916dbcbb3f70747c44a77c7bcd40155683ae19c65e1c03b4aa3499c5328201f1"
   }
  }
 },
 "nbformat": 4,
 "nbformat_minor": 2
}
