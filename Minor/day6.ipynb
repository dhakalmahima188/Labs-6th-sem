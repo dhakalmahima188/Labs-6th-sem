{
 "cells": [
  {
   "cell_type": "code",
   "execution_count": 1,
   "metadata": {},
   "outputs": [
    {
     "name": "stdout",
     "output_type": "stream",
     "text": [
      "helloo\n",
      "\n",
      "keh chha\n",
      "\n"
     ]
    }
   ],
   "source": [
    "\n",
    "with open ('mahima.txt','r') as readfile:\n",
    "    for line in readfile:\n",
    "        print(line)"
   ]
  },
  {
   "cell_type": "code",
   "execution_count": 4,
   "metadata": {},
   "outputs": [],
   "source": [
    "with open ('mahima.txt','a') as appendfile:\n",
    "    appendfile.write('This is appended text')\n",
    "    "
   ]
  },
  {
   "cell_type": "code",
   "execution_count": 5,
   "metadata": {},
   "outputs": [
    {
     "name": "stdout",
     "output_type": "stream",
     "text": [
      "h\n",
      "e\n",
      "l\n",
      "l\n",
      "o\n",
      "o\n",
      "\n",
      "\n"
     ]
    }
   ],
   "source": [
    "with open ('mahima.txt','r') as readfile:\n",
    "    for line in readfile.readline(): #character by character\n",
    "        print(line)"
   ]
  },
  {
   "cell_type": "code",
   "execution_count": 9,
   "metadata": {},
   "outputs": [],
   "source": [
    "with open ('mahima.txt','w') as writefile:\n",
    "    writefile.write('This is wriiten and overriden text')\n",
    "    "
   ]
  },
  {
   "cell_type": "code",
   "execution_count": 10,
   "metadata": {},
   "outputs": [
    {
     "name": "stdout",
     "output_type": "stream",
     "text": [
      "This is wriiten and overriden text\n"
     ]
    }
   ],
   "source": [
    "readfile=open('mahima.txt','r')\n",
    "for line in readfile:\n",
    "    print(line)\n",
    "readfile.close()"
   ]
  },
  {
   "cell_type": "code",
   "execution_count": 17,
   "metadata": {},
   "outputs": [],
   "source": [
    "text=['hey ','mahima','dhakal']\n",
    "with open ('mahima.txt','w') as writefile:   \n",
    "    for value in text:\n",
    "     writefile.write(value)\n",
    "     writefile.write('\\n')\n",
    "     "
   ]
  },
  {
   "cell_type": "code",
   "execution_count": 23,
   "metadata": {},
   "outputs": [],
   "source": [
    "import csv\n",
    "csvfilepath='mahima.csv'\n",
    "with open(csvfilepath,'w') as csv_file:\n",
    "    field=['name','age']\n",
    "    writer=csv.DictWriter(csv_file,fieldnames=field)\n",
    "    writer.writeheader()\n",
    "    writer.writerow({'name':'mahima','age':12})\n",
    "\n",
    "    writer.writerow({'name':'nirajan','age':20})\n",
    "    \n",
    "    "
   ]
  },
  {
   "cell_type": "code",
   "execution_count": 26,
   "metadata": {},
   "outputs": [
    {
     "name": "stdout",
     "output_type": "stream",
     "text": [
      "mahima 12\n",
      "nirajan 20\n"
     ]
    }
   ],
   "source": [
    "import csv\n",
    "csvfilepath='mahima.csv'\n",
    "with open(csvfilepath,'r') as csv_file:\n",
    "    reader=csv.DictReader(csv_file)\n",
    "    for row in reader:\n",
    "        print(row['name'],row['age'])\n",
    "   \n",
    "    "
   ]
  },
  {
   "cell_type": "code",
   "execution_count": 28,
   "metadata": {},
   "outputs": [
    {
     "name": "stdout",
     "output_type": "stream",
     "text": [
      "['name', 'age']\n",
      "[]\n",
      "['mahima', '12']\n",
      "[]\n",
      "['nirajan', '20']\n"
     ]
    }
   ],
   "source": [
    "import csv\n",
    "csvfilepath='mahima.csv'\n",
    "with open(csvfilepath,'r') as csv_file:\n",
    "    reader=csv.reader(csv_file)\n",
    "    for row in reader:\n",
    "        print(row)\n",
    "   \n",
    "    "
   ]
  },
  {
   "cell_type": "code",
   "execution_count": null,
   "metadata": {},
   "outputs": [],
   "source": []
  }
 ],
 "metadata": {
  "kernelspec": {
   "display_name": "Python 3",
   "language": "python",
   "name": "python3"
  },
  "language_info": {
   "codemirror_mode": {
    "name": "ipython",
    "version": 3
   },
   "file_extension": ".py",
   "mimetype": "text/x-python",
   "name": "python",
   "nbconvert_exporter": "python",
   "pygments_lexer": "ipython3",
   "version": "3.10.6"
  },
  "orig_nbformat": 4,
  "vscode": {
   "interpreter": {
    "hash": "916dbcbb3f70747c44a77c7bcd40155683ae19c65e1c03b4aa3499c5328201f1"
   }
  }
 },
 "nbformat": 4,
 "nbformat_minor": 2
}
