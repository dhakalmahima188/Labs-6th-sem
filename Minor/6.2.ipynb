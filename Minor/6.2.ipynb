{
 "cells": [
  {
   "cell_type": "code",
   "execution_count": 1,
   "metadata": {},
   "outputs": [
    {
     "name": "stdout",
     "output_type": "stream",
     "text": [
      "[0, 0, 0, 0, 0]\n",
      "[0, 1, 1, 0, 0]\n",
      "[0, 1, 0, 0, 0]\n",
      "[0, 0, 0, 0, 0]\n",
      "[0, 0, 0, 0, 0]\n"
     ]
    }
   ],
   "source": [
    "def fill_square_with_L(square, L, x):\n",
    "    for i in range(len(square)):\n",
    "        for j in range(len(square[i])):\n",
    "            if i in range(x[0], x[0] + len(L)) and j in range(x[1], x[1] + len(L[0])):\n",
    "                square[i][j] = L[i - x[0]][j - x[1]]\n",
    "    return square\n",
    "\n",
    "square = [[0 for i in range(5)] for j in range(5)]\n",
    "L = [[1, 1], [1, 0]]\n",
    "x = (1, 1)\n",
    "\n",
    "filled_square = fill_square_with_L(square, L, x)\n",
    "for row in filled_square:\n",
    "    print(row)\n"
   ]
  },
  {
   "cell_type": "code",
   "execution_count": 9,
   "metadata": {},
   "outputs": [
    {
     "name": "stdout",
     "output_type": "stream",
     "text": [
      "[1, 1, 0, 0]\n",
      "[1, 0, 0, 0]\n",
      "[0, 0, 0, 0]\n",
      "[0, 0, 0, 0]\n"
     ]
    }
   ],
   "source": [
    "#filling square box with the given L shaped box with x in its random position in python\n",
    "def fill_square_with_L(square, L, x1, y1, x2, y2):\n",
    "    if x1 > x2 or y1 > y2:\n",
    "        return\n",
    "    if x2 - x1 + 1 < len(L) or y2 - y1 + 1 < len(L[0]):\n",
    "        return\n",
    "    if x1 <= x2 - len(L) + 1 and y1 <= y2 - len(L[0]) + 1:\n",
    "        for i in range(len(L)):\n",
    "            for j in range(len(L[i])):\n",
    "                square[x1 + i][y1 + j] = L[i][j]\n",
    "        return\n",
    "    mid_x = (x1 + x2) // 2\n",
    "    mid_y = (y1 + y2) // 2\n",
    "    fill_square_with_L(square, L, x1, y1, mid_x, mid_y)\n",
    "    fill_square_with_L(square, L, x1, mid_y + 1, mid_x, y2)\n",
    "    fill_square_with_L(square, L, mid_x + 1, y1, x2, mid_y)\n",
    "    fill_square_with_L(square, L, mid_x + 1, mid_y + 1, x2, y2)\n",
    "\n",
    "square = [[0 for i in range(4)] for j in range(4)]\n",
    "L = [[1, 1], [1, 0]]\n",
    "x = (1, 1)\n",
    "\n",
    "fill_square_with_L(square, L, 0, 0, len(square) - 1, len(square[0]) - 1)\n",
    "for row in square:\n",
    "    print(row)\n"
   ]
  },
  {
   "cell_type": "code",
   "execution_count": 5,
   "metadata": {},
   "outputs": [
    {
     "ename": "ValueError",
     "evalue": "shapes (2,2,2,2) and (4,4) not aligned: 2 (dim 3) != 4 (dim 0)",
     "output_type": "error",
     "traceback": [
      "\u001b[1;31m---------------------------------------------------------------------------\u001b[0m",
      "\u001b[1;31mValueError\u001b[0m                                Traceback (most recent call last)",
      "Cell \u001b[1;32mIn[5], line 18\u001b[0m\n\u001b[0;32m     16\u001b[0m     fill_square(square, L, mid_x \u001b[39m+\u001b[39m \u001b[39m1\u001b[39m, y1, x2, mid_y)\n\u001b[0;32m     17\u001b[0m     fill_square(square, L, mid_x \u001b[39m+\u001b[39m \u001b[39m1\u001b[39m, mid_y \u001b[39m+\u001b[39m \u001b[39m1\u001b[39m, x2, y2)\n\u001b[1;32m---> 18\u001b[0m fill_square(square,L,x,\u001b[39m0\u001b[39;49m,\u001b[39m0\u001b[39;49m,\u001b[39m8\u001b[39;49m,\u001b[39m8\u001b[39;49m)\n\u001b[0;32m     19\u001b[0m \u001b[39mfor\u001b[39;00m row \u001b[39min\u001b[39;00m square:\n\u001b[0;32m     20\u001b[0m     \u001b[39mprint\u001b[39m(row)\n",
      "Cell \u001b[1;32mIn[5], line 7\u001b[0m, in \u001b[0;36mfill_square\u001b[1;34m(square, L, x, x1, y1, x2, y2)\u001b[0m\n\u001b[0;32m      5\u001b[0m \u001b[39mdef\u001b[39;00m \u001b[39mfill_square\u001b[39m(square,L,x,x1,y1,x2,y2):\n\u001b[0;32m      6\u001b[0m     \u001b[39mfor\u001b[39;00m k \u001b[39min\u001b[39;00m L:\n\u001b[1;32m----> 7\u001b[0m         \u001b[39mif\u001b[39;00m np\u001b[39m.\u001b[39;49mdot(L[k],square)\u001b[39m>\u001b[39m\u001b[39m1\u001b[39m:\n\u001b[0;32m      8\u001b[0m             \u001b[39mreturn\u001b[39;00m\n\u001b[0;32m      9\u001b[0m         \u001b[39mfor\u001b[39;00m i \u001b[39min\u001b[39;00m \u001b[39mrange\u001b[39m(\u001b[39mlen\u001b[39m(L)):\n",
      "File \u001b[1;32m<__array_function__ internals>:200\u001b[0m, in \u001b[0;36mdot\u001b[1;34m(*args, **kwargs)\u001b[0m\n",
      "\u001b[1;31mValueError\u001b[0m: shapes (2,2,2,2) and (4,4) not aligned: 2 (dim 3) != 4 (dim 0)"
     ]
    }
   ],
   "source": [
    "import numpy as np\n",
    "square = np.zeros((4,4))\n",
    "x=[1,1]\n",
    "L=np.asarray([[[1,0],[1,1]],[[0,1],[1,1]],[[1,1],[0,1]],[[1,1],[1,0]]])\n",
    "def fill_square(square,L,x,x1,y1,x2,y2):\n",
    "    for k in L:\n",
    "        if np.dot(L[k],square)>1:\n",
    "            return\n",
    "        for i in range(len(L)):\n",
    "            for j in range(len(L[i])):\n",
    "                square[x1 + i][y1 + j] = L[i][j]\n",
    "    mid_x = (x1 + x2) // 2\n",
    "    mid_y = (y1 + y2) // 2\n",
    "    fill_square(square, L, x1, y1, mid_x, mid_y)\n",
    "    fill_square(square, L, x1, mid_y + 1, mid_x, y2)\n",
    "    fill_square(square, L, mid_x + 1, y1, x2, mid_y)\n",
    "    fill_square(square, L, mid_x + 1, mid_y + 1, x2, y2)\n",
    "fill_square(square,L,x,0,0,8,8)\n",
    "for row in square:\n",
    "    print(row)\n",
    "    \n",
    "    \n",
    "    \n",
    "    \n",
    "    \n",
    "    \n",
    "    "
   ]
  },
  {
   "cell_type": "code",
   "execution_count": null,
   "metadata": {},
   "outputs": [],
   "source": []
  }
 ],
 "metadata": {
  "kernelspec": {
   "display_name": "Python 3",
   "language": "python",
   "name": "python3"
  },
  "language_info": {
   "codemirror_mode": {
    "name": "ipython",
    "version": 3
   },
   "file_extension": ".py",
   "mimetype": "text/x-python",
   "name": "python",
   "nbconvert_exporter": "python",
   "pygments_lexer": "ipython3",
   "version": "3.10.1"
  },
  "orig_nbformat": 4,
  "vscode": {
   "interpreter": {
    "hash": "04eb5fd3382f5ae6ecd8e5ea5943a43c2b77f84302c9ef3aee2bb26e0a62d38e"
   }
  }
 },
 "nbformat": 4,
 "nbformat_minor": 2
}
