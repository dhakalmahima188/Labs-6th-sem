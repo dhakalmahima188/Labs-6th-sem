{
 "cells": [
  {
   "cell_type": "code",
   "execution_count": null,
   "metadata": {},
   "outputs": [],
   "source": [
    "#classses consists instance variable and methods\n",
    "#constructor : __init__ method\n",
    "class Box:\n",
    "    pass\n",
    "ob=Box()\n",
    "print(ob)"
   ]
  },
  {
   "cell_type": "code",
   "execution_count": 2,
   "metadata": {},
   "outputs": [
    {
     "name": "stdout",
     "output_type": "stream",
     "text": [
      "1000\n"
     ]
    }
   ],
   "source": [
    "class Box:\n",
    "    def __init__(self):\n",
    "        self.length=10\n",
    "        self.breadth=20\n",
    "        self.height=5\n",
    "    def volume(self):\n",
    "        return self.length*self.breadth*self.height\n",
    "ob=Box()\n",
    "print(ob.volume())\n",
    "\n",
    "    \n",
    "        "
   ]
  },
  {
   "cell_type": "code",
   "execution_count": 5,
   "metadata": {},
   "outputs": [
    {
     "name": "stdout",
     "output_type": "stream",
     "text": [
      "red\n",
      "6\n"
     ]
    }
   ],
   "source": [
    "class Box:\n",
    "    color=\"red\"\n",
    "    def __init__(self,length,breadth,height): #self bhaneko instance variable : instance variable ko value haru constructor ma pass garne\n",
    "        self.length=length\n",
    "        self.breadth=breadth\n",
    "        self.height=height\n",
    "    def volume(self):\n",
    "        return self.length*self.breadth*self.height\n",
    "ob=Box(1,2,3) #own copy of instance variable\n",
    "print(ob.color)\n",
    "print(ob.volume())\n"
   ]
  }
 ],
 "metadata": {
  "kernelspec": {
   "display_name": "Python 3",
   "language": "python",
   "name": "python3"
  },
  "language_info": {
   "codemirror_mode": {
    "name": "ipython",
    "version": 3
   },
   "file_extension": ".py",
   "mimetype": "text/x-python",
   "name": "python",
   "nbconvert_exporter": "python",
   "pygments_lexer": "ipython3",
   "version": "3.10.1 (tags/v3.10.1:2cd268a, Dec  6 2021, 19:10:37) [MSC v.1929 64 bit (AMD64)]"
  },
  "orig_nbformat": 4,
  "vscode": {
   "interpreter": {
    "hash": "04eb5fd3382f5ae6ecd8e5ea5943a43c2b77f84302c9ef3aee2bb26e0a62d38e"
   }
  }
 },
 "nbformat": 4,
 "nbformat_minor": 2
}
