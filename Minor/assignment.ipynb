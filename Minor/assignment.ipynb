{
 "cells": [
  {
   "cell_type": "code",
   "execution_count": 3,
   "id": "3c79214e",
   "metadata": {},
   "outputs": [
    {
     "name": "stdout",
     "output_type": "stream",
     "text": [
      "Welcome\n",
      "Welcome\n"
     ]
    }
   ],
   "source": [
    "def my_greets():\n",
    "    print(\"Welcome\")\n",
    "    \n",
    "my_greets()\n",
    "my_greets()"
   ]
  },
  {
   "cell_type": "code",
   "execution_count": 6,
   "id": "dae12d0b",
   "metadata": {},
   "outputs": [
    {
     "name": "stdout",
     "output_type": "stream",
     "text": [
      "The greater of 100 or 200 is : 200\n",
      "The smaller of 100 or 200 is : 100\n"
     ]
    }
   ],
   "source": [
    "def max2(m,n):\n",
    "    if m>n:\n",
    "        return m\n",
    "    else : \n",
    "        return n\n",
    "\n",
    "def min2(m,n):\n",
    "    if m<n:\n",
    "        return m\n",
    "    else : \n",
    "        return n\n",
    "print(\"The greater of 100 or 200 is :\", max2(100,200))\n",
    "print(\"The smaller of 100 or 200 is :\",min2(100,200))"
   ]
  },
  {
   "cell_type": "code",
   "execution_count": 7,
   "id": "585efbbc",
   "metadata": {},
   "outputs": [
    {
     "name": "stdout",
     "output_type": "stream",
     "text": [
      "1 mile = 1.61 Kilometers\n",
      "2 mile = 3.22 Kilometers\n",
      "3 mile = 4.83 Kilometers\n",
      "4 mile = 6.44 Kilometers\n",
      "5 mile = 8.05 Kilometers\n"
     ]
    }
   ],
   "source": [
    "def mile2km(mi):\n",
    "    return mi*1.61\n",
    "for i in range(1,6):\n",
    "    print(f\"{i} mile = {mile2km(i)} Kilometers\")"
   ]
  },
  {
   "cell_type": "code",
   "execution_count": 10,
   "id": "d7aacb11",
   "metadata": {},
   "outputs": [
    {
     "name": "stdout",
     "output_type": "stream",
     "text": [
      "10 Celcius = 50.0 Fahrenheit\n",
      "20 Celcius = 68.0 Fahrenheit\n",
      "30 Celcius = 86.0 Fahrenheit\n",
      "40 Celcius = 104.0 Fahrenheit\n",
      "50 Celcius = 122.0 Fahrenheit\n"
     ]
    }
   ],
   "source": [
    "def cel2fah(cel):\n",
    "    return cel * 9/5 + 32\n",
    "for i in range(10,51,10):\n",
    "    print(f\"{i} Celcius = {cel2fah(i)} Fahrenheit\")"
   ]
  },
  {
   "cell_type": "code",
   "execution_count": 12,
   "id": "7eb9494b",
   "metadata": {},
   "outputs": [
    {
     "data": {
      "text/plain": [
       "55"
      ]
     },
     "execution_count": 12,
     "metadata": {},
     "output_type": "execute_result"
    }
   ],
   "source": [
    "def sum(n):\n",
    "    if n == 1:\n",
    "        return 1\n",
    "    else:\n",
    "        return n+sum(n-1)\n",
    "sum(10)"
   ]
  },
  {
   "cell_type": "code",
   "execution_count": 15,
   "id": "8afff737",
   "metadata": {},
   "outputs": [
    {
     "name": "stdout",
     "output_type": "stream",
     "text": [
      "Enter x2\n",
      "Enter n10\n"
     ]
    },
    {
     "data": {
      "text/plain": [
       "1024"
      ]
     },
     "execution_count": 15,
     "metadata": {},
     "output_type": "execute_result"
    }
   ],
   "source": [
    "def power(x,n):\n",
    "    if n==1:\n",
    "        return x\n",
    "    else:\n",
    "        return power(x,n-1)*x\n",
    "x = int(input(\"Enter x\"))\n",
    "n = int(input(\"Enter n\"))\n",
    "power(x,n)"
   ]
  },
  {
   "cell_type": "code",
   "execution_count": 54,
   "id": "4b55789c",
   "metadata": {},
   "outputs": [
    {
     "data": {
      "text/plain": [
       "[2, 4, 6, 8, 10]"
      ]
     },
     "execution_count": 54,
     "metadata": {},
     "output_type": "execute_result"
    }
   ],
   "source": [
    "n_list = [ 1,2,3,4,5,6,7,8,9,10]\n",
    "even_list = [] \n",
    "for i in filter(lambda x:x%2==0, n_list):\n",
    "    even_list.append(i)\n",
    "even_list\n"
   ]
  },
  {
   "cell_type": "code",
   "execution_count": 23,
   "id": "20d8e3a3",
   "metadata": {},
   "outputs": [
    {
     "data": {
      "text/plain": [
       "[2, 4, 6, 8, 10]"
      ]
     },
     "execution_count": 23,
     "metadata": {},
     "output_type": "execute_result"
    }
   ],
   "source": [
    "n_list = [ 1,2,3,4,5,6,7,8,9,10]\n",
    "even_list = [] \n",
    "even_list = list( filter(lambda x:x%2==0, n_list))\n",
    "even_list"
   ]
  },
  {
   "cell_type": "code",
   "execution_count": 45,
   "id": "44d34c77",
   "metadata": {},
   "outputs": [
    {
     "data": {
      "text/plain": [
       "['A', 'B', 'C', 'D']"
      ]
     },
     "execution_count": 45,
     "metadata": {},
     "output_type": "execute_result"
    }
   ],
   "source": [
    "lower_list = ['a','b','c','d']\n",
    "\n",
    "def to_upper(char):\n",
    "    return chr(ord(char)-32)\n",
    "\n",
    "upper_a_list = list(map(to_upper,lower_list))\n",
    "upper_a_list"
   ]
  },
  {
   "cell_type": "code",
   "execution_count": 2,
   "id": "02307f5e",
   "metadata": {},
   "outputs": [
    {
     "data": {
      "text/plain": [
       "['A', 'B', 'C', 'D']"
      ]
     },
     "execution_count": 2,
     "metadata": {},
     "output_type": "execute_result"
    }
   ],
   "source": [
    "lower_list = ['a','b','c','d']\n",
    "\n",
    "def to_upper(char):\n",
    "    return char.upper()\n",
    "\n",
    "upper_a_list = list(map(to_upper,lower_list))\n",
    "upper_a_list"
   ]
  },
  {
   "cell_type": "code",
   "execution_count": 53,
   "id": "5930a817",
   "metadata": {},
   "outputs": [
    {
     "data": {
      "text/plain": [
       "5050"
      ]
     },
     "execution_count": 53,
     "metadata": {},
     "output_type": "execute_result"
    }
   ],
   "source": [
    "from functools import reduce\n",
    "\n",
    "reduce(lambda x,y:x+y,range(1,101))"
   ]
  },
  {
   "cell_type": "code",
   "execution_count": 57,
   "id": "155b76f7",
   "metadata": {},
   "outputs": [
    {
     "name": "stdout",
     "output_type": "stream",
     "text": [
      "hello\n"
     ]
    }
   ],
   "source": [
    "def greetings():\n",
    "    def say_hi():\n",
    "        print('hello')\n",
    "    say_hi()\n",
    "greetings()"
   ]
  },
  {
   "cell_type": "code",
   "execution_count": 66,
   "id": "10cfd415",
   "metadata": {},
   "outputs": [
    {
     "data": {
      "text/plain": [
       "14"
      ]
     },
     "execution_count": 66,
     "metadata": {},
     "output_type": "execute_result"
    }
   ],
   "source": [
    "def calc():\n",
    "    a = 3\n",
    "    b = 5\n",
    "    def mul_add(x):\n",
    "        return a * x + b\n",
    "    return mul_add\n",
    "calc()(3)\n"
   ]
  },
  {
   "cell_type": "code",
   "execution_count": 69,
   "id": "34c7b33b",
   "metadata": {},
   "outputs": [
    {
     "data": {
      "text/plain": [
       "14"
      ]
     },
     "execution_count": 69,
     "metadata": {},
     "output_type": "execute_result"
    }
   ],
   "source": [
    "def calc():\n",
    "    a = 3\n",
    "    b = 5\n",
    "    return  lambda x:a*x+b\n",
    "num = calc()\n",
    "num(3)"
   ]
  },
  {
   "cell_type": "code",
   "execution_count": 71,
   "id": "2b89a92e",
   "metadata": {},
   "outputs": [
    {
     "name": "stdout",
     "output_type": "stream",
     "text": [
      "woof woof\n"
     ]
    }
   ],
   "source": [
    "class Dog:\n",
    "    def bark(self):\n",
    "        print(\"woof woof\")\n",
    "    \n",
    "my_dog = Dog()\n",
    "my_dog.bark()\n"
   ]
  },
  {
   "cell_type": "code",
   "execution_count": 73,
   "id": "0917f893",
   "metadata": {},
   "outputs": [
    {
     "name": "stdout",
     "output_type": "stream",
     "text": [
      "Bingo: woof woof\n"
     ]
    }
   ],
   "source": [
    "class Dog:\n",
    "    def __init__(self,name):\n",
    "        self.name = name\n",
    "        \n",
    "    def bark(self):\n",
    "        print(f\"{self.name}: woof woof\")\n",
    "    \n",
    "my_dog = Dog(\"Bingo\")\n",
    "my_dog.bark()\n"
   ]
  },
  {
   "cell_type": "code",
   "execution_count": null,
   "id": "e02f86da",
   "metadata": {},
   "outputs": [],
   "source": []
  }
 ],
 "metadata": {
  "kernelspec": {
   "display_name": "Python 3",
   "language": "python",
   "name": "python3"
  },
  "language_info": {
   "codemirror_mode": {
    "name": "ipython",
    "version": 3
   },
   "file_extension": ".py",
   "mimetype": "text/x-python",
   "name": "python",
   "nbconvert_exporter": "python",
   "pygments_lexer": "ipython3",
   "version": "3.10.1 (tags/v3.10.1:2cd268a, Dec  6 2021, 19:10:37) [MSC v.1929 64 bit (AMD64)]"
  },
  "vscode": {
   "interpreter": {
    "hash": "04eb5fd3382f5ae6ecd8e5ea5943a43c2b77f84302c9ef3aee2bb26e0a62d38e"
   }
  }
 },
 "nbformat": 4,
 "nbformat_minor": 5
}
