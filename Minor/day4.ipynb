{
 "cells": [
  {
   "cell_type": "code",
   "execution_count": 11,
   "metadata": {},
   "outputs": [
    {
     "name": "stdout",
     "output_type": "stream",
     "text": [
      "0\n",
      "1\n",
      "2\n",
      "3\n",
      "4\n",
      "5\n"
     ]
    }
   ],
   "source": [
    "#data structure in python\n",
    "#sequence data structure in python\n",
    "#list and tuple data types\n",
    "#way to organize a data: space and effeciency\n",
    "#big data: data hat cant be proceesesd within a machine capacity : facebook, insta amazon\n",
    "\n",
    "person1=['aa',10,'kathmandu'] #collection of data of different data types\n",
    "person2=['aa',20,'kathmandu']\n",
    "person3=['aa',30,'kathmandu']\n",
    "person4=['ee',20,'kathmandu']\n",
    "\n",
    "#array : data type same\n",
    "#sci-kit learn\n",
    "list=[1,2,3]\n",
    "list=list+[2,3,4] #concatenate\n",
    "list\n",
    "\n",
    "for i in range(len(list)):\n",
    "    print(i)\n",
    "\n"
   ]
  },
  {
   "cell_type": "code",
   "execution_count": 21,
   "metadata": {},
   "outputs": [
    {
     "name": "stdout",
     "output_type": "stream",
     "text": [
      "20.0\n"
     ]
    }
   ],
   "source": [
    "total=person1+person2+person3+person4\n",
    "# print(total)\n",
    "age=0\n",
    "for i in range(1,len(total),3):\n",
    "    # print(total[i])\n",
    "    age=age+total[i]\n",
    "print(age/4)\n",
    "\n",
    "   "
   ]
  },
  {
   "cell_type": "code",
   "execution_count": 28,
   "metadata": {},
   "outputs": [
    {
     "name": "stdout",
     "output_type": "stream",
     "text": [
      "[10, 20, 30, 20]\n",
      "20.0\n"
     ]
    }
   ],
   "source": [
    "#using slicing\n",
    "total=person1+person2+person3+person4\n",
    "# print(total)\n",
    "age=0\n",
    "check=total[1::3]\n",
    "print(check)\n",
    "for i in  check:\n",
    "    # print(total[i])\n",
    "    age=age+i\n",
    "print(age/4)\n",
    "\n",
    "   "
   ]
  },
  {
   "cell_type": "code",
   "execution_count": 34,
   "metadata": {},
   "outputs": [
    {
     "data": {
      "text/plain": [
       "20"
      ]
     },
     "execution_count": 34,
     "metadata": {},
     "output_type": "execute_result"
    }
   ],
   "source": [
    "total[len(total)-1]\n",
    "total[:]\n",
    "total[-2]"
   ]
  },
  {
   "cell_type": "code",
   "execution_count": null,
   "metadata": {},
   "outputs": [],
   "source": []
  }
 ],
 "metadata": {
  "kernelspec": {
   "display_name": "Python 3",
   "language": "python",
   "name": "python3"
  },
  "language_info": {
   "codemirror_mode": {
    "name": "ipython",
    "version": 3
   },
   "file_extension": ".py",
   "mimetype": "text/x-python",
   "name": "python",
   "nbconvert_exporter": "python",
   "pygments_lexer": "ipython3",
   "version": "3.10.6 (main, Nov 14 2022, 16:10:14) [GCC 11.3.0]"
  },
  "orig_nbformat": 4,
  "vscode": {
   "interpreter": {
    "hash": "916dbcbb3f70747c44a77c7bcd40155683ae19c65e1c03b4aa3499c5328201f1"
   }
  }
 },
 "nbformat": 4,
 "nbformat_minor": 2
}
